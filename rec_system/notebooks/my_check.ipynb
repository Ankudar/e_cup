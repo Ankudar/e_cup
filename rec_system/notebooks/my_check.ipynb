{
 "cells": [
  {
   "cell_type": "markdown",
   "id": "c958869b",
   "metadata": {},
   "source": [
    "\n",
    "# OZON RecSys Baseline - Рекомендательная система для категории Apparel\n",
    "Этот ноутбук содержит базовое решение для задачи предсказания следующей покупки пользователя в категории одежды, обуви и аксессуаров.\n",
    "\n",
    "## Задача\n",
    "- Предсказать топ-100 товаров для каждого пользователя из тестовой выборки\n",
    "- Метрика оценки: NDCG@100\n",
    "- Данные: ~38GB в формате parquet, 1.6B взаимодействий, 19M заказов\n"
   ]
  },
  {
   "cell_type": "code",
   "execution_count": 1,
   "id": "4bfc915a",
   "metadata": {},
   "outputs": [],
   "source": [
    "import pandas as pd\n",
    "import numpy as np\n",
    "import glob\n",
    "from pathlib import Path\n",
    "from collections import defaultdict\n",
    "import subprocess\n",
    "import json\n",
    "import matplotlib.pyplot as plt\n",
    "import seaborn as sns\n",
    "from tqdm import tqdm\n",
    "import dask.dataframe as dd\n",
    "\n",
    "plt.style.use('seaborn-v0_8')\n",
    "sns.set_palette(\"husl\")"
   ]
  },
  {
   "cell_type": "markdown",
   "id": "80f7b779",
   "metadata": {},
   "source": [
    "## 1. Загрузка и анализ данных\n"
   ]
  },
  {
   "cell_type": "code",
   "execution_count": 2,
   "id": "e5ba60ca",
   "metadata": {},
   "outputs": [],
   "source": [
    "def load_train_data():\n",
    "    print(\"Загружаем тренировочные данные через Dask...\")\n",
    "\n",
    "    orders_path = '/home/root6/python/e_cup/rec_system/data/raw/ml_ozon_recsys_train/final_apparel_orders_data/*/*.parquet'\n",
    "    tracker_path = '/home/root6/python/e_cup/rec_system/data/raw/ml_ozon_recsys_train/final_apparel_tracker_data/*/*.parquet'\n",
    "    items_path = '/home/root6/python/e_cup/rec_system/data/raw/ml_ozon_recsys_train/final_apparel_items_data/*.parquet'\n",
    "    categories_path = '/home/root6/python/e_cup/rec_system/data/raw/ml_ozon_recsys_train_final_categories_tree/*.parquet'\n",
    "\n",
    "    # --- Загружаем заказы ---\n",
    "    orders_ddf = dd.read_parquet(orders_path)\n",
    "    print(f\"Найдено файлов заказов: {orders_ddf.npartitions} частей\")\n",
    "\n",
    "    # --- Загружаем взаимодействия ---\n",
    "    tracker_ddf = dd.read_parquet(tracker_path)\n",
    "    print(f\"Найдено файлов взаимодействий: {tracker_ddf.npartitions} частей\")\n",
    "\n",
    "    # --- Загружаем товары ---\n",
    "    items_ddf = dd.read_parquet(items_path)\n",
    "    print(f\"Найдено файлов товаров: {items_ddf.npartitions} частей\")\n",
    "\n",
    "    # --- Загружаем категории ---\n",
    "    filter_ids = {7500, 7697, 17777}\n",
    "    categories_ddf = dd.read_parquet(categories_path)\n",
    "\n",
    "    def filter_ids_len5(df):\n",
    "        mask = df['ids'].apply(lambda x: bool(set(x) & filter_ids) and len(x) == 5)\n",
    "        return df[mask]\n",
    "\n",
    "    categories_ddf = categories_ddf.map_partitions(filter_ids_len5)\n",
    "\n",
    "    print(f\"Категорий после фильтрации: {categories_ddf.shape[0].compute():,}\")\n",
    "\n",
    "    # --- Возвращаем Dask DataFrame ---\n",
    "    return orders_ddf, tracker_ddf, items_ddf, categories_ddf"
   ]
  },
  {
   "cell_type": "code",
   "execution_count": 3,
   "id": "489f590b",
   "metadata": {},
   "outputs": [
    {
     "name": "stdout",
     "output_type": "stream",
     "text": [
      "Загружаем тренировочные данные через Dask...\n",
      "Найдено файлов заказов: 28 частей\n",
      "Найдено файлов взаимодействий: 298 частей\n",
      "Найдено файлов товаров: 100 частей\n",
      "Категорий после фильтрации: 291\n"
     ]
    }
   ],
   "source": [
    "orders_df, tracker_df, items_df, category_df = load_train_data()"
   ]
  },
  {
   "cell_type": "code",
   "execution_count": 13,
   "id": "e4ee6563",
   "metadata": {},
   "outputs": [
    {
     "data": {
      "application/vnd.microsoft.datawrangler.viewer.v0+json": {
       "columns": [
        {
         "name": "index",
         "rawType": "int64",
         "type": "integer"
        },
        {
         "name": "item_id",
         "rawType": "int32",
         "type": "integer"
        },
        {
         "name": "user_id",
         "rawType": "int32",
         "type": "integer"
        },
        {
         "name": "created_timestamp",
         "rawType": "datetime64[ns]",
         "type": "datetime"
        },
        {
         "name": "last_status",
         "rawType": "string",
         "type": "string"
        },
        {
         "name": "last_status_timestamp",
         "rawType": "datetime64[ns]",
         "type": "datetime"
        },
        {
         "name": "created_date",
         "rawType": "category",
         "type": "unknown"
        }
       ],
       "ref": "188bc635-323e-498c-948c-d6b2dc816a24",
       "rows": [
        [
         "0",
         "7510328",
         "981",
         "2025-07-02 08:27:17.686000",
         "delivered_orders",
         "2025-07-06 16:14:12",
         "2025-07-02"
        ],
        [
         "1",
         "136809690",
         "4670",
         "2025-07-02 17:17:30.423000",
         "canceled_orders",
         "2025-07-06 19:35:07",
         "2025-07-02"
        ],
        [
         "2",
         "232878073",
         "12341",
         "2025-07-02 15:17:46.393000",
         "canceled_orders",
         "2025-07-11 15:36:40",
         "2025-07-02"
        ],
        [
         "3",
         "42322137",
         "12860",
         "2025-07-02 00:40:52.503000",
         "delivered_orders",
         "2025-07-04 19:44:48",
         "2025-07-02"
        ],
        [
         "4",
         "22480781",
         "15330",
         "2025-07-02 07:25:11.226000",
         "delivered_orders",
         "2025-07-03 20:07:33",
         "2025-07-02"
        ]
       ],
       "shape": {
        "columns": 6,
        "rows": 5
       }
      },
      "text/html": [
       "<div>\n",
       "<style scoped>\n",
       "    .dataframe tbody tr th:only-of-type {\n",
       "        vertical-align: middle;\n",
       "    }\n",
       "\n",
       "    .dataframe tbody tr th {\n",
       "        vertical-align: top;\n",
       "    }\n",
       "\n",
       "    .dataframe thead th {\n",
       "        text-align: right;\n",
       "    }\n",
       "</style>\n",
       "<table border=\"1\" class=\"dataframe\">\n",
       "  <thead>\n",
       "    <tr style=\"text-align: right;\">\n",
       "      <th></th>\n",
       "      <th>item_id</th>\n",
       "      <th>user_id</th>\n",
       "      <th>created_timestamp</th>\n",
       "      <th>last_status</th>\n",
       "      <th>last_status_timestamp</th>\n",
       "      <th>created_date</th>\n",
       "    </tr>\n",
       "  </thead>\n",
       "  <tbody>\n",
       "    <tr>\n",
       "      <th>0</th>\n",
       "      <td>7510328</td>\n",
       "      <td>981</td>\n",
       "      <td>2025-07-02 08:27:17.686</td>\n",
       "      <td>delivered_orders</td>\n",
       "      <td>2025-07-06 16:14:12</td>\n",
       "      <td>2025-07-02</td>\n",
       "    </tr>\n",
       "    <tr>\n",
       "      <th>1</th>\n",
       "      <td>136809690</td>\n",
       "      <td>4670</td>\n",
       "      <td>2025-07-02 17:17:30.423</td>\n",
       "      <td>canceled_orders</td>\n",
       "      <td>2025-07-06 19:35:07</td>\n",
       "      <td>2025-07-02</td>\n",
       "    </tr>\n",
       "    <tr>\n",
       "      <th>2</th>\n",
       "      <td>232878073</td>\n",
       "      <td>12341</td>\n",
       "      <td>2025-07-02 15:17:46.393</td>\n",
       "      <td>canceled_orders</td>\n",
       "      <td>2025-07-11 15:36:40</td>\n",
       "      <td>2025-07-02</td>\n",
       "    </tr>\n",
       "    <tr>\n",
       "      <th>3</th>\n",
       "      <td>42322137</td>\n",
       "      <td>12860</td>\n",
       "      <td>2025-07-02 00:40:52.503</td>\n",
       "      <td>delivered_orders</td>\n",
       "      <td>2025-07-04 19:44:48</td>\n",
       "      <td>2025-07-02</td>\n",
       "    </tr>\n",
       "    <tr>\n",
       "      <th>4</th>\n",
       "      <td>22480781</td>\n",
       "      <td>15330</td>\n",
       "      <td>2025-07-02 07:25:11.226</td>\n",
       "      <td>delivered_orders</td>\n",
       "      <td>2025-07-03 20:07:33</td>\n",
       "      <td>2025-07-02</td>\n",
       "    </tr>\n",
       "  </tbody>\n",
       "</table>\n",
       "</div>"
      ],
      "text/plain": [
       "     item_id  user_id       created_timestamp       last_status  \\\n",
       "0    7510328      981 2025-07-02 08:27:17.686  delivered_orders   \n",
       "1  136809690     4670 2025-07-02 17:17:30.423   canceled_orders   \n",
       "2  232878073    12341 2025-07-02 15:17:46.393   canceled_orders   \n",
       "3   42322137    12860 2025-07-02 00:40:52.503  delivered_orders   \n",
       "4   22480781    15330 2025-07-02 07:25:11.226  delivered_orders   \n",
       "\n",
       "  last_status_timestamp created_date  \n",
       "0   2025-07-06 16:14:12   2025-07-02  \n",
       "1   2025-07-06 19:35:07   2025-07-02  \n",
       "2   2025-07-11 15:36:40   2025-07-02  \n",
       "3   2025-07-04 19:44:48   2025-07-02  \n",
       "4   2025-07-03 20:07:33   2025-07-02  "
      ]
     },
     "execution_count": 13,
     "metadata": {},
     "output_type": "execute_result"
    }
   ],
   "source": [
    "orders_df.head(5)"
   ]
  },
  {
   "cell_type": "code",
   "execution_count": 14,
   "id": "1be30147",
   "metadata": {},
   "outputs": [
    {
     "data": {
      "application/vnd.microsoft.datawrangler.viewer.v0+json": {
       "columns": [
        {
         "name": "index",
         "rawType": "int64",
         "type": "integer"
        },
        {
         "name": "item_id",
         "rawType": "int32",
         "type": "integer"
        },
        {
         "name": "user_id",
         "rawType": "int32",
         "type": "integer"
        },
        {
         "name": "timestamp",
         "rawType": "datetime64[ns]",
         "type": "datetime"
        },
        {
         "name": "action_type",
         "rawType": "string",
         "type": "string"
        },
        {
         "name": "action_widget",
         "rawType": "string",
         "type": "string"
        },
        {
         "name": "date",
         "rawType": "string",
         "type": "string"
        }
       ],
       "ref": "ad47aca5-b7d7-4999-b965-ab775fa82f34",
       "rows": [
        [
         "0",
         "678602",
         "4211601",
         "2025-05-05 18:11:15",
         "page_view",
         "cart.cartSplit",
         "2025-05-05"
        ],
        [
         "1",
         "678602",
         "4211601",
         "2025-05-05 18:12:57",
         "view_description",
         "pdp.characteristics",
         "2025-05-05"
        ],
        [
         "2",
         "678602",
         "4211601",
         "2025-05-05 18:12:52",
         "view_description",
         "pdp.richContent",
         "2025-05-05"
        ],
        [
         "3",
         "678602",
         "4211601",
         "2025-05-05 10:39:08",
         "page_view",
         "cart.cartSplit",
         "2025-05-05"
        ],
        [
         "4",
         "678602",
         "4211601",
         "2025-05-05 18:12:57",
         "view_description",
         "pdp.characteristics",
         "2025-05-05"
        ]
       ],
       "shape": {
        "columns": 6,
        "rows": 5
       }
      },
      "text/html": [
       "<div>\n",
       "<style scoped>\n",
       "    .dataframe tbody tr th:only-of-type {\n",
       "        vertical-align: middle;\n",
       "    }\n",
       "\n",
       "    .dataframe tbody tr th {\n",
       "        vertical-align: top;\n",
       "    }\n",
       "\n",
       "    .dataframe thead th {\n",
       "        text-align: right;\n",
       "    }\n",
       "</style>\n",
       "<table border=\"1\" class=\"dataframe\">\n",
       "  <thead>\n",
       "    <tr style=\"text-align: right;\">\n",
       "      <th></th>\n",
       "      <th>item_id</th>\n",
       "      <th>user_id</th>\n",
       "      <th>timestamp</th>\n",
       "      <th>action_type</th>\n",
       "      <th>action_widget</th>\n",
       "      <th>date</th>\n",
       "    </tr>\n",
       "  </thead>\n",
       "  <tbody>\n",
       "    <tr>\n",
       "      <th>0</th>\n",
       "      <td>678602</td>\n",
       "      <td>4211601</td>\n",
       "      <td>2025-05-05 18:11:15</td>\n",
       "      <td>page_view</td>\n",
       "      <td>cart.cartSplit</td>\n",
       "      <td>2025-05-05</td>\n",
       "    </tr>\n",
       "    <tr>\n",
       "      <th>1</th>\n",
       "      <td>678602</td>\n",
       "      <td>4211601</td>\n",
       "      <td>2025-05-05 18:12:57</td>\n",
       "      <td>view_description</td>\n",
       "      <td>pdp.characteristics</td>\n",
       "      <td>2025-05-05</td>\n",
       "    </tr>\n",
       "    <tr>\n",
       "      <th>2</th>\n",
       "      <td>678602</td>\n",
       "      <td>4211601</td>\n",
       "      <td>2025-05-05 18:12:52</td>\n",
       "      <td>view_description</td>\n",
       "      <td>pdp.richContent</td>\n",
       "      <td>2025-05-05</td>\n",
       "    </tr>\n",
       "    <tr>\n",
       "      <th>3</th>\n",
       "      <td>678602</td>\n",
       "      <td>4211601</td>\n",
       "      <td>2025-05-05 10:39:08</td>\n",
       "      <td>page_view</td>\n",
       "      <td>cart.cartSplit</td>\n",
       "      <td>2025-05-05</td>\n",
       "    </tr>\n",
       "    <tr>\n",
       "      <th>4</th>\n",
       "      <td>678602</td>\n",
       "      <td>4211601</td>\n",
       "      <td>2025-05-05 18:12:57</td>\n",
       "      <td>view_description</td>\n",
       "      <td>pdp.characteristics</td>\n",
       "      <td>2025-05-05</td>\n",
       "    </tr>\n",
       "  </tbody>\n",
       "</table>\n",
       "</div>"
      ],
      "text/plain": [
       "   item_id  user_id           timestamp       action_type  \\\n",
       "0   678602  4211601 2025-05-05 18:11:15         page_view   \n",
       "1   678602  4211601 2025-05-05 18:12:57  view_description   \n",
       "2   678602  4211601 2025-05-05 18:12:52  view_description   \n",
       "3   678602  4211601 2025-05-05 10:39:08         page_view   \n",
       "4   678602  4211601 2025-05-05 18:12:57  view_description   \n",
       "\n",
       "         action_widget        date  \n",
       "0       cart.cartSplit  2025-05-05  \n",
       "1  pdp.characteristics  2025-05-05  \n",
       "2      pdp.richContent  2025-05-05  \n",
       "3       cart.cartSplit  2025-05-05  \n",
       "4  pdp.characteristics  2025-05-05  "
      ]
     },
     "execution_count": 14,
     "metadata": {},
     "output_type": "execute_result"
    }
   ],
   "source": [
    "tracker_df.head(5)"
   ]
  },
  {
   "cell_type": "code",
   "execution_count": 15,
   "id": "bde9cc6c",
   "metadata": {},
   "outputs": [
    {
     "data": {
      "application/vnd.microsoft.datawrangler.viewer.v0+json": {
       "columns": [
        {
         "name": "index",
         "rawType": "int64",
         "type": "integer"
        },
        {
         "name": "item_id",
         "rawType": "int32",
         "type": "integer"
        },
        {
         "name": "itemname",
         "rawType": "string",
         "type": "string"
        },
        {
         "name": "attributes",
         "rawType": "object",
         "type": "unknown"
        },
        {
         "name": "fclip_embed",
         "rawType": "object",
         "type": "unknown"
        },
        {
         "name": "catalogid",
         "rawType": "int64",
         "type": "integer"
        },
        {
         "name": "variant_id",
         "rawType": "int32",
         "type": "integer"
        },
        {
         "name": "model_id",
         "rawType": "int32",
         "type": "integer"
        }
       ],
       "ref": "aeb825a1-770b-432d-b74f-33d96a5bd16e",
       "rows": [
        [
         "0",
         "400301",
         "Очки солнцезащитные",
         "[{'attribute_name': 'Type', 'attribute_value': 'Очки солнцезащитные', 'attribute_isaspect': False, 'attribute_showascharacteristic': True}\n {'attribute_name': 'Brand', 'attribute_value': 'Нет бренда', 'attribute_isaspect': False, 'attribute_showascharacteristic': True}\n {'attribute_name': 'Annotation', 'attribute_value': 'Представляем вам эксклюзивные винтажные солнцезащитные очки в металлической оправе из 2000-х. Это не просто аксессуар, а воплощение элегантности и стиля ушедшей эпохи.  \\nМеталлическая оправа гарантирует прочность и долговечность, сохраняя утонченный внешний вид годами. Их оригинальный дизайн придаст вашему образу респектабельный вид, демонстрируя вашу любовь к классике и стильным решениям.  \\nЭти винтажные очки не только защищают глаза от ультрафиолета, но и придают вашему стилю особый шарм и эстетическую привлекательность. Носите их с достоинством – ведь это не просто аксессуар, а важная деталь вашего уникального образа.  \\n\\n(Сохранены: смысл, стиль, структура текста, ключевые характеристики товара. Изменения: небольшая стилистическая шлифовка для естественности, замена синонимов (\"железная\"→\"металлическая\", \"приверженность\"→\"любовь\"), более плавные переходы между предложениями.)', 'attribute_isaspect': False, 'attribute_showascharacteristic': True}\n {'attribute_name': 'ColorBase', 'attribute_value': 'розовый', 'attribute_isaspect': True, 'attribute_showascharacteristic': True}\n {'attribute_name': 'AgeO', 'attribute_value': 'Взрослая', 'attribute_isaspect': False, 'attribute_showascharacteristic': True}\n {'attribute_name': 'SexMaster', 'attribute_value': 'Женский', 'attribute_isaspect': False, 'attribute_showascharacteristic': True}\n {'attribute_name': 'SexMaster', 'attribute_value': 'Мужской', 'attribute_isaspect': False, 'attribute_showascharacteristic': True}\n {'attribute_name': 'Name', 'attribute_value': 'Очки солнцезащитныеsilumao', 'attribute_isaspect': False, 'attribute_showascharacteristic': False}\n {'attribute_name': 'ColorBase_Forfilter', 'attribute_value': 'Розовый', 'attribute_isaspect': False, 'attribute_showascharacteristic': False}]",
         "[ 3.20238531e-01  1.17662579e-01 -7.84551978e-01  4.16819900e-01\n -2.46105269e-01 -3.99725288e-01 -3.18207294e-01  2.17970684e-01\n -1.54594213e-01 -5.78193665e-02  2.15506256e-01 -9.53711569e-03\n  5.67308545e-01  3.31593603e-02 -5.86072922e-01  5.92324771e-02\n  2.86565751e-01 -6.87047839e-02 -1.37052238e-02  3.24038595e-01\n -5.82855463e-01  1.72889352e-01 -6.44149780e-01 -1.73944801e-01\n -4.26550120e-01 -2.67861784e-01 -8.50849897e-02 -4.33661267e-02\n  1.10332894e+00  1.05463088e-01 -1.14712417e-02  2.34745994e-01\n -8.98414925e-02 -1.33496940e-01  8.91689509e-02  2.98916936e-01\n -9.08547044e-02 -5.89969754e-01  2.67581940e-02 -1.33839160e-01\n  3.79261911e-01 -1.34231359e-01  2.38201767e-01 -3.23837370e-01\n  2.00108111e-01 -1.55514926e-01  4.44181591e-01 -3.51401865e-01\n -2.72677302e-01 -1.75051123e-01  8.46666843e-02 -7.15100646e-01\n  5.41874826e-01  2.35981703e-01 -9.23920870e-01 -3.47051799e-01\n -4.66492474e-02  3.00497621e-01 -3.35245967e-01  1.67428374e-01\n -1.21139503e+00 -1.79041997e-02  1.35287702e-01  7.43602097e-01\n -1.77465126e-01  2.11034209e-01  3.82376313e-01 -7.20731020e-01\n  7.27010548e-01 -5.48680305e-01 -8.67923617e-01  2.01744840e-01\n -1.79869980e-02  3.55003029e-02  4.18935567e-02 -9.79437679e-02\n -2.00812846e-01 -3.07957619e-01  6.87951565e-01 -1.83008835e-02\n  3.74175817e-01 -5.73989630e-01 -3.87156546e-01  2.46411487e-01\n  9.01109427e-02  2.77465582e-02 -9.49743688e-02 -1.08990803e-01\n  1.13867474e+00 -1.02467227e+00  2.82517850e-01  3.77591670e-01\n  4.61146086e-02  5.20936370e-01 -2.25860551e-01 -4.14743811e-01\n -2.66636223e-01 -7.03379512e-02  1.71847686e-01 -2.87602782e-01\n -1.53265774e-01  7.75786936e-02  2.33129814e-01 -1.54267207e-01\n  7.88042545e-01  3.72856379e-01 -5.91316342e-01 -1.44733131e-01\n -7.06515610e-02  2.64927298e-01 -1.29146028e+00 -3.60460758e-01\n -2.00012401e-01  5.40355742e-02 -1.77988231e-01 -1.42413124e-01\n  1.74383909e-01  1.09703779e-01 -1.29786342e-01  3.32935154e-01\n -2.17196047e-01  1.96895763e-01 -3.35868448e-02 -1.55463263e-01\n  5.95912710e-02 -2.76104867e-01 -4.08074915e-01  2.74682611e-01\n -5.16528189e-02  1.85032457e-01 -1.95262551e-01 -2.98475981e-01\n -5.89986891e-02  3.90681148e-01  9.94107127e-03  8.98786068e-01\n -1.90123945e-01  2.97644526e-01 -6.34599864e-01  3.63345206e-01\n  2.70654052e-01  4.65010405e-01  6.00716025e-02  3.67929161e-01\n -5.89878783e-02 -6.80084169e-01 -1.12132415e-01 -1.46757305e-01\n -4.96867865e-01 -4.82368767e-02  1.80686817e-01 -2.96006978e-01\n  3.16981530e+00  2.23347470e-01 -1.89353257e-01  7.09511340e-01\n  5.31484544e-01  1.61424518e-01  5.42931408e-02 -9.48370248e-02\n -3.94857615e-01 -1.19526029e-01 -4.30635452e-01 -3.80014181e-01\n  3.09122741e-01 -1.33604479e+00 -7.97617078e-01  5.88117242e-02\n  3.84788901e-01  3.38446796e-01 -9.80953336e-01 -5.53913593e-01\n  2.38134474e-01 -1.59970805e-01 -5.37231266e-01  3.26277792e-01\n  2.48834848e-01  4.65226442e-01 -3.88579905e-01 -4.67519403e-01\n -1.01123191e-01 -2.25852191e-01 -8.36830199e-01  8.31598714e-02\n  1.89326644e-01 -8.68073404e-02  3.81463200e-01  1.18696727e-01\n  2.56523669e-01  1.78093940e-01  1.21047735e-01  6.49551630e-01\n  1.16402090e-01  2.33560711e-01  6.08246207e-01  3.45426977e-01\n  8.65375996e-02  7.58829564e-02  3.12487543e-01 -5.02968654e-02\n  1.93849504e-01 -2.16958940e-01  5.36273122e-01 -5.15802622e-01\n  2.18463391e-01  4.32724357e-02 -2.51958132e-01  1.18546531e-01\n -2.14008987e-03 -9.02713954e-01 -2.01844171e-01 -5.96222579e-01\n  9.71239507e-02  5.15778065e-01 -5.70026040e-01  3.99104655e-02\n -4.29110914e-01 -6.19515896e-01 -1.42491221e-01  1.73519635e+00\n  3.24142128e-01 -3.57464254e-01  2.88383454e-01 -4.00385648e-01\n  2.01690793e-02  2.33972430e-01  4.16388243e-01  3.04839283e-01\n  7.90831819e-03 -9.53493342e-02 -1.74333215e-01  5.36942601e-01\n -5.14552891e-02 -9.76359546e-02  1.34633720e-01 -3.49780351e-01\n  1.14662439e-01 -9.20045525e-02  1.63237765e-01  3.26880366e-02\n  6.84078336e-02 -2.08999455e-01  9.97530222e-02 -2.37734452e-01\n -2.85037816e-01  6.11836433e-01  2.28087500e-01  7.36271977e-01\n  3.93271029e-01 -3.70164573e-01 -4.19054449e-01  2.35680252e-01\n  2.32383355e-01 -8.67380977e-01 -5.75455308e-01  3.53420675e-01\n -1.08239233e+00  1.26631868e+00 -1.54505253e-01  3.18765640e-01\n  4.86801267e-01 -1.98137462e-01  1.10353306e-01 -3.83109719e-01\n -1.96747512e-01  1.10489242e-01 -6.73800558e-02 -9.11195576e-02\n -1.71508417e-01 -3.68334740e-01  1.65840894e-01  2.27555096e-01\n -1.47778332e-01 -3.83158028e-03 -3.98549974e-01 -2.85668075e-01\n -9.02606845e-02  1.19849458e-01  1.84561461e-01 -9.31853801e-02\n  2.59938389e-01  3.49215031e-01  1.29231513e-01  2.20833808e-01\n  3.10759902e-01  2.92044431e-02  3.79133105e-01 -4.34816480e-02\n  1.08936675e-01 -3.01444590e-01  4.55078065e-01  1.63568377e-01\n  3.73431921e-01 -3.55400145e-02  9.08329040e-02 -1.90085754e-01\n  4.03597713e-01 -2.15718508e-01  5.15897572e-03 -2.30330870e-01\n -6.50930047e-01  4.48635757e-01 -4.07340348e-01  4.45318460e-01\n -1.03163433e+00 -1.51453555e-01  1.37997091e-01 -3.17338657e+00\n -3.97884130e-01  2.24493831e-01 -2.89701223e-01 -4.64798391e-01\n -3.88991177e-01 -8.15598965e-02  2.16691405e-01  8.29248786e-01\n -1.22257590e-01  2.43847951e-01  4.09463793e-03 -3.55714798e-01\n -1.55589566e-01  2.87266940e-01 -2.33673975e-01 -3.63389790e-01\n -5.25968015e-01 -5.95051646e-01 -4.99854505e-01 -4.39773023e-01\n -6.19437993e-02 -1.66659132e-01 -4.04984444e-01 -1.70837402e-01\n -3.43530327e-01  1.81165799e-01 -5.13157845e-02 -6.21848226e-01\n -3.84611309e-01  4.09418903e-02  6.78694487e-01  4.00423288e-01\n -3.65637243e-02 -5.81598163e-01  6.65029764e-01 -8.19506347e-02\n -5.53490639e-01 -2.08209783e-01  2.76163876e-01 -2.36474216e-01\n -1.31250691e+00  7.00116634e-01 -2.08603889e-02  4.89872754e-01\n -4.16822851e-01 -6.03176430e-02 -3.53826195e-01 -6.56667948e-02\n  3.34819019e-01  1.23050138e-01 -4.52522844e-01  2.71542311e-01\n  4.84742284e-01 -3.75418454e-01  1.27321199e-01 -2.93774843e-01\n -1.63421303e-01 -1.35816969e-02 -3.54838252e-01  3.60219330e-01\n -9.76544261e-01 -9.20347452e-01  5.86733818e-02  2.75195837e-01\n -9.25926790e-02  8.37836638e-02  6.42210543e-01  3.67494315e-01\n  1.46211654e-01 -9.53115076e-02 -4.26716655e-02  1.84802324e-01\n  1.94828436e-01 -8.69153500e-01 -1.04340419e-01  1.50422916e-01\n -3.95610839e-01  5.67644775e-01 -3.05994868e-01  7.23570436e-02\n -3.78435701e-01  5.49685061e-02 -1.81453973e-02  7.04703480e-02\n -1.29145190e-01  3.86476099e-01 -2.71067172e-02 -3.95609379e-01\n  1.16136813e+00 -2.20306098e-01 -5.32680750e-03  2.08047628e-01\n  2.64116883e-01  3.83619875e-01 -3.13625813e-01 -5.30376971e-01\n  1.79153681e-02  2.66964465e-01 -8.06345046e-02 -3.64948928e-01\n  5.62898666e-02 -3.78393590e-01 -2.26871818e-01  3.62868667e-01\n  5.02179861e-01  1.83685124e-01 -5.14726415e-02  6.29588217e-02\n -5.98573744e-01  4.45178747e-02 -3.82689595e-01  1.54659733e-01\n  2.44652614e-01 -1.04284137e-02 -3.22688878e-01 -4.56641763e-02\n  1.15109777e+00 -3.21113944e-01 -3.50335956e-01  2.08861977e-01\n  2.17043474e-01 -4.29007858e-01  3.86501700e-01  2.55654025e+00\n  4.00884338e-02 -6.58559263e-01 -3.22998703e-01  2.67791748e-01\n -8.21926594e-01 -1.98863953e-01 -1.02917172e-01  7.01052845e-02\n  2.15927720e-01 -6.50933161e-02 -1.01208043e+00 -2.58374006e-01\n -2.14970887e-01  3.78455222e-01 -6.37459636e-01 -7.04243481e-02\n  1.97519183e-01 -2.06406459e-01  3.88792932e-01  5.89208305e-01\n -1.26896948e-01  2.66603082e-02 -2.52084374e-01  5.35196662e-02\n -1.99319065e-01 -1.04402602e-01  4.35093641e-01  1.90496780e-02\n  1.40681326e-01 -6.94603920e-01 -3.61556590e-01  2.36415714e-02\n  2.71578193e-01 -4.84357566e-01  2.41102487e-01 -3.42907310e-01\n -8.50275040e-01 -3.44721615e-01 -3.08087260e-01  2.57356614e-02\n -2.30807692e-01 -1.00624360e-01  4.66853380e-05  9.84497488e-01\n  3.54345411e-01 -7.34767169e-02 -3.59529436e-01  4.57994610e-01\n  3.89665127e-01  1.02230179e+00  2.77833849e-01  4.73399043e-01\n -3.21796209e-01 -2.34428227e-01 -4.45335433e-02 -4.89551798e-02\n  3.75476852e-02 -1.50897250e-01 -1.58686399e+00 -1.28769875e-03\n -3.02255064e-01  3.03842634e-01 -2.36323774e-02  6.33901834e-01\n -4.03875828e-01 -3.13807666e-01 -4.88876253e-01 -3.34268659e-02\n -3.26451689e-01 -1.88692242e-01  1.69514492e-01 -2.65165091e-01\n  8.63488391e-02  3.84501994e-01 -2.90359557e-01 -1.30842865e-01\n -2.11398959e-01 -7.18369782e-02 -2.39964470e-01  3.88684422e-02]",
         "17080",
         "243954236",
         "33306429"
        ],
        [
         "1",
         "678602",
         "Футболка GOLDUSTIM Футболка женская",
         "[{'attribute_name': 'Type', 'attribute_value': 'Футболка', 'attribute_isaspect': False, 'attribute_showascharacteristic': True}\n {'attribute_name': 'Brand', 'attribute_value': 'GOLDUSTIM', 'attribute_isaspect': False, 'attribute_showascharacteristic': True}\n {'attribute_name': 'Annotation', 'attribute_value': 'Представляем вашему вниманию стильную фуксия футболку женскую оверсайз от бренда GOLDUSTIM. Эта футболка идеально подходит для повседневного гардероба и легко сочетается с любыми нарядами благодаря своему универсальному цвету и современному дизайну.\\nФуксия футболка женская оверсайз создана из качественного материала, обеспечивающего комфорт на протяжении всего дня. Свободный крой позволяет свободно двигаться и чувствовать себя уверенно в любой ситуации, будь то прогулка по городу или встреча с друзьями. Оверсайз фасон подчеркивает модные тенденции и добавляет образу свежести и актуальности.\\nЭта футболка оверсайз женская является отличным выбором для создания стильных и удобных образов. Плотный фуксия цвет подчеркивает изысканность и элегантность, а также легко сочетается с другими оттенками вашего гардероба.\\nФутболка фуксия женская оверсайз доступна в широкой размерной линейке , что делает ее идеально подходящей для тех, кто ценит комфорт и стиль. Если вы ищете футболку, которая станет основой вашего гардероба и дополнит ваш повседневный стиль, эта футболка фуксия оверсайз – именно то, что вам нужно.\\nЗдесь вы найдете футболки женские оверсайз, которые сочетают в себе высокое качество пошива и современный дизайн. фуксия футболка женская оверсайз GOLDUSTIM – это выбор уверенной в себе женщины, стремящейся к максимальному комфорту и стильному внешнему виду. Не упустите возможность пополнить свой гардероб этой модной и практичной вещью.\\nПусть эта замечательная футболка фуксия женская оверсайз станет вашим любимым элементом гардероба, который подчеркнет вашу индивидуальность и актуальность образа. Заказывайте прямо сейчас и наслаждайтесь стилем и комфортом каждый день.', 'attribute_isaspect': False, 'attribute_showascharacteristic': True}\n {'attribute_name': 'AgeO', 'attribute_value': 'Взрослая', 'attribute_isaspect': False, 'attribute_showascharacteristic': False}\n {'attribute_name': 'ColorBase', 'attribute_value': 'фуксия', 'attribute_isaspect': True, 'attribute_showascharacteristic': True}\n {'attribute_name': 'ColorBase', 'attribute_value': 'ярко-розовый', 'attribute_isaspect': True, 'attribute_showascharacteristic': True}\n {'attribute_name': 'ColorBase', 'attribute_value': 'малиново-розовый', 'attribute_isaspect': True, 'attribute_showascharacteristic': True}\n {'attribute_name': 'ColorName', 'attribute_value': 'фуксия, ярко-розовый, малиново-розовый', 'attribute_isaspect': True, 'attribute_showascharacteristic': True}\n {'attribute_name': 'RussianSizeClothes', 'attribute_value': '50', 'attribute_isaspect': True, 'attribute_showascharacteristic': True}\n {'attribute_name': 'SizeManufacturer', 'attribute_value': '50', 'attribute_isaspect': True, 'attribute_showascharacteristic': True}\n {'attribute_name': 'SizeM', 'attribute_value': '44', 'attribute_isaspect': False, 'attribute_showascharacteristic': True}\n {'attribute_name': 'SexMaster', 'attribute_value': 'Женский', 'attribute_isaspect': False, 'attribute_showascharacteristic': True}\n {'attribute_name': 'HeightM', 'attribute_value': '173 см', 'attribute_isaspect': False, 'attribute_showascharacteristic': True}\n {'attribute_name': 'SizeGrid', 'attribute_value': 'Универсальная размерная сетка: Женская одежда', 'attribute_isaspect': False, 'attribute_showascharacteristic': False}\n {'attribute_name': 'Material', 'attribute_value': 'Хлопок', 'attribute_isaspect': False, 'attribute_showascharacteristic': True}\n {'attribute_name': 'Material', 'attribute_value': 'Лайкра', 'attribute_isaspect': False, 'attribute_showascharacteristic': True}\n {'attribute_name': 'Material', 'attribute_value': 'Кулирная гладь', 'attribute_isaspect': False, 'attribute_showascharacteristic': True}\n {'attribute_name': 'Composition', 'attribute_value': '95% хлопок 5% эластан', 'attribute_isaspect': False, 'attribute_showascharacteristic': True}\n {'attribute_name': 'InnerMaterial', 'attribute_value': 'Без подклада', 'attribute_isaspect': False, 'attribute_showascharacteristic': True}\n {'attribute_name': 'StyleApparel', 'attribute_value': 'Повседневный', 'attribute_isaspect': False, 'attribute_showascharacteristic': True}\n {'attribute_name': 'Season', 'attribute_value': 'На любой сезон', 'attribute_isaspect': False, 'attribute_showascharacteristic': True}\n {'attribute_name': 'clothescut', 'attribute_value': 'оверсайз', 'attribute_isaspect': False, 'attribute_showascharacteristic': True}\n {'attribute_name': 'SleeveLength', 'attribute_value': 'Короткий', 'attribute_isaspect': False, 'attribute_showascharacteristic': True}\n {'attribute_name': 'FilterSizeINT', 'attribute_value': 'L', 'attribute_isaspect': False, 'attribute_showascharacteristic': False}\n {'attribute_name': 'FilterSizeINT', 'attribute_value': 'XL', 'attribute_isaspect': False, 'attribute_showascharacteristic': False}\n {'attribute_name': 'NumItemsDcml', 'attribute_value': '1', 'attribute_isaspect': False, 'attribute_showascharacteristic': True}\n {'attribute_name': 'Name', 'attribute_value': 'фуксия футболка женская оверсайз, 50 размер, GOLDUSTIM', 'attribute_isaspect': False, 'attribute_showascharacteristic': False}\n {'attribute_name': 'TypeSport', 'attribute_value': 'Бег', 'attribute_isaspect': False, 'attribute_showascharacteristic': False}\n {'attribute_name': 'TypeSport', 'attribute_value': 'Танцы', 'attribute_isaspect': False, 'attribute_showascharacteristic': False}\n {'attribute_name': 'TypeSport', 'attribute_value': 'Фитнес', 'attribute_isaspect': False, 'attribute_showascharacteristic': False}\n {'attribute_name': 'TypeSport', 'attribute_value': 'Йога', 'attribute_isaspect': False, 'attribute_showascharacteristic': False}\n {'attribute_name': 'TypeSport', 'attribute_value': 'Велоспорт', 'attribute_isaspect': False, 'attribute_showascharacteristic': False}\n {'attribute_name': 'TypeSport', 'attribute_value': 'Туризм', 'attribute_isaspect': False, 'attribute_showascharacteristic': False}\n {'attribute_name': 'ColorBase_Forfilter', 'attribute_value': 'Розовый', 'attribute_isaspect': False, 'attribute_showascharacteristic': False}]",
         "[ 4.36009496e-01  6.33966804e-01  2.97418535e-02  9.84763205e-02\n  1.79576144e-01 -2.00236410e-01 -4.68982965e-01  1.65305808e-01\n -1.24419570e-01 -8.08204114e-02  3.01105797e-01  3.35820109e-01\n -3.22487533e-01  2.90725470e-01 -5.54666102e-01 -8.78119618e-02\n -1.28756571e+00 -1.99961707e-01  5.86894751e-01 -2.94981897e-01\n -5.08046895e-03 -3.18137050e-01 -3.61172616e-01 -8.02019238e-03\n -4.81836140e-01 -4.51353073e-01  1.91585317e-01 -6.19129986e-02\n -1.61648244e-02 -1.46528035e-02 -4.34573084e-01  9.35227871e-02\n  1.04058340e-01 -4.46716249e-01 -9.09235030e-02 -1.96821809e-01\n -2.21059814e-01  2.36002237e-01  6.93449736e-01  1.51664063e-01\n  2.12612689e-01 -9.17967483e-02  4.54198629e-01  1.25596225e-01\n -1.41228661e-01 -1.85426027e-02 -4.77896184e-01  1.50125623e-02\n  7.21872374e-02  1.54069826e-01  9.24424231e-02  3.04820240e-02\n  3.77651900e-01 -9.13621634e-02 -6.91776395e-01 -1.15015313e-01\n -4.40191388e-01  4.70416099e-01  7.33081937e-01  9.34733987e-01\n -1.11126637e+00  1.84104845e-01  3.45568150e-01  4.33598429e-01\n  6.36817515e-03 -2.45689407e-01 -1.23545170e-01 -4.55413550e-01\n -2.38787651e-01 -5.34643173e-01 -3.91393602e-01  8.20179284e-01\n -1.65814772e-01  5.33093989e-01 -9.11729932e-02 -8.65875125e-01\n  3.60924363e-01  1.26657560e-02 -3.98037583e-03 -2.05335692e-01\n  2.02094853e-01 -1.78779930e-01 -4.42704678e-01 -8.73438418e-02\n  2.57930309e-01  9.10362303e-02  1.06072485e-01  4.10156071e-01\n  7.00773716e-01  8.21038783e-02  1.32221431e-01 -1.13804787e-02\n  3.62694621e-01 -6.71320915e-01 -3.21305037e-01  1.02889955e-01\n -8.90460387e-02 -2.54573435e-01 -2.95408726e-01  9.55440998e-02\n -5.73072135e-02  3.51508319e-01  4.10670012e-01 -3.18222344e-01\n  1.55304670e-01 -1.70071974e-01  2.73462474e-01 -5.82137823e-01\n -9.36656296e-02 -1.26499489e-01 -6.44655824e-01 -3.32823008e-01\n -5.43792427e-01  2.03186005e-01  3.02100956e-01 -3.41872275e-02\n -6.83431327e-02  7.47903347e-01  2.05959991e-01 -5.37490785e-01\n  6.89615011e-01 -1.17808148e-01  5.01738131e-01 -1.87728196e-01\n  1.62451014e-01 -6.70188785e-01 -2.78217494e-02 -1.01527154e-01\n  4.81258631e-01 -2.90713131e-01  3.01773965e-01 -1.76043943e-01\n  2.36583427e-02 -5.57754710e-02 -7.59801343e-02  2.94572830e-01\n  6.55303299e-02  1.26106009e-01  2.10635796e-01  4.82953340e-02\n  5.05025625e-01  3.89194727e-01  1.96841747e-01  4.27389681e-01\n -5.68175688e-02 -7.73493946e-02  2.73881465e-01  7.13956237e-01\n  1.52963400e-01  7.61921883e-01 -3.84467870e-01  6.20237410e-01\n  3.13428879e+00 -1.86575681e-01  3.78368199e-02  1.20162398e-01\n -1.65472597e-01  9.36555415e-02 -3.95735912e-02 -1.33093074e-01\n -7.54556134e-02  5.03421485e-01 -7.13493347e-01 -3.91985029e-02\n  1.69935524e-01  1.09402627e-01 -7.03413308e-01 -6.90274000e-01\n -4.71708238e-01 -1.58927470e-01  4.21175480e-01 -4.56263542e-01\n  2.36507267e-01 -1.83876336e-01 -2.32325748e-01  9.28238183e-02\n  3.61971855e-02  4.32578117e-01  3.84073853e-02  1.48001432e-01\n  5.02896011e-01  3.41802537e-02 -5.95014572e-01  1.00042306e-01\n -2.22809762e-01  1.19965933e-01  1.55472291e+00  1.91375613e-04\n -1.20515168e-01 -1.11172743e-01 -4.64815259e-01  7.02161610e-01\n  1.30483106e-01 -7.59247839e-02 -8.20397854e-01  3.71991903e-01\n  9.62121636e-02  3.50337029e-01  5.68861961e-02  2.20957875e-01\n  1.18177700e+00 -4.16683048e-01  1.52236998e-01 -1.60197020e-02\n  2.79241383e-01  3.75388414e-02  3.28540295e-01  1.43567473e-01\n  2.00384229e-01  1.22348316e-01 -6.49932325e-02 -5.66884875e-01\n  1.15161009e-01 -1.72686577e-02  3.42347145e-01  1.88095585e-01\n  1.91360712e-04  1.84968024e-01  1.88485965e-01  1.54456645e-02\n  9.67858881e-02  7.69351125e-02  8.33937079e-02 -3.18689048e-01\n  7.49130249e-01  3.90063137e-01 -7.83563778e-02  3.73723537e-01\n  1.28277019e-01 -9.09343213e-02  1.08403099e+00  5.29264212e-02\n -3.15820038e-01 -1.30102962e-01 -3.58361065e-01 -1.62112266e-01\n -3.15754324e-01  2.43402123e-01  1.58185422e-01  9.44138914e-02\n -3.76199216e-01  9.98306870e-01  2.76671171e-01  2.69593000e-01\n -1.96571603e-01  8.18131864e-02 -2.52213359e-01 -6.45403624e-01\n  6.66964948e-01  8.76743793e-02 -1.30723453e+00 -3.62374425e-01\n  4.09853101e-01 -3.91677648e-01 -6.87813640e-01 -4.50438619e-01\n -3.01442891e-01 -6.91995323e-02 -5.23061216e-01  8.59790623e-01\n -5.06049395e-02 -6.97201490e-03  1.42632872e-02  8.91252682e-02\n  4.15083431e-02 -3.79578590e-01 -4.33883965e-01  1.77570194e-01\n -7.84907937e-01 -4.40036863e-01 -1.08658589e-01  1.90036565e-01\n  3.48953009e-01  5.24373829e-01 -1.11329958e-01 -2.06515551e-01\n  2.33279437e-01 -1.30695671e-01  5.74114501e-01 -2.53881872e-01\n  7.72343755e-01 -7.02818334e-02  4.95191067e-02  6.87326252e-01\n -2.65891016e-01 -4.17223334e-01  4.29704115e-02  3.71571243e-01\n -5.53078651e-02  7.28430152e-02 -4.01013523e-01 -3.17983508e-01\n  2.26380304e-01 -4.51304018e-01 -1.29026175e-01  9.35197771e-02\n  1.38092861e-01 -4.41387177e-01  1.80163071e-01 -2.00833499e-01\n  7.62327909e-01 -6.53260291e-01  2.66878307e-01 -7.78716505e-02\n  1.54601559e-01 -4.08087134e-01 -7.05962539e-01 -3.13578486e+00\n -9.13398638e-02 -3.40173095e-02 -4.96221662e-01 -1.31990695e+00\n  1.97552547e-01  1.21171579e-01  3.72574836e-01  4.98183966e-01\n -8.25745165e-02 -8.81635308e-01  8.43706310e-01 -3.54727834e-01\n  8.98217782e-03  1.68424129e-01 -4.75857079e-01  1.17823386e+00\n -1.36390400e+00 -1.44959792e-01 -2.61725396e-01 -1.34710714e-01\n -1.01279581e+00 -4.32535499e-01  4.67899919e-01 -4.10287827e-03\n -2.92209059e-01 -5.50090075e-02 -7.72496164e-02 -2.50425994e-01\n  3.36806357e-01 -7.02140987e-01 -1.89569026e-01 -6.20826706e-02\n  4.50279951e-01  5.72916269e-02  1.45586520e-01 -1.02545917e-01\n  4.88513708e-01 -2.03039795e-01 -1.53583199e-01  2.34992355e-01\n -2.03950334e+00 -2.91536272e-01  9.82572079e-01 -2.14113742e-01\n -6.38880581e-02 -4.04458225e-01  1.77450478e-01  1.42948627e-01\n -2.03865513e-01  1.68782175e-01 -4.03331101e-01  3.19298625e-01\n -2.09881663e-01 -2.85474300e-01  5.78186870e-01 -1.17816627e-02\n -2.95093358e-01  1.96505725e-01 -3.15909207e-01  3.84588838e-01\n -1.20544851e-01 -1.97526395e-01  1.01463087e-01 -5.13952851e-01\n  1.02212861e-01 -2.22634420e-01 -3.60162616e-01  4.80734020e-01\n  1.29282624e-02  8.21594894e-03 -3.19196165e-01 -5.59569061e-01\n  3.86043608e-01 -4.72119659e-01 -1.22469544e-01  3.91252637e-02\n -3.84027928e-01  3.38902771e-01 -6.78585172e-02  4.78714049e-01\n -1.26927495e-01  5.06646037e-01 -3.89796972e-01 -2.72002757e-01\n  2.78011829e-01  5.35784960e-01 -1.96956694e-01  5.06962776e-01\n  2.52949297e-01 -4.08072114e-01 -3.73244166e-01 -2.05795199e-01\n -1.02405548e-02  2.27905527e-01 -8.65407526e-01  1.35163283e+00\n  4.64432329e-01  1.18731253e-01  2.09067449e-01 -4.08967853e-01\n -2.30705991e-01  4.53559607e-01 -3.34697105e-02  1.87561244e-01\n -4.39852476e-03  1.69574782e-01  2.83656865e-01  6.28561378e-01\n -7.77326152e-02  3.55183542e-01 -2.72629321e-01 -2.16699809e-01\n -1.03451639e-01 -4.77938056e-01 -2.97664464e-01 -3.00922066e-01\n  1.06507695e+00  5.91126263e-01  1.32353231e-01  1.45495623e-01\n -4.35413122e-02 -2.93605626e-02 -3.35149348e-01  1.91429591e+00\n -5.22545040e-01 -2.53287315e-01 -2.68072009e-01  1.69374645e-01\n -2.35506445e-02  4.82627004e-02  8.00526142e-03 -1.02454372e-01\n  1.23698130e-01 -2.48646274e-01  6.89626038e-02  2.61726677e-01\n -2.53112048e-01 -1.68839544e-02 -5.36331654e-01  1.50888950e-01\n -2.79798776e-01 -4.10279259e-02 -1.19183198e-01  4.62912381e-01\n  4.57693413e-02 -2.36954153e-01 -3.49358141e-01 -5.38989246e-01\n -1.05263099e-01  1.38160661e-01 -6.87266827e-01  1.39030218e-01\n  2.68665671e-01 -4.16301638e-02 -8.06903124e-01 -2.87671685e-01\n  5.11642098e-02 -1.60521120e-01  4.10538524e-01  7.57239401e-01\n -2.52095491e-01 -1.58671826e-01 -4.60707724e-01 -6.88777447e-01\n  7.07507879e-03  2.63708293e-01 -2.77517617e-01  1.99168265e+00\n  1.09045851e+00 -1.03004873e-02  2.76195556e-01 -6.94680959e-02\n  2.81456053e-01  5.06644487e-01 -2.45663315e-01  5.72133362e-02\n -2.01430604e-01 -3.76647115e-01 -5.37674904e-01 -5.66607952e-01\n -3.41933608e-01 -4.77689087e-01 -1.91380668e+00  6.74298108e-02\n -3.09781134e-01  4.57572877e-01 -3.79059076e-01  5.33013046e-01\n -1.49355948e-01  1.34603888e-01  2.84521431e-02  5.87411225e-04\n  1.68498009e-01 -1.22348696e-01  6.24418929e-02 -4.15425360e-01\n  4.98607337e-01 -1.17615290e-01  1.67400494e-01  2.87946880e-01\n  6.84104562e-02  4.91512418e-01  1.43126264e-01 -1.76413402e-01]",
         "7508",
         "8039633",
         "27057398"
        ],
        [
         "2",
         "746401",
         "Худи Patagonia",
         "[{'attribute_name': 'Type', 'attribute_value': 'Худи', 'attribute_isaspect': False, 'attribute_showascharacteristic': True}\n {'attribute_name': 'Brand', 'attribute_value': 'Patagonia', 'attribute_isaspect': False, 'attribute_showascharacteristic': True}\n {'attribute_name': 'Annotation', 'attribute_value': 'Patagonia', 'attribute_isaspect': False, 'attribute_showascharacteristic': True}\n {'attribute_name': 'ColorBase', 'attribute_value': 'серый', 'attribute_isaspect': True, 'attribute_showascharacteristic': True}\n {'attribute_name': 'RussianSizeClothes', 'attribute_value': '52', 'attribute_isaspect': True, 'attribute_showascharacteristic': True}\n {'attribute_name': 'SizeManufacturer', 'attribute_value': '3XL', 'attribute_isaspect': True, 'attribute_showascharacteristic': True}\n {'attribute_name': 'SexMaster', 'attribute_value': 'Мужской', 'attribute_isaspect': False, 'attribute_showascharacteristic': True}\n {'attribute_name': 'SexMaster', 'attribute_value': 'Женский', 'attribute_isaspect': False, 'attribute_showascharacteristic': True}\n {'attribute_name': 'SizeGrid', 'attribute_value': 'Универсальная размерная сетка: Женская одежда', 'attribute_isaspect': False, 'attribute_showascharacteristic': False}\n {'attribute_name': 'SizeGrid', 'attribute_value': 'Универсальная размерная сетка: мужская одежда', 'attribute_isaspect': False, 'attribute_showascharacteristic': False}\n {'attribute_name': 'StyleApparel', 'attribute_value': 'Повседневный', 'attribute_isaspect': False, 'attribute_showascharacteristic': True}\n {'attribute_name': 'Season', 'attribute_value': 'Еврозима', 'attribute_isaspect': False, 'attribute_showascharacteristic': True}\n {'attribute_name': 'FilterSizeINT', 'attribute_value': 'XL', 'attribute_isaspect': False, 'attribute_showascharacteristic': False}\n {'attribute_name': 'Name', 'attribute_value': 'Худи patagonia', 'attribute_isaspect': False, 'attribute_showascharacteristic': False}\n {'attribute_name': 'ColorBase_Forfilter', 'attribute_value': 'Серый', 'attribute_isaspect': False, 'attribute_showascharacteristic': False}]",
         "[ 4.74527836e-01 -4.72779691e-01 -5.19719362e-01 -8.22153389e-02\n  9.74171013e-02 -5.16386509e-01 -3.37089121e-01 -5.21000773e-02\n -3.47662687e-01 -3.18732828e-01  1.63386226e-01  2.74945110e-01\n -1.36494711e-01 -3.20902556e-01 -1.42271668e-02  4.63798761e-01\n -1.42892468e+00 -4.61231351e-01  5.92511296e-01  1.03311539e-02\n -3.47276628e-01 -4.97440130e-01  1.30948275e-01  6.32624209e-01\n  2.20306113e-01 -1.21107531e+00  2.16587901e-01 -1.23455226e-01\n -4.81077135e-01 -3.59438419e-01  4.68474627e-01  1.58703551e-01\n  2.11229920e-01  7.23583698e-02  4.93647158e-02  2.14897215e-01\n -2.97019333e-01  2.93437302e-01  3.09492052e-01 -2.15525836e-01\n -5.78047931e-02 -7.37667605e-02  5.65662503e-01 -1.11199766e-02\n -3.43803287e-01  2.34824181e-01 -1.31563604e-01  6.59409940e-01\n -1.85864523e-01  8.99576187e-01  5.03178835e-01 -7.29252040e-01\n -2.63543129e-01 -2.02919409e-01  5.19614697e-01 -2.01322615e-01\n  1.18789375e-01  1.36500552e-01 -2.68116742e-01  2.59574920e-01\n -3.02748322e-01 -2.41707563e-01  2.63201445e-01  3.24366301e-01\n  2.29511157e-01  1.70245022e-02 -2.99891233e-02 -1.09029722e+00\n  2.79298365e-01 -8.42407584e-01 -2.27371424e-01 -1.10620603e-01\n -2.15255767e-01  5.77820539e-02  1.27335668e-01 -8.43788862e-01\n  1.40589988e+00  5.02276540e-01  2.28171647e-02 -5.49097657e-02\n  3.61584574e-02 -5.34465075e-01  6.78791702e-02  1.70138493e-01\n -1.63665861e-01  3.67703706e-01  3.89256328e-02 -2.25489929e-01\n -1.15712747e-01 -1.65438503e-02  1.38649285e-01  3.20537925e-01\n -6.86583519e-01 -4.71441150e-01 -2.78095186e-01 -2.84123600e-01\n  4.36865866e-01 -2.47457936e-01 -5.10621965e-02 -8.05235505e-02\n -3.57703447e-01 -3.42301518e-01  7.87311792e-02  3.25793266e-01\n  2.63900161e-01 -5.60327530e-01  3.69762123e-01 -8.17035973e-01\n -5.81825137e-01 -1.20862156e-01 -6.89494491e-01  7.75596052e-02\n -1.62981629e-01  2.34498799e-01 -6.04023337e-01 -7.43677616e-02\n -1.81336254e-01 -8.53490829e-02  3.10926676e-01 -5.27703583e-01\n  5.44821084e-01  3.52014601e-01 -1.76102713e-01 -1.84132576e-01\n  2.33482540e-01 -6.84028506e-01 -6.57360852e-02 -5.64413071e-02\n  1.74814895e-01 -2.99141973e-01 -1.94409788e-02  1.65897638e-01\n  1.20307386e-01 -6.49168968e-01  1.79183036e-01  5.35013676e-01\n  2.99400359e-01  1.21918671e-01  3.46865386e-01 -4.33593124e-01\n -4.57726419e-02 -1.07392251e-01 -2.13151857e-01  4.77679610e-01\n -2.88638085e-01  8.51997614e-01 -4.69265074e-01 -2.82356709e-01\n -2.53946483e-01  2.17152610e-01 -2.73531526e-01  3.25803846e-01\n  2.94315338e+00 -1.80687964e-01  6.96232170e-02 -1.16692960e-01\n -3.47700268e-02  4.11203057e-01  5.27472273e-02  1.72912076e-01\n  4.35297608e-01  2.65388012e-01 -8.84700269e-02  2.31496871e-01\n  2.54902393e-01  9.76230025e-01  6.98549569e-01 -6.69615746e-01\n -1.19003363e-01  4.25523043e-01  3.21560442e-01 -5.80683127e-02\n -2.06148773e-01 -3.31444740e-02 -2.30132014e-01 -2.12728396e-01\n  5.89932323e-01 -5.43935061e-01 -1.57391262e+00  5.74095368e-01\n -6.03779614e-01 -1.14177674e-01  4.15371954e-02  5.92779160e-01\n -4.65918034e-02 -2.68787891e-02  9.93467927e-01 -3.22092831e-01\n -4.54677105e-01 -3.03662956e-01 -2.60455608e-01 -1.24280602e-01\n  1.74107641e-01 -3.90700161e-01  4.74011451e-01  1.58269107e-02\n -2.87650436e-01 -2.30204388e-01  2.48025462e-01  3.42404693e-01\n  6.58356130e-01  2.79525816e-02  2.17466623e-01  8.03069472e-02\n -9.07999426e-02  2.17756003e-01  8.35043862e-02 -3.46791148e-01\n  2.03068882e-01  3.87011588e-01 -2.00122654e-01 -9.11434054e-01\n  2.44800538e-01 -1.92672983e-01 -2.84857839e-01 -1.09304562e-01\n  1.16760030e-01  5.85592270e-01  7.45376945e-03 -5.38736701e-01\n  3.14752579e-01  3.45973372e-01  2.52483189e-02  2.80760288e-01\n  3.81115884e-01 -1.62518770e-02 -3.07725251e-01 -3.47116560e-01\n -3.23321596e-02 -1.42899305e-01  5.86262941e-01 -2.42790461e-01\n  1.99443802e-01  9.67690498e-02 -3.71879786e-02 -3.46533120e-01\n -5.60301185e-01  2.94641137e-01  3.21177334e-01 -3.85935843e-01\n -1.48348063e-01  1.11498797e+00  1.23208977e-01 -7.24023938e-01\n  4.13851947e-01 -6.22914851e-01 -3.24864835e-01 -7.51641750e-01\n  1.70539692e-01  9.54890251e-03  7.41603255e-01  2.53137171e-01\n  5.78207970e-01 -2.28037372e-01 -4.20734733e-01  3.76158774e-01\n -3.93927932e-01 -1.11718848e-02  3.10140848e-01  2.42856517e-01\n -5.39905369e-01  3.49517405e-01  2.77793437e-01 -1.37678981e-01\n  1.19171187e-01  3.69828343e-02 -9.02334452e-02  3.02108616e-01\n -1.07062139e-01  3.10973972e-02 -7.27767825e-01  3.61696064e-01\n  5.71473718e-01  4.27695625e-02  4.41175312e-01  2.18941346e-02\n -2.68695801e-02  1.77414507e-01  2.49527603e-01  5.99756598e-01\n -2.95892537e-01 -1.05792224e-01  2.19750658e-01  3.10670137e-01\n  2.20047712e-01 -1.53704464e-01  8.80177677e-01  1.94891751e-01\n -1.84845030e-02 -1.04964703e-01  3.18787873e-01 -4.73782778e-01\n -5.41498661e-02  2.19234973e-01 -4.73440260e-01  1.94172800e-01\n  2.88762227e-02 -1.72494054e-01  1.21822655e-01  3.63324404e-01\n  3.19047272e-01 -1.53262600e-01 -1.85685799e-01  1.48650557e-01\n -1.04113364e+00  1.15855336e-01 -3.93427789e-01 -2.94194102e+00\n -4.88978699e-02  3.44299749e-02 -6.42929733e-01 -5.67479253e-01\n -1.43234923e-01  3.04321766e-01  3.05470586e-01 -1.19178832e-01\n  1.80518299e-01 -5.02789915e-01  5.14182210e-01 -4.40942585e-01\n  1.80006832e-01 -7.80471027e-01 -5.07913232e-01 -2.05618143e-01\n -5.98720789e-01 -3.06618661e-01  1.71021089e-01 -5.52659154e-01\n -3.24354768e-01 -6.84339225e-01 -1.59070760e-01 -1.66815013e-01\n -6.35113955e-01 -2.90880740e-01 -6.39929712e-01  4.82412279e-02\n -2.53682643e-01 -5.13688445e-01 -7.01029539e-01  2.82716811e-01\n -8.16694647e-02 -1.66735768e-01  3.72696370e-02 -9.90280360e-02\n -5.86386919e-01 -4.84568477e-01 -5.12483656e-01  2.42184356e-01\n -1.26139164e+00 -1.18621039e+00  6.68401837e-01 -2.66159475e-02\n -5.95038235e-02 -2.22852290e-01 -7.23788679e-01  3.18004638e-01\n  9.39801335e-02 -4.43611071e-02 -1.00385904e-01  2.42501855e-01\n -4.13849950e-02 -3.58100384e-01  2.62365133e-01  3.10961366e-01\n -4.03460324e-01  1.69135720e-01 -1.92104995e-01  3.53144646e-01\n  1.37453899e-01 -3.40118676e-01  1.89448297e-02 -2.51165450e-01\n -2.21472889e-01 -2.18952775e-01 -6.98470473e-02 -7.00737715e-01\n  5.53736836e-02 -4.45481718e-01  3.56947541e-01 -4.94730175e-01\n  5.57346269e-02 -9.72095728e-02 -5.46776950e-02 -2.74046212e-01\n -1.10995077e-01  8.79866034e-02  4.66654152e-02 -2.98297703e-01\n  1.18119046e-01 -1.98377162e-01  2.99736440e-01 -8.45969439e-01\n  1.87641278e-01  7.62397051e-02 -8.15825462e-01  4.26722974e-01\n -4.48255062e-01 -8.30151141e-03 -2.75109798e-01 -1.19898111e-01\n  2.25988895e-01  2.28372991e-01 -1.14723280e-01  8.21667075e-01\n  1.95369720e-01  7.75085837e-02 -3.73766929e-01 -1.24589771e-01\n  3.07145298e-01 -1.58383772e-02  3.08540583e-01 -9.65848565e-02\n  9.27218437e-01 -3.01995128e-01  4.31104034e-01  3.06920767e-01\n -7.42422462e-01 -9.91728455e-02 -2.78519124e-01  1.54592365e-01\n  1.57997340e-01  7.33870149e-01 -2.50116885e-02 -2.24126875e-01\n  7.92618990e-01 -1.82618380e-01 -1.63471743e-01  2.09044129e-01\n  3.33612531e-01 -4.29740369e-01  4.40064937e-01  1.87442434e+00\n -4.34098363e-01  6.42778650e-02  2.35596150e-01  3.69932652e-01\n  5.70765674e-01  3.64406854e-01 -3.75846386e-01  1.88153177e-01\n -3.13851237e-02 -5.46185315e-01  5.26051819e-01 -5.96801579e-01\n  3.04398358e-01  2.39722431e-02 -5.08109689e-01  3.28321755e-01\n  2.98698127e-01  2.72544950e-01 -3.23013484e-01  3.63397270e-01\n  3.23050320e-02  1.57049745e-01 -1.32324994e-02 -1.30039394e-01\n -3.25793266e-01 -3.22732538e-01 -6.48104668e-01 -7.66106367e-01\n  7.54456595e-02 -6.44450605e-01  2.25540876e-01 -1.46200553e-01\n  1.87317431e-02 -4.74602699e-01  2.35302210e-01  9.37602594e-02\n -3.64046574e-01  1.26016259e-01  2.30659440e-01 -6.41884565e-01\n -9.40516517e-02  7.73128122e-02 -3.95512223e-01  1.66225076e-01\n  3.98633897e-01 -2.54732743e-02  3.33333671e-01  1.20900109e-01\n  4.63032663e-01  1.38878107e-01 -3.42428505e-01 -3.58616859e-02\n -1.52345955e-01  2.00727955e-03  4.30664644e-02  1.63749784e-01\n -4.89977121e-01 -5.16752005e-01 -1.36234951e+00  3.88581157e-01\n  9.62245166e-02  4.20749933e-01 -4.72159296e-01  1.87099606e-01\n -3.42224956e-01  5.49614429e-04 -3.78618449e-01  3.53990257e-01\n -3.26494843e-01  2.88037777e-01  4.17775512e-02 -6.92677021e-01\n -1.28119469e-01 -3.58639896e-01  6.21054173e-01 -4.60829675e-01\n -2.20648482e-01  1.98979482e-01 -5.07764041e-01  5.53976893e-01]",
         "7555",
         "120078071",
         "11645051"
        ],
        [
         "3",
         "872829",
         "Комплект носков adidas 3S C Spw Mid 3P, 3 пары",
         "[{'attribute_name': 'Type', 'attribute_value': 'Комплект носков', 'attribute_isaspect': False, 'attribute_showascharacteristic': True}\n {'attribute_name': 'Brand', 'attribute_value': 'adidas', 'attribute_isaspect': False, 'attribute_showascharacteristic': True}\n {'attribute_name': 'Annotation', 'attribute_value': 'В этих носках adidas ты найдешь баланс между прохладой и защищенностью лодыжек. Изготовленные из смеси хлопка и полиэстера, они имеют проклеенные швы на носке для гладкости и разработаны с целью обеспечения комфорта в течение всего дня.\\n\\nИзделие минимум на 50% состоит из смеси переработанных и возобновляемых материалов.', 'attribute_isaspect': False, 'attribute_showascharacteristic': True}\n {'attribute_name': 'AgeO', 'attribute_value': 'Взрослая', 'attribute_isaspect': False, 'attribute_showascharacteristic': False}\n {'attribute_name': 'ColorBase', 'attribute_value': 'белый', 'attribute_isaspect': True, 'attribute_showascharacteristic': True}\n {'attribute_name': 'ColorBase', 'attribute_value': 'черный', 'attribute_isaspect': True, 'attribute_showascharacteristic': True}\n {'attribute_name': 'ColorBase', 'attribute_value': 'серый', 'attribute_isaspect': True, 'attribute_showascharacteristic': True}\n {'attribute_name': 'ColorName', 'attribute_value': 'mgreyh / white / black', 'attribute_isaspect': True, 'attribute_showascharacteristic': True}\n {'attribute_name': 'RussianSizeClothes', 'attribute_value': '43', 'attribute_isaspect': True, 'attribute_showascharacteristic': True}\n {'attribute_name': 'RussianSizeClothes', 'attribute_value': '45', 'attribute_isaspect': True, 'attribute_showascharacteristic': True}\n {'attribute_name': 'SizeManufacturer', 'attribute_value': 'L', 'attribute_isaspect': True, 'attribute_showascharacteristic': True}\n {'attribute_name': 'SexMaster', 'attribute_value': 'Мужской', 'attribute_isaspect': False, 'attribute_showascharacteristic': True}\n {'attribute_name': 'SizeGrid', 'attribute_value': 'Универсальная размерная сетка: носки взрослые', 'attribute_isaspect': False, 'attribute_showascharacteristic': False}\n {'attribute_name': 'Material', 'attribute_value': 'Хлопок', 'attribute_isaspect': False, 'attribute_showascharacteristic': True}\n {'attribute_name': 'Material', 'attribute_value': 'Полиэстер', 'attribute_isaspect': False, 'attribute_showascharacteristic': True}\n {'attribute_name': 'Material', 'attribute_value': 'Эластан', 'attribute_isaspect': False, 'attribute_showascharacteristic': True}\n {'attribute_name': 'Material', 'attribute_value': 'Полиамид', 'attribute_isaspect': False, 'attribute_showascharacteristic': True}\n {'attribute_name': 'Composition', 'attribute_value': 'хлопок 59%,полиэстер 38%,эластан 2%,полиамид 1%', 'attribute_isaspect': False, 'attribute_showascharacteristic': True}\n {'attribute_name': 'StyleApparel', 'attribute_value': 'Спортивный', 'attribute_isaspect': False, 'attribute_showascharacteristic': True}\n {'attribute_name': 'Season', 'attribute_value': 'На любой сезон', 'attribute_isaspect': False, 'attribute_showascharacteristic': True}\n {'attribute_name': 'NumItemsPair', 'attribute_value': '3 пары', 'attribute_isaspect': True, 'attribute_showascharacteristic': True}\n {'attribute_name': 'Name', 'attribute_value': 'Комплект носков мужской adidas 3S C Spw Mid 3P, цвет: mgreyh / white / black (черный, серый, белый), 3 пары. IC1318. Размер L (43/45)', 'attribute_isaspect': False, 'attribute_showascharacteristic': False}\n {'attribute_name': 'SizeM', 'attribute_value': '38-40', 'attribute_isaspect': False, 'attribute_showascharacteristic': False}\n {'attribute_name': 'ColorBase_Forfilter', 'attribute_value': 'Черный', 'attribute_isaspect': False, 'attribute_showascharacteristic': False}\n {'attribute_name': 'ColorBase_Forfilter', 'attribute_value': 'Серый', 'attribute_isaspect': False, 'attribute_showascharacteristic': False}\n {'attribute_name': 'ColorBase_Forfilter', 'attribute_value': 'Белый', 'attribute_isaspect': False, 'attribute_showascharacteristic': False}]",
         "[-6.98718578e-02 -2.28028321e+00 -5.82907081e-01 -3.36745977e-01\n  3.47535610e-01  2.04724953e-01  2.33352900e-01 -9.49767232e-02\n -6.10154569e-02  2.19411165e-01 -4.64841545e-01  1.33670956e-01\n -2.59698033e-01  4.55635339e-01 -4.09763902e-02 -2.80375928e-01\n -1.23488235e+00  1.60634115e-01 -4.06342745e-01  2.93925017e-01\n  9.84061480e-01 -7.85796642e-01 -1.63216069e-01  2.92783201e-01\n -3.34370136e-02 -1.50765419e+00 -1.09324805e-01  5.51185966e-01\n -3.75309557e-01 -1.87814102e-01 -4.49916482e-01 -2.02623159e-01\n -6.97919369e-01 -2.56911576e-01 -4.41641867e-01 -1.84005052e-01\n -6.98056221e-02  4.95765030e-01 -2.33132511e-01 -1.17199272e-01\n -1.82256579e-01 -4.20019329e-02  6.48203343e-02  2.59961843e-01\n -1.91224694e-01  5.69610059e-01 -5.57690263e-02 -3.17889720e-01\n  4.73097384e-01 -3.06912392e-01  4.09511596e-01 -2.48610049e-01\n -1.92586482e-01 -2.80940533e-02 -9.14387479e-02 -1.16903231e-01\n  4.86715734e-02  1.38748437e-01 -4.75925028e-01  1.45695955e-01\n -7.61330545e-01 -6.82768583e-01  4.31615889e-01 -2.42632329e-01\n  4.15241718e-03 -6.41467944e-02  1.89503983e-01 -1.15594901e-01\n -1.67484522e-01 -3.37326616e-01 -1.85980573e-01 -5.07467985e-03\n  7.80136362e-02 -3.08711141e-01 -2.44617611e-01 -5.50048947e-01\n  2.62207896e-01 -4.81697679e-01 -4.02508080e-01 -3.03515851e-01\n  2.17410505e-01  1.05074927e-01  3.29443440e-02 -2.84220010e-01\n -9.80835706e-02  5.86173594e-01 -4.57817540e-02 -1.13929808e-02\n -5.15689373e-01 -2.46819571e-01 -3.51504177e-01  2.01352954e-01\n  2.20965281e-01 -1.27941698e-01  2.13312685e-01 -5.60555100e-01\n -4.52347398e-01  4.66758132e-01 -5.58291137e-01 -2.68818438e-01\n -3.36387098e-01 -2.46463194e-01 -1.21970803e-01  6.16860390e-03\n  3.53791893e-01 -2.44306624e-02  3.23459804e-01 -1.75693616e-01\n  1.01043239e-01  5.21294028e-02 -1.10519338e+00 -8.25956821e-01\n  2.61741787e-01 -5.14065385e-01  1.49431333e-01  4.48581517e-01\n -6.43475503e-02 -3.59782696e-01 -2.33729780e-01 -3.15626681e-01\n  7.79751539e-02 -6.72572404e-02 -2.18467206e-01 -3.65842700e-01\n  4.09590751e-02  8.48945379e-02 -5.43814525e-02  4.12499726e-01\n -2.37578005e-01  1.91099584e-01  1.61813200e-01  1.92721561e-03\n  4.23577130e-01 -3.83517206e-01 -9.16760340e-02 -2.05314010e-01\n  4.33540761e-01 -2.99351931e-01  9.11653191e-02  5.06146371e-01\n  2.80643880e-01 -2.59630173e-01 -3.34496617e-01  7.91669339e-02\n  1.39548764e-01  6.38614297e-01 -1.88683838e-01 -8.17570567e-01\n -2.95246020e-03 -1.06134824e-01 -4.06688303e-01 -1.45152211e-02\n  3.03843832e+00 -1.71961665e-01 -4.00492311e-01 -3.69734392e-02\n -5.73202193e-01  7.78250769e-03  2.66728908e-01  1.93870351e-01\n -2.04383820e-01 -6.93170428e-02  2.89248586e-01  4.95875776e-02\n  6.52773559e-01  5.37986934e-01 -2.38925502e-01 -6.94814324e-02\n -4.40757930e-01  1.93478405e-01  8.63547206e-01  4.16921288e-01\n -6.64514303e-01  5.36455631e-01  4.75459963e-01  1.03364021e-01\n  2.61138171e-01  1.92652494e-01 -8.13283503e-01  6.08709931e-01\n -3.64435196e-01  4.62411463e-01 -6.64276481e-02 -2.70692110e-01\n  3.00104693e-02  6.04426116e-02  7.22947478e-01 -5.43543212e-02\n  5.24160624e-01 -4.37834352e-01 -7.15523481e-01  8.29597950e-01\n  2.58537889e-01 -7.72730410e-02 -1.29183456e-02  6.35063767e-01\n -5.32533228e-01  3.78953367e-01  1.53830439e-01  5.77084571e-02\n  1.43526480e-01  7.21716642e-01 -5.76566905e-02  4.57100749e-01\n -7.95573443e-02 -1.40065402e-01  5.48216462e-01 -6.34493470e-01\n  5.06763220e-01 -1.45682782e-01 -3.41783166e-02  7.23823905e-03\n  3.42183352e-01  6.09393269e-02 -4.45736438e-01  4.06151146e-01\n  3.88930477e-02 -3.44351172e-01 -3.12956393e-01 -6.44852877e-01\n  1.97452635e-01 -4.24958736e-01 -2.56696463e-01  1.71279907e-02\n -5.51472485e-01  5.06823897e-01 -3.77696961e-01 -1.70248345e-01\n -4.04855996e-01  5.01439452e-01  2.58187443e-01  3.05042893e-01\n  1.90499276e-02  5.72436824e-02 -3.44202667e-01  6.93729222e-01\n -3.07653248e-01  6.63276613e-01  2.52791017e-01  1.71266645e-01\n  2.18425430e-02  1.81571186e+00 -3.86363804e-01  1.54482409e-01\n -2.96980441e-01 -5.81157327e-01  4.62519884e-01 -7.76784837e-01\n  7.39019930e-01 -3.27637345e-01  3.00872236e-01  1.26309291e-01\n  3.31583470e-02 -1.86362147e-01 -3.74652654e-01 -2.06076086e-01\n -1.91542119e-01 -7.73381114e-01  4.98526305e-01 -2.12261140e-01\n  1.15447789e-01  1.78111598e-01 -1.74597204e-01  2.14414701e-01\n -4.79162559e-02 -4.20164824e-01  1.98809788e-01 -2.82950908e-01\n  2.62754232e-01 -6.64389551e-01 -1.28882134e+00 -8.60904455e-01\n  2.19240293e-01 -3.18123817e-01  8.09177756e-04 -5.41932642e-01\n -3.15400124e-01  1.99645758e-01 -1.09625496e-02  3.06087494e-01\n  2.77030945e-01  4.67778116e-01 -3.17239195e-01  1.91220254e-01\n  3.62006694e-01  3.12660217e-01  2.02451095e-01  2.29091913e-01\n  3.21255624e-01 -1.28390715e-02  5.89454293e-01 -4.33391094e-01\n -7.77116716e-02  1.87151581e-01  3.15734535e-01  2.09320113e-01\n -4.72728908e-01 -4.51901615e-01 -1.15245745e-01 -4.66004431e-01\n -4.16566372e-01 -1.63031220e-01  3.55910689e-01 -5.35869241e-01\n -9.17490304e-01  1.18072987e-01 -4.14786339e-01 -3.03471875e+00\n -1.74708948e-01 -1.07300982e-01  6.31115615e-01  7.23152220e-01\n  2.18280733e-01  2.99881279e-01  5.00933111e-01 -1.00714326e-01\n -1.47472411e-01 -5.68271577e-02 -2.22510085e-01 -6.53992772e-01\n -6.98000193e-02 -2.44448230e-01 -5.33857644e-01  9.10243690e-01\n -4.52133238e-01 -4.01458740e-01 -5.26605487e-01  9.62328464e-02\n -1.89298674e-01 -2.86503464e-01 -3.71599644e-02 -1.60403162e-01\n  2.58055031e-01 -3.83764505e-04  3.86449039e-01  1.97630122e-01\n  5.30570626e-01 -1.12651043e-01 -6.84711933e-02 -2.48493969e-01\n  2.05546796e-01 -1.94221377e-01  1.16260275e-02  2.17662871e-01\n  1.44800097e-01 -2.39972726e-01  2.28087425e-01 -8.51232857e-02\n -1.22596586e+00 -4.02221859e-01  4.94459897e-01  1.66777492e-01\n -2.77080745e-01  6.46812916e-02 -2.57490844e-01 -2.39481032e-02\n -4.38798547e-01  3.30291212e-01 -6.95169419e-02 -2.60193110e-01\n -5.46058267e-02  1.19286589e-01  1.09236777e-01 -7.16633677e-01\n -3.33471775e-01 -1.21705025e-01  4.21687782e-01 -2.51195610e-01\n  3.56872708e-01  2.39378586e-01  2.81205386e-01  1.76820263e-01\n  2.53634512e-01 -1.28733411e-01 -3.73451859e-01  4.27883089e-01\n  9.33417231e-02 -3.87603045e-01  4.07449335e-01  1.23424217e-01\n  1.46685556e-01  1.93967432e-01 -7.02671885e-01 -2.97045469e-01\n  6.85150504e-01 -2.76635647e-01  3.99419963e-02 -1.88248038e-01\n  3.54665220e-01 -1.30798340e-01  2.88620144e-02 -4.99762535e-01\n  6.79378510e-01  1.67916819e-01  8.10233504e-02  5.16748309e-01\n  1.44037172e-01 -2.10713536e-01 -4.04963136e-01 -2.50009924e-01\n  6.17468357e-02 -1.69197768e-02  2.45844096e-01  5.43629825e-02\n  8.59931648e-01  3.43311429e-01  5.54359555e-01 -2.92218149e-01\n  2.90800273e-01  3.46483171e-01  2.98441231e-01 -2.97997087e-01\n -4.88714278e-02 -9.80792046e-02  2.56354570e-01 -2.38431111e-01\n -2.77699977e-01  1.31024003e-01 -3.85678023e-01 -4.41332757e-01\n  1.29158542e-01 -1.53240368e-01 -3.09990913e-01 -7.63721466e-01\n  6.13487184e-01 -9.24498588e-02  1.39828518e-01  1.13986641e-01\n  1.98384002e-01 -2.99802542e-01  1.66924953e-01  1.40109348e+00\n -1.30412847e-01  1.33798778e-01  3.48696232e-01  1.70493513e-01\n  5.07353425e-01  2.75905609e-01 -2.13971138e-01 -6.34056404e-02\n  2.98090070e-01  8.87279212e-02 -4.81087029e-01 -7.35737383e-02\n  4.25690949e-01  3.62912148e-01  1.42712891e-01  1.35222524e-01\n  1.20383537e+00  9.55015421e-03 -1.61233693e-02 -1.20954543e-01\n  4.86652195e-01 -1.29379913e-01 -1.42699003e-01 -2.42520586e-01\n  2.39493370e-01  8.03428888e-02 -3.28930676e-01 -1.13854617e-01\n -2.73537636e-01 -2.13539898e-01 -2.05686107e-01  1.30362973e-01\n  4.07945514e-01  1.44606262e-01 -3.19185406e-02  4.73908246e-01\n  4.96120930e-01  5.51584899e-01  1.85782284e-01  4.61469620e-01\n  5.19604981e-03  2.89903343e-01  3.22037578e-01  2.68209964e-01\n  1.97436571e-01 -1.58065230e-01  8.53565514e-01 -2.91742295e-01\n  9.43746120e-02 -5.93312442e-01  5.38395107e-01 -1.04553439e-01\n  1.83589563e-01  4.82637882e-02 -1.96041822e-01 -2.61564016e-01\n  5.32967925e-01  1.63109183e-01 -1.60063148e+00 -1.65844530e-01\n  7.08136916e-01  6.52109921e-01  8.05769116e-02  5.15615582e-01\n -2.71074623e-01  2.37191856e-01  7.33154178e-01  3.96043509e-02\n  1.77816153e-01 -3.37521851e-01 -2.79945791e-01  1.46442324e-01\n -2.49580994e-01 -7.06396997e-04 -5.57106733e-03  5.58785081e-01\n  1.84167594e-01 -1.59618974e-01  1.10041931e-01  1.99489713e-01]",
         "36563",
         "247120069",
         "38088455"
        ],
        [
         "4",
         "893255",
         "Жилет Buy & Style жилеты",
         "[{'attribute_name': 'Type', 'attribute_value': 'Жилет', 'attribute_isaspect': False, 'attribute_showascharacteristic': True}\n {'attribute_name': 'Brand', 'attribute_value': 'Buy & Style', 'attribute_isaspect': False, 'attribute_showascharacteristic': True}\n {'attribute_name': 'Annotation', 'attribute_value': 'Элегантный жилет женский вязаный на пуговицах станет универсальным дополнением к вашему гардеробу. Эта жилетка женская весенняя оверсайз прекрасно подходит для создания стильных образов. Данный жилет вязаный женский не сковывает движения. Жилетка женская вязаная на пуговицах идеально смотрится с различными элементами гардероба. Благодаря своему дизайну, жилет на пуговицах женский вязаный может стать основным акцентом весеннего наряда или стильным слоем в осеннем комплекте. Безрукавка женская вязаная отличается продуманным кроем, что делает этот жилет женский идеальным для носки в межсезонье. Легкая безрукавка женская весенняя позволит вам оставаться стильной даже в прохладные дни. Жилетка женская вязаная является незаменимым элементом для тех, кто ценит комфорт и стиль. Жилетка женская оверсайз создаст неповторимый образ. Жилет с v образным вырезом смотрится очень актуально и модно.', 'attribute_isaspect': False, 'attribute_showascharacteristic': True}\n {'attribute_name': 'ColorBase', 'attribute_value': 'черный графит', 'attribute_isaspect': True, 'attribute_showascharacteristic': True}\n {'attribute_name': 'ColorBase', 'attribute_value': 'мягкий белый', 'attribute_isaspect': True, 'attribute_showascharacteristic': True}\n {'attribute_name': 'ColorName', 'attribute_value': 'бело-черный', 'attribute_isaspect': True, 'attribute_showascharacteristic': True}\n {'attribute_name': 'RussianSizeClothes', 'attribute_value': '40', 'attribute_isaspect': True, 'attribute_showascharacteristic': True}\n {'attribute_name': 'RussianSizeClothes', 'attribute_value': '42', 'attribute_isaspect': True, 'attribute_showascharacteristic': True}\n {'attribute_name': 'RussianSizeClothes', 'attribute_value': '44', 'attribute_isaspect': True, 'attribute_showascharacteristic': True}\n {'attribute_name': 'RussianSizeClothes', 'attribute_value': '46', 'attribute_isaspect': True, 'attribute_showascharacteristic': True}\n {'attribute_name': 'SizeManufacturer', 'attribute_value': 'one size', 'attribute_isaspect': True, 'attribute_showascharacteristic': True}\n {'attribute_name': 'SizeM', 'attribute_value': '40-44', 'attribute_isaspect': False, 'attribute_showascharacteristic': True}\n {'attribute_name': 'SexMaster', 'attribute_value': 'Женский', 'attribute_isaspect': False, 'attribute_showascharacteristic': True}\n {'attribute_name': 'HeightM', 'attribute_value': '170 см', 'attribute_isaspect': False, 'attribute_showascharacteristic': True}\n {'attribute_name': 'SizeGrid', 'attribute_value': 'Универсальная размерная сетка: Женская одежда', 'attribute_isaspect': False, 'attribute_showascharacteristic': False}\n {'attribute_name': 'Material', 'attribute_value': 'Акрил', 'attribute_isaspect': False, 'attribute_showascharacteristic': True}\n {'attribute_name': 'Material', 'attribute_value': 'Хлопок', 'attribute_isaspect': False, 'attribute_showascharacteristic': True}\n {'attribute_name': 'Composition', 'attribute_value': '50% хлопок; 50% акрил', 'attribute_isaspect': False, 'attribute_showascharacteristic': True}\n {'attribute_name': 'InnerMaterial', 'attribute_value': 'Без подклада', 'attribute_isaspect': False, 'attribute_showascharacteristic': True}\n {'attribute_name': 'StyleApparel', 'attribute_value': 'Повседневный', 'attribute_isaspect': False, 'attribute_showascharacteristic': True}\n {'attribute_name': 'Season', 'attribute_value': 'Демисезон', 'attribute_isaspect': False, 'attribute_showascharacteristic': True}\n {'attribute_name': 'clothescut', 'attribute_value': 'оверсайз', 'attribute_isaspect': False, 'attribute_showascharacteristic': True}\n {'attribute_name': 'FilterSizeINT', 'attribute_value': 'S', 'attribute_isaspect': False, 'attribute_showascharacteristic': False}\n {'attribute_name': 'FilterSizeINT', 'attribute_value': 'M', 'attribute_isaspect': False, 'attribute_showascharacteristic': False}\n {'attribute_name': 'FilterSizeINT', 'attribute_value': 'XS', 'attribute_isaspect': False, 'attribute_showascharacteristic': False}\n {'attribute_name': 'DressLength', 'attribute_value': 'до талии', 'attribute_isaspect': False, 'attribute_showascharacteristic': True}\n {'attribute_name': 'Name', 'attribute_value': 'Жилет женский вязаный на пуговицах', 'attribute_isaspect': False, 'attribute_showascharacteristic': False}\n {'attribute_name': 'ColorBase_Forfilter', 'attribute_value': 'Белый', 'attribute_isaspect': False, 'attribute_showascharacteristic': False}\n {'attribute_name': 'ColorBase_Forfilter', 'attribute_value': 'Черный', 'attribute_isaspect': False, 'attribute_showascharacteristic': False}]",
         "[ 1.24887630e-01  5.46629310e-01  2.90310025e-01  2.14999616e-01\n -3.52082968e-01 -1.67543054e-01  4.01333347e-02 -4.27894294e-01\n -1.78856626e-02  5.05749226e-01 -2.16259867e-01 -2.49503717e-01\n -4.87492740e-01  7.78298795e-01  1.95957720e-01  7.83140957e-02\n -4.83941674e-01 -3.52082223e-01  3.26658279e-01  1.09278336e-01\n -5.13031602e-01  7.87895620e-02 -9.69763100e-03 -1.08338594e-02\n -9.99397635e-02 -1.63990080e-01 -1.32545829e-01  4.46254045e-01\n -8.82420421e-01 -1.97127461e-03 -5.85299909e-01 -2.35121697e-03\n -2.60545671e-01 -2.52153158e-01 -1.66758746e-01 -1.65879913e-03\n -1.35128200e-03  9.13624108e-01  1.74665645e-01 -6.74063116e-02\n  8.15567255e-01  5.22827953e-02  4.62742075e-02  6.26455471e-02\n -6.07518673e-01 -2.63772190e-01 -2.25759223e-01  6.14306331e-02\n  3.54264259e-01  9.97141004e-02  6.62634492e-01  5.00522926e-02\n  2.56457388e-01  3.37292224e-01 -5.68149209e-01 -4.01976049e-01\n -4.57110047e-01  2.85612851e-01  2.19311178e-01  9.63055491e-02\n -2.38889590e-01  4.08701777e-01 -2.42688507e-03  7.31747210e-01\n -2.92154223e-01  2.18294770e-01  5.94173908e-01 -6.83243811e-01\n -9.05582681e-02 -2.85639018e-02 -7.66924202e-01  5.66430464e-02\n  1.83397055e-01  7.56878018e-01  5.33764362e-01 -8.86762142e-02\n -1.14165270e+00  5.34030020e-01 -7.40609020e-02 -2.29939401e-01\n -6.03309125e-02  3.57465893e-02 -3.89159173e-02 -6.88478574e-02\n  1.51455879e-01  6.02636635e-02  3.59597206e-01  3.79880250e-01\n  7.40000725e-01  3.24143618e-01  6.25660866e-02  2.69544661e-01\n  2.76449651e-01 -1.61052451e-01  2.85870194e-01  6.50679410e-01\n -2.24666893e-02 -1.21563613e-01  4.21748400e-01  2.11768612e-01\n -4.78573442e-01  1.95727140e-01 -4.18927372e-02  4.13323760e-01\n  4.85539317e-01 -1.91898882e-01  9.86952037e-02 -4.20543551e-01\n -1.09944507e-01 -9.37648490e-02 -1.40500319e+00 -2.66585052e-01\n  8.10364261e-02 -2.34800339e-01  4.48699474e-01  6.39654160e-01\n -3.04073393e-01  8.44812542e-02 -6.18690997e-02  5.48902154e-02\n  6.79720640e-02  2.94150054e-01 -9.32441801e-02 -4.68835235e-02\n  4.73791957e-01 -1.14248350e-01  4.19402748e-01  1.18094742e-01\n  3.55461329e-01  2.32878268e-01 -1.55338526e-01 -6.72332883e-01\n  2.44192734e-01  4.20250446e-01 -2.39666075e-01 -6.61216021e-01\n -1.47397175e-01  4.70695525e-01 -4.99613523e-01  7.91536272e-03\n -4.27579522e-01  5.84406406e-03  4.98312563e-01 -4.06332821e-01\n  6.34739578e-01  6.33527756e-01  4.75415647e-01  4.01371241e-01\n -2.14852154e-01 -3.55939865e-02  4.36645240e-01 -2.58859634e-01\n  3.15619445e+00 -4.06175405e-01 -1.89109638e-01  5.02194941e-01\n  2.39496142e-01  1.96924374e-01 -5.97790033e-02  1.46785110e-01\n  2.01271385e-01 -3.15011084e-01 -2.77283043e-03  1.27061158e-01\n -1.52196839e-01 -1.24744523e+00  1.52016670e-01  8.48931372e-02\n  2.86574513e-01 -5.66045344e-02  2.25029260e-01  1.19586438e-01\n  1.74188465e-01  5.16168058e-01  1.71603277e-01 -2.23769045e+00\n -1.14731580e-01  1.48497522e-01 -5.50025940e-01 -3.72875035e-01\n -2.10052431e-01 -1.07611239e-01  7.08204091e-01  1.21308863e-03\n -8.69045258e-01  2.32963026e-01  8.11856151e-01  3.69432598e-01\n -2.41913885e-01 -1.33003354e-01 -7.76446760e-02  1.40376925e+00\n  5.00396013e-01  1.42313421e-01 -2.07999498e-01 -1.36705667e-01\n -4.81064856e-01  1.49757147e-01 -6.95749819e-01  3.53669524e-01\n  6.82264924e-01  2.80424476e-01  2.19607070e-01 -6.20253384e-02\n -6.74456805e-02  4.12451386e-01 -1.53627679e-01 -3.18896472e-01\n -9.11759734e-02 -3.86136025e-02 -3.47551137e-01  1.36476368e-01\n -8.34640861e-02  5.81578493e-01 -5.55280089e-01  8.53792280e-02\n -2.05099002e-01 -1.84401393e-01 -1.84851289e-01 -1.72155559e-01\n  1.36599854e-01 -3.40553105e-01 -3.39448571e-01 -3.71955574e-01\n -1.96190417e-01  9.32984948e-02 -1.02699876e-01  2.91227102e-01\n -1.31052822e-01  1.74731612e-01  2.25913346e-01  4.12394047e-01\n -3.00002635e-01 -9.41619277e-04  4.92824465e-01 -5.31548738e-01\n -5.08651510e-02  9.29812044e-02  5.81071615e-01  2.20453739e-02\n -1.47600055e-01 -6.23125076e-01  9.33786035e-01 -2.33086050e-01\n  3.13010067e-02  2.11148515e-01 -2.48478115e-01 -6.94417775e-01\n -1.45241082e-01  8.87055814e-01 -2.26829499e-02  2.05580115e-01\n  6.37612224e-01 -7.66767502e-01 -3.42678547e-01  8.34118053e-02\n -4.14675653e-01  1.65953547e-01 -6.51245177e-01 -5.92602789e-02\n -1.36838049e-01 -5.94818354e-01  1.32375956e-02 -1.23011045e-01\n -2.50729680e-01 -2.23412186e-01  4.42563072e-02  1.31589442e-01\n -6.37502432e-01  1.56089321e-01 -2.86025822e-01  4.00827751e-02\n  6.61233515e-02  1.12324923e-01 -1.27822950e-01 -1.44265786e-01\n  1.80155516e-01  2.60868967e-01 -2.54271299e-01 -2.74476171e-01\n  6.39678985e-02  1.21479464e+00 -2.35403404e-01  2.24559113e-01\n -3.09189230e-01  2.07106501e-01  3.05244446e-01 -4.80810761e-01\n -2.17846781e-01 -2.50357628e-01  1.83505684e-01  8.68529156e-02\n -1.31412685e-01 -5.71883261e-01 -2.19593078e-01  1.00473464e-01\n -6.08327627e-01  4.88457441e-01 -3.75447571e-02 -2.32213721e-01\n -1.15222335e-01 -3.30737501e-01 -2.15053663e-01 -4.72049057e-01\n  1.48974884e+00  1.83494955e-01 -7.87110746e-01 -3.14593124e+00\n  1.60275534e-01 -4.11001414e-01 -7.54550457e-01 -4.32267338e-01\n  2.64587432e-01 -7.61103392e-01  8.35093260e-01 -7.00984716e-01\n -2.78362989e-01  2.23764747e-01 -1.08660325e-01  3.32956195e-01\n  1.39334992e-01 -2.35446543e-02  5.31034917e-02  4.39918995e-01\n -2.34520078e-01  5.80148995e-02 -2.55597293e-01 -5.57578266e-01\n -8.11769128e-01  2.69296050e-01 -2.30743274e-01  3.64997923e-01\n  1.26332149e-01  5.03861427e-01 -1.30407557e-01 -2.63697445e-01\n  4.01717186e-01 -2.12742448e-01  3.58637422e-02  4.17205691e-02\n  3.35445762e-01  1.38786450e-01  7.61753321e-02  5.01532614e-01\n  1.28803968e-01 -1.05151638e-01 -1.46941125e-01  2.22791314e-01\n -1.18830132e+00 -3.76817644e-01  6.99510455e-01  1.46465302e-02\n  1.88974604e-01  2.10880160e-01 -5.27399480e-01  4.03621942e-02\n -1.15598880e-01 -1.04704797e-01  6.50352716e-01  2.91807950e-02\n -1.42189562e-01  2.74579644e-01 -4.05181050e-01 -6.53718710e-02\n -3.23596001e-01  6.50705636e-01 -1.41865194e-01  1.26295567e-01\n -8.04080248e-01 -3.44226658e-02 -6.98045194e-02 -1.76972032e-01\n  1.85883507e-01  1.71410769e-01 -1.27958983e-01  1.19307685e+00\n  1.75340325e-01 -5.82224011e-01  1.41659856e-01  6.92907572e-02\n  7.77670145e-01 -2.90763140e-01 -3.12110186e-01 -1.39788985e-01\n -1.67641774e-01  7.91905105e-01 -2.93153942e-01 -2.21619487e-01\n  1.84243873e-01 -6.61255419e-01  1.58091411e-01  1.55864060e-01\n  5.06229937e-01  8.55770648e-01  1.42026567e+00 -7.13555738e-02\n  5.42342782e-01 -8.47856998e-02  1.64676696e-01 -2.75161266e-01\n -1.36780456e-01  3.95717442e-01 -5.01890481e-02  7.72152424e-01\n  9.09121037e-02  1.35604620e-01 -3.34896058e-01 -1.10956669e+00\n -9.02179629e-02  1.64624825e-02 -2.10912526e-01  2.38258228e-01\n  7.59945661e-02 -4.66246784e-01  3.89065593e-01 -7.26635158e-02\n  3.50024283e-01 -3.89683664e-01 -3.90646160e-02 -1.59863204e-01\n  7.06534684e-01 -2.54284203e-01  1.00657618e+00 -5.42472839e-01\n  1.83940381e-01 -4.37618226e-01  3.26380193e-01 -9.87779856e-01\n -1.65736213e-01  1.20940313e-01 -1.23104453e-03  1.91686726e+00\n  4.13874015e-02 -1.54148102e-01 -2.62794137e-01 -3.69813919e-01\n -1.71767876e-01  3.23097795e-01  7.25368142e-01 -1.66924879e-01\n  4.58903432e-01 -2.41840869e-01 -1.31136775e-01 -3.00364614e-01\n  5.28253734e-01 -5.29976189e-01 -4.38419878e-01 -5.90138674e-01\n -2.02810317e-01  1.48554578e-01  3.78765106e-01 -1.84626728e-01\n -1.88090637e-01 -2.92869747e-01 -1.56759039e-01 -1.25394964e+00\n  2.66157210e-01 -6.84463680e-02 -1.51602775e-01 -1.22215629e-01\n  4.91096020e-01 -7.60602057e-02 -3.92522126e-01  1.62986666e-01\n -5.21583706e-02  3.64445671e-02  3.28496933e-01  6.20433807e-01\n  1.43574104e-02  7.28660047e-01 -3.51505518e-01 -2.71539390e-02\n -3.45927477e-02  5.11580706e-01  7.75564015e-02 -1.77485913e-01\n  8.45604599e-01  2.90505230e-01  7.38370478e-01  3.88705850e-01\n -1.38447940e-01  3.23505223e-01  5.58687329e-01  5.08999586e-01\n  2.32962817e-02  4.67012636e-02 -2.80042261e-01 -3.20595205e-01\n  2.79243410e-01  1.68065190e-01 -2.35302067e+00 -2.62607127e-01\n  4.72331703e-01  4.64848280e-01  2.85137355e-01  1.11784711e-02\n  2.22206220e-01  4.08938557e-01 -2.61730403e-02  3.86689603e-02\n -1.66377664e-01 -2.63544619e-01  1.68032646e-02 -1.26726556e+00\n -7.92317271e-01  9.06269625e-02  2.24103570e-01 -2.28036880e-01\n -2.91389287e-01 -8.73183608e-02  3.45896423e-01  1.08914271e-01]",
         "7535",
         "327822613",
         "19339929"
        ]
       ],
       "shape": {
        "columns": 7,
        "rows": 5
       }
      },
      "text/html": [
       "<div>\n",
       "<style scoped>\n",
       "    .dataframe tbody tr th:only-of-type {\n",
       "        vertical-align: middle;\n",
       "    }\n",
       "\n",
       "    .dataframe tbody tr th {\n",
       "        vertical-align: top;\n",
       "    }\n",
       "\n",
       "    .dataframe thead th {\n",
       "        text-align: right;\n",
       "    }\n",
       "</style>\n",
       "<table border=\"1\" class=\"dataframe\">\n",
       "  <thead>\n",
       "    <tr style=\"text-align: right;\">\n",
       "      <th></th>\n",
       "      <th>item_id</th>\n",
       "      <th>itemname</th>\n",
       "      <th>attributes</th>\n",
       "      <th>fclip_embed</th>\n",
       "      <th>catalogid</th>\n",
       "      <th>variant_id</th>\n",
       "      <th>model_id</th>\n",
       "    </tr>\n",
       "  </thead>\n",
       "  <tbody>\n",
       "    <tr>\n",
       "      <th>0</th>\n",
       "      <td>400301</td>\n",
       "      <td>Очки солнцезащитные</td>\n",
       "      <td>[{'attribute_name': 'Type', 'attribute_value':...</td>\n",
       "      <td>[0.32023853, 0.11766258, -0.784552, 0.4168199,...</td>\n",
       "      <td>17080</td>\n",
       "      <td>243954236</td>\n",
       "      <td>33306429</td>\n",
       "    </tr>\n",
       "    <tr>\n",
       "      <th>1</th>\n",
       "      <td>678602</td>\n",
       "      <td>Футболка GOLDUSTIM Футболка женская</td>\n",
       "      <td>[{'attribute_name': 'Type', 'attribute_value':...</td>\n",
       "      <td>[0.4360095, 0.6339668, 0.029741853, 0.09847632...</td>\n",
       "      <td>7508</td>\n",
       "      <td>8039633</td>\n",
       "      <td>27057398</td>\n",
       "    </tr>\n",
       "    <tr>\n",
       "      <th>2</th>\n",
       "      <td>746401</td>\n",
       "      <td>Худи Patagonia</td>\n",
       "      <td>[{'attribute_name': 'Type', 'attribute_value':...</td>\n",
       "      <td>[0.47452784, -0.4727797, -0.51971936, -0.08221...</td>\n",
       "      <td>7555</td>\n",
       "      <td>120078071</td>\n",
       "      <td>11645051</td>\n",
       "    </tr>\n",
       "    <tr>\n",
       "      <th>3</th>\n",
       "      <td>872829</td>\n",
       "      <td>Комплект носков adidas 3S C Spw Mid 3P, 3 пары</td>\n",
       "      <td>[{'attribute_name': 'Type', 'attribute_value':...</td>\n",
       "      <td>[-0.06987186, -2.2802832, -0.5829071, -0.33674...</td>\n",
       "      <td>36563</td>\n",
       "      <td>247120069</td>\n",
       "      <td>38088455</td>\n",
       "    </tr>\n",
       "    <tr>\n",
       "      <th>4</th>\n",
       "      <td>893255</td>\n",
       "      <td>Жилет Buy &amp; Style жилеты</td>\n",
       "      <td>[{'attribute_name': 'Type', 'attribute_value':...</td>\n",
       "      <td>[0.12488763, 0.5466293, 0.29031003, 0.21499962...</td>\n",
       "      <td>7535</td>\n",
       "      <td>327822613</td>\n",
       "      <td>19339929</td>\n",
       "    </tr>\n",
       "  </tbody>\n",
       "</table>\n",
       "</div>"
      ],
      "text/plain": [
       "   item_id                                        itemname  \\\n",
       "0   400301                             Очки солнцезащитные   \n",
       "1   678602             Футболка GOLDUSTIM Футболка женская   \n",
       "2   746401                                  Худи Patagonia   \n",
       "3   872829  Комплект носков adidas 3S C Spw Mid 3P, 3 пары   \n",
       "4   893255                        Жилет Buy & Style жилеты   \n",
       "\n",
       "                                          attributes  \\\n",
       "0  [{'attribute_name': 'Type', 'attribute_value':...   \n",
       "1  [{'attribute_name': 'Type', 'attribute_value':...   \n",
       "2  [{'attribute_name': 'Type', 'attribute_value':...   \n",
       "3  [{'attribute_name': 'Type', 'attribute_value':...   \n",
       "4  [{'attribute_name': 'Type', 'attribute_value':...   \n",
       "\n",
       "                                         fclip_embed  catalogid  variant_id  \\\n",
       "0  [0.32023853, 0.11766258, -0.784552, 0.4168199,...      17080   243954236   \n",
       "1  [0.4360095, 0.6339668, 0.029741853, 0.09847632...       7508     8039633   \n",
       "2  [0.47452784, -0.4727797, -0.51971936, -0.08221...       7555   120078071   \n",
       "3  [-0.06987186, -2.2802832, -0.5829071, -0.33674...      36563   247120069   \n",
       "4  [0.12488763, 0.5466293, 0.29031003, 0.21499962...       7535   327822613   \n",
       "\n",
       "   model_id  \n",
       "0  33306429  \n",
       "1  27057398  \n",
       "2  11645051  \n",
       "3  38088455  \n",
       "4  19339929  "
      ]
     },
     "execution_count": 15,
     "metadata": {},
     "output_type": "execute_result"
    }
   ],
   "source": [
    "items_df.head(5)"
   ]
  },
  {
   "cell_type": "code",
   "execution_count": 16,
   "id": "af68226a",
   "metadata": {},
   "outputs": [
    {
     "data": {
      "application/vnd.microsoft.datawrangler.viewer.v0+json": {
       "columns": [
        {
         "name": "index",
         "rawType": "int64",
         "type": "integer"
        },
        {
         "name": "catalogid",
         "rawType": "int64",
         "type": "integer"
        },
        {
         "name": "catalogpath",
         "rawType": "object",
         "type": "unknown"
        },
        {
         "name": "ids",
         "rawType": "object",
         "type": "unknown"
        }
       ],
       "ref": "68fcf792-ec8c-493f-95af-1786db3f66b2",
       "rows": [
        [
         "275",
         "7534",
         "[{'id': 7534, 'name': 'Дубленки и шубы', 'fullName': 'Дубленки и шубы женские'}\n {'id': 7528, 'name': 'Верхняя одежда', 'fullName': 'Верхняя одежда женская'}\n {'id': 7501, 'name': 'Женщинам', 'fullName': 'Женская одежда'}\n {'id': 7500, 'name': 'Одежда', 'fullName': 'Одежда'}\n {'id': -1, 'name': 'Общий каталог', 'fullName': 'Общий каталог'}]",
         "[7534 7528 7501 7500   -1]"
        ],
        [
         "276",
         "7529",
         "[{'id': 7529, 'name': 'Жилеты утепленные', 'fullName': 'Жилеты утепленные женские'}\n {'id': 7528, 'name': 'Верхняя одежда', 'fullName': 'Верхняя одежда женская'}\n {'id': 7501, 'name': 'Женщинам', 'fullName': 'Женская одежда'}\n {'id': 7500, 'name': 'Одежда', 'fullName': 'Одежда'}\n {'id': -1, 'name': 'Общий каталог', 'fullName': 'Общий каталог'}]",
         "[7529 7528 7501 7500   -1]"
        ],
        [
         "277",
         "34590",
         "[{'id': 34590, 'name': 'Комплекты верхней одежды', 'fullName': 'Комплекты верхней одежды женские'}\n {'id': 7528, 'name': 'Верхняя одежда', 'fullName': 'Верхняя одежда женская'}\n {'id': 7501, 'name': 'Женщинам', 'fullName': 'Женская одежда'}\n {'id': 7500, 'name': 'Одежда', 'fullName': 'Одежда'}\n {'id': -1, 'name': 'Общий каталог', 'fullName': 'Общий каталог'}]",
         "[34590  7528  7501  7500    -1]"
        ],
        [
         "278",
         "7530",
         "[{'id': 7530, 'name': 'Куртки и пуховики', 'fullName': 'Куртки и пуховики женские'}\n {'id': 7528, 'name': 'Верхняя одежда', 'fullName': 'Верхняя одежда женская'}\n {'id': 7501, 'name': 'Женщинам', 'fullName': 'Женская одежда'}\n {'id': 7500, 'name': 'Одежда', 'fullName': 'Одежда'}\n {'id': -1, 'name': 'Общий каталог', 'fullName': 'Общий каталог'}]",
         "[7530 7528 7501 7500   -1]"
        ],
        [
         "279",
         "7531",
         "[{'id': 7531, 'name': 'Пальто', 'fullName': 'Пальто женские'}\n {'id': 7528, 'name': 'Верхняя одежда', 'fullName': 'Верхняя одежда женская'}\n {'id': 7501, 'name': 'Женщинам', 'fullName': 'Женская одежда'}\n {'id': 7500, 'name': 'Одежда', 'fullName': 'Одежда'}\n {'id': -1, 'name': 'Общий каталог', 'fullName': 'Общий каталог'}]",
         "[7531 7528 7501 7500   -1]"
        ]
       ],
       "shape": {
        "columns": 3,
        "rows": 5
       }
      },
      "text/html": [
       "<div>\n",
       "<style scoped>\n",
       "    .dataframe tbody tr th:only-of-type {\n",
       "        vertical-align: middle;\n",
       "    }\n",
       "\n",
       "    .dataframe tbody tr th {\n",
       "        vertical-align: top;\n",
       "    }\n",
       "\n",
       "    .dataframe thead th {\n",
       "        text-align: right;\n",
       "    }\n",
       "</style>\n",
       "<table border=\"1\" class=\"dataframe\">\n",
       "  <thead>\n",
       "    <tr style=\"text-align: right;\">\n",
       "      <th></th>\n",
       "      <th>catalogid</th>\n",
       "      <th>catalogpath</th>\n",
       "      <th>ids</th>\n",
       "    </tr>\n",
       "  </thead>\n",
       "  <tbody>\n",
       "    <tr>\n",
       "      <th>275</th>\n",
       "      <td>7534</td>\n",
       "      <td>[{'id': 7534, 'name': 'Дубленки и шубы', 'full...</td>\n",
       "      <td>[7534, 7528, 7501, 7500, -1]</td>\n",
       "    </tr>\n",
       "    <tr>\n",
       "      <th>276</th>\n",
       "      <td>7529</td>\n",
       "      <td>[{'id': 7529, 'name': 'Жилеты утепленные', 'fu...</td>\n",
       "      <td>[7529, 7528, 7501, 7500, -1]</td>\n",
       "    </tr>\n",
       "    <tr>\n",
       "      <th>277</th>\n",
       "      <td>34590</td>\n",
       "      <td>[{'id': 34590, 'name': 'Комплекты верхней одеж...</td>\n",
       "      <td>[34590, 7528, 7501, 7500, -1]</td>\n",
       "    </tr>\n",
       "    <tr>\n",
       "      <th>278</th>\n",
       "      <td>7530</td>\n",
       "      <td>[{'id': 7530, 'name': 'Куртки и пуховики', 'fu...</td>\n",
       "      <td>[7530, 7528, 7501, 7500, -1]</td>\n",
       "    </tr>\n",
       "    <tr>\n",
       "      <th>279</th>\n",
       "      <td>7531</td>\n",
       "      <td>[{'id': 7531, 'name': 'Пальто', 'fullName': 'П...</td>\n",
       "      <td>[7531, 7528, 7501, 7500, -1]</td>\n",
       "    </tr>\n",
       "  </tbody>\n",
       "</table>\n",
       "</div>"
      ],
      "text/plain": [
       "     catalogid                                        catalogpath  \\\n",
       "275       7534  [{'id': 7534, 'name': 'Дубленки и шубы', 'full...   \n",
       "276       7529  [{'id': 7529, 'name': 'Жилеты утепленные', 'fu...   \n",
       "277      34590  [{'id': 34590, 'name': 'Комплекты верхней одеж...   \n",
       "278       7530  [{'id': 7530, 'name': 'Куртки и пуховики', 'fu...   \n",
       "279       7531  [{'id': 7531, 'name': 'Пальто', 'fullName': 'П...   \n",
       "\n",
       "                               ids  \n",
       "275   [7534, 7528, 7501, 7500, -1]  \n",
       "276   [7529, 7528, 7501, 7500, -1]  \n",
       "277  [34590, 7528, 7501, 7500, -1]  \n",
       "278   [7530, 7528, 7501, 7500, -1]  \n",
       "279   [7531, 7528, 7501, 7500, -1]  "
      ]
     },
     "execution_count": 16,
     "metadata": {},
     "output_type": "execute_result"
    }
   ],
   "source": [
    "category_df.head(5)"
   ]
  },
  {
   "cell_type": "code",
   "execution_count": 17,
   "id": "0c9170bf",
   "metadata": {},
   "outputs": [
    {
     "data": {
      "application/vnd.microsoft.datawrangler.viewer.v0+json": {
       "columns": [
        {
         "name": "index",
         "rawType": "int64",
         "type": "integer"
        },
        {
         "name": "item_id",
         "rawType": "int32",
         "type": "integer"
        },
        {
         "name": "itemname",
         "rawType": "string",
         "type": "string"
        },
        {
         "name": "attributes",
         "rawType": "object",
         "type": "unknown"
        },
        {
         "name": "fclip_embed",
         "rawType": "object",
         "type": "unknown"
        },
        {
         "name": "catalogid",
         "rawType": "int64",
         "type": "integer"
        },
        {
         "name": "variant_id",
         "rawType": "int32",
         "type": "integer"
        },
        {
         "name": "model_id",
         "rawType": "int32",
         "type": "integer"
        }
       ],
       "ref": "0051830f-d9fd-4341-9142-f3697a4faa2b",
       "rows": [
        [
         "0",
         "400301",
         "Очки солнцезащитные",
         "[{'attribute_name': 'Type', 'attribute_value': 'Очки солнцезащитные', 'attribute_isaspect': False, 'attribute_showascharacteristic': True}\n {'attribute_name': 'Brand', 'attribute_value': 'Нет бренда', 'attribute_isaspect': False, 'attribute_showascharacteristic': True}\n {'attribute_name': 'Annotation', 'attribute_value': 'Представляем вам эксклюзивные винтажные солнцезащитные очки в металлической оправе из 2000-х. Это не просто аксессуар, а воплощение элегантности и стиля ушедшей эпохи.  \\nМеталлическая оправа гарантирует прочность и долговечность, сохраняя утонченный внешний вид годами. Их оригинальный дизайн придаст вашему образу респектабельный вид, демонстрируя вашу любовь к классике и стильным решениям.  \\nЭти винтажные очки не только защищают глаза от ультрафиолета, но и придают вашему стилю особый шарм и эстетическую привлекательность. Носите их с достоинством – ведь это не просто аксессуар, а важная деталь вашего уникального образа.  \\n\\n(Сохранены: смысл, стиль, структура текста, ключевые характеристики товара. Изменения: небольшая стилистическая шлифовка для естественности, замена синонимов (\"железная\"→\"металлическая\", \"приверженность\"→\"любовь\"), более плавные переходы между предложениями.)', 'attribute_isaspect': False, 'attribute_showascharacteristic': True}\n {'attribute_name': 'ColorBase', 'attribute_value': 'розовый', 'attribute_isaspect': True, 'attribute_showascharacteristic': True}\n {'attribute_name': 'AgeO', 'attribute_value': 'Взрослая', 'attribute_isaspect': False, 'attribute_showascharacteristic': True}\n {'attribute_name': 'SexMaster', 'attribute_value': 'Женский', 'attribute_isaspect': False, 'attribute_showascharacteristic': True}\n {'attribute_name': 'SexMaster', 'attribute_value': 'Мужской', 'attribute_isaspect': False, 'attribute_showascharacteristic': True}\n {'attribute_name': 'Name', 'attribute_value': 'Очки солнцезащитныеsilumao', 'attribute_isaspect': False, 'attribute_showascharacteristic': False}\n {'attribute_name': 'ColorBase_Forfilter', 'attribute_value': 'Розовый', 'attribute_isaspect': False, 'attribute_showascharacteristic': False}]",
         "[ 3.20238531e-01  1.17662579e-01 -7.84551978e-01  4.16819900e-01\n -2.46105269e-01 -3.99725288e-01 -3.18207294e-01  2.17970684e-01\n -1.54594213e-01 -5.78193665e-02  2.15506256e-01 -9.53711569e-03\n  5.67308545e-01  3.31593603e-02 -5.86072922e-01  5.92324771e-02\n  2.86565751e-01 -6.87047839e-02 -1.37052238e-02  3.24038595e-01\n -5.82855463e-01  1.72889352e-01 -6.44149780e-01 -1.73944801e-01\n -4.26550120e-01 -2.67861784e-01 -8.50849897e-02 -4.33661267e-02\n  1.10332894e+00  1.05463088e-01 -1.14712417e-02  2.34745994e-01\n -8.98414925e-02 -1.33496940e-01  8.91689509e-02  2.98916936e-01\n -9.08547044e-02 -5.89969754e-01  2.67581940e-02 -1.33839160e-01\n  3.79261911e-01 -1.34231359e-01  2.38201767e-01 -3.23837370e-01\n  2.00108111e-01 -1.55514926e-01  4.44181591e-01 -3.51401865e-01\n -2.72677302e-01 -1.75051123e-01  8.46666843e-02 -7.15100646e-01\n  5.41874826e-01  2.35981703e-01 -9.23920870e-01 -3.47051799e-01\n -4.66492474e-02  3.00497621e-01 -3.35245967e-01  1.67428374e-01\n -1.21139503e+00 -1.79041997e-02  1.35287702e-01  7.43602097e-01\n -1.77465126e-01  2.11034209e-01  3.82376313e-01 -7.20731020e-01\n  7.27010548e-01 -5.48680305e-01 -8.67923617e-01  2.01744840e-01\n -1.79869980e-02  3.55003029e-02  4.18935567e-02 -9.79437679e-02\n -2.00812846e-01 -3.07957619e-01  6.87951565e-01 -1.83008835e-02\n  3.74175817e-01 -5.73989630e-01 -3.87156546e-01  2.46411487e-01\n  9.01109427e-02  2.77465582e-02 -9.49743688e-02 -1.08990803e-01\n  1.13867474e+00 -1.02467227e+00  2.82517850e-01  3.77591670e-01\n  4.61146086e-02  5.20936370e-01 -2.25860551e-01 -4.14743811e-01\n -2.66636223e-01 -7.03379512e-02  1.71847686e-01 -2.87602782e-01\n -1.53265774e-01  7.75786936e-02  2.33129814e-01 -1.54267207e-01\n  7.88042545e-01  3.72856379e-01 -5.91316342e-01 -1.44733131e-01\n -7.06515610e-02  2.64927298e-01 -1.29146028e+00 -3.60460758e-01\n -2.00012401e-01  5.40355742e-02 -1.77988231e-01 -1.42413124e-01\n  1.74383909e-01  1.09703779e-01 -1.29786342e-01  3.32935154e-01\n -2.17196047e-01  1.96895763e-01 -3.35868448e-02 -1.55463263e-01\n  5.95912710e-02 -2.76104867e-01 -4.08074915e-01  2.74682611e-01\n -5.16528189e-02  1.85032457e-01 -1.95262551e-01 -2.98475981e-01\n -5.89986891e-02  3.90681148e-01  9.94107127e-03  8.98786068e-01\n -1.90123945e-01  2.97644526e-01 -6.34599864e-01  3.63345206e-01\n  2.70654052e-01  4.65010405e-01  6.00716025e-02  3.67929161e-01\n -5.89878783e-02 -6.80084169e-01 -1.12132415e-01 -1.46757305e-01\n -4.96867865e-01 -4.82368767e-02  1.80686817e-01 -2.96006978e-01\n  3.16981530e+00  2.23347470e-01 -1.89353257e-01  7.09511340e-01\n  5.31484544e-01  1.61424518e-01  5.42931408e-02 -9.48370248e-02\n -3.94857615e-01 -1.19526029e-01 -4.30635452e-01 -3.80014181e-01\n  3.09122741e-01 -1.33604479e+00 -7.97617078e-01  5.88117242e-02\n  3.84788901e-01  3.38446796e-01 -9.80953336e-01 -5.53913593e-01\n  2.38134474e-01 -1.59970805e-01 -5.37231266e-01  3.26277792e-01\n  2.48834848e-01  4.65226442e-01 -3.88579905e-01 -4.67519403e-01\n -1.01123191e-01 -2.25852191e-01 -8.36830199e-01  8.31598714e-02\n  1.89326644e-01 -8.68073404e-02  3.81463200e-01  1.18696727e-01\n  2.56523669e-01  1.78093940e-01  1.21047735e-01  6.49551630e-01\n  1.16402090e-01  2.33560711e-01  6.08246207e-01  3.45426977e-01\n  8.65375996e-02  7.58829564e-02  3.12487543e-01 -5.02968654e-02\n  1.93849504e-01 -2.16958940e-01  5.36273122e-01 -5.15802622e-01\n  2.18463391e-01  4.32724357e-02 -2.51958132e-01  1.18546531e-01\n -2.14008987e-03 -9.02713954e-01 -2.01844171e-01 -5.96222579e-01\n  9.71239507e-02  5.15778065e-01 -5.70026040e-01  3.99104655e-02\n -4.29110914e-01 -6.19515896e-01 -1.42491221e-01  1.73519635e+00\n  3.24142128e-01 -3.57464254e-01  2.88383454e-01 -4.00385648e-01\n  2.01690793e-02  2.33972430e-01  4.16388243e-01  3.04839283e-01\n  7.90831819e-03 -9.53493342e-02 -1.74333215e-01  5.36942601e-01\n -5.14552891e-02 -9.76359546e-02  1.34633720e-01 -3.49780351e-01\n  1.14662439e-01 -9.20045525e-02  1.63237765e-01  3.26880366e-02\n  6.84078336e-02 -2.08999455e-01  9.97530222e-02 -2.37734452e-01\n -2.85037816e-01  6.11836433e-01  2.28087500e-01  7.36271977e-01\n  3.93271029e-01 -3.70164573e-01 -4.19054449e-01  2.35680252e-01\n  2.32383355e-01 -8.67380977e-01 -5.75455308e-01  3.53420675e-01\n -1.08239233e+00  1.26631868e+00 -1.54505253e-01  3.18765640e-01\n  4.86801267e-01 -1.98137462e-01  1.10353306e-01 -3.83109719e-01\n -1.96747512e-01  1.10489242e-01 -6.73800558e-02 -9.11195576e-02\n -1.71508417e-01 -3.68334740e-01  1.65840894e-01  2.27555096e-01\n -1.47778332e-01 -3.83158028e-03 -3.98549974e-01 -2.85668075e-01\n -9.02606845e-02  1.19849458e-01  1.84561461e-01 -9.31853801e-02\n  2.59938389e-01  3.49215031e-01  1.29231513e-01  2.20833808e-01\n  3.10759902e-01  2.92044431e-02  3.79133105e-01 -4.34816480e-02\n  1.08936675e-01 -3.01444590e-01  4.55078065e-01  1.63568377e-01\n  3.73431921e-01 -3.55400145e-02  9.08329040e-02 -1.90085754e-01\n  4.03597713e-01 -2.15718508e-01  5.15897572e-03 -2.30330870e-01\n -6.50930047e-01  4.48635757e-01 -4.07340348e-01  4.45318460e-01\n -1.03163433e+00 -1.51453555e-01  1.37997091e-01 -3.17338657e+00\n -3.97884130e-01  2.24493831e-01 -2.89701223e-01 -4.64798391e-01\n -3.88991177e-01 -8.15598965e-02  2.16691405e-01  8.29248786e-01\n -1.22257590e-01  2.43847951e-01  4.09463793e-03 -3.55714798e-01\n -1.55589566e-01  2.87266940e-01 -2.33673975e-01 -3.63389790e-01\n -5.25968015e-01 -5.95051646e-01 -4.99854505e-01 -4.39773023e-01\n -6.19437993e-02 -1.66659132e-01 -4.04984444e-01 -1.70837402e-01\n -3.43530327e-01  1.81165799e-01 -5.13157845e-02 -6.21848226e-01\n -3.84611309e-01  4.09418903e-02  6.78694487e-01  4.00423288e-01\n -3.65637243e-02 -5.81598163e-01  6.65029764e-01 -8.19506347e-02\n -5.53490639e-01 -2.08209783e-01  2.76163876e-01 -2.36474216e-01\n -1.31250691e+00  7.00116634e-01 -2.08603889e-02  4.89872754e-01\n -4.16822851e-01 -6.03176430e-02 -3.53826195e-01 -6.56667948e-02\n  3.34819019e-01  1.23050138e-01 -4.52522844e-01  2.71542311e-01\n  4.84742284e-01 -3.75418454e-01  1.27321199e-01 -2.93774843e-01\n -1.63421303e-01 -1.35816969e-02 -3.54838252e-01  3.60219330e-01\n -9.76544261e-01 -9.20347452e-01  5.86733818e-02  2.75195837e-01\n -9.25926790e-02  8.37836638e-02  6.42210543e-01  3.67494315e-01\n  1.46211654e-01 -9.53115076e-02 -4.26716655e-02  1.84802324e-01\n  1.94828436e-01 -8.69153500e-01 -1.04340419e-01  1.50422916e-01\n -3.95610839e-01  5.67644775e-01 -3.05994868e-01  7.23570436e-02\n -3.78435701e-01  5.49685061e-02 -1.81453973e-02  7.04703480e-02\n -1.29145190e-01  3.86476099e-01 -2.71067172e-02 -3.95609379e-01\n  1.16136813e+00 -2.20306098e-01 -5.32680750e-03  2.08047628e-01\n  2.64116883e-01  3.83619875e-01 -3.13625813e-01 -5.30376971e-01\n  1.79153681e-02  2.66964465e-01 -8.06345046e-02 -3.64948928e-01\n  5.62898666e-02 -3.78393590e-01 -2.26871818e-01  3.62868667e-01\n  5.02179861e-01  1.83685124e-01 -5.14726415e-02  6.29588217e-02\n -5.98573744e-01  4.45178747e-02 -3.82689595e-01  1.54659733e-01\n  2.44652614e-01 -1.04284137e-02 -3.22688878e-01 -4.56641763e-02\n  1.15109777e+00 -3.21113944e-01 -3.50335956e-01  2.08861977e-01\n  2.17043474e-01 -4.29007858e-01  3.86501700e-01  2.55654025e+00\n  4.00884338e-02 -6.58559263e-01 -3.22998703e-01  2.67791748e-01\n -8.21926594e-01 -1.98863953e-01 -1.02917172e-01  7.01052845e-02\n  2.15927720e-01 -6.50933161e-02 -1.01208043e+00 -2.58374006e-01\n -2.14970887e-01  3.78455222e-01 -6.37459636e-01 -7.04243481e-02\n  1.97519183e-01 -2.06406459e-01  3.88792932e-01  5.89208305e-01\n -1.26896948e-01  2.66603082e-02 -2.52084374e-01  5.35196662e-02\n -1.99319065e-01 -1.04402602e-01  4.35093641e-01  1.90496780e-02\n  1.40681326e-01 -6.94603920e-01 -3.61556590e-01  2.36415714e-02\n  2.71578193e-01 -4.84357566e-01  2.41102487e-01 -3.42907310e-01\n -8.50275040e-01 -3.44721615e-01 -3.08087260e-01  2.57356614e-02\n -2.30807692e-01 -1.00624360e-01  4.66853380e-05  9.84497488e-01\n  3.54345411e-01 -7.34767169e-02 -3.59529436e-01  4.57994610e-01\n  3.89665127e-01  1.02230179e+00  2.77833849e-01  4.73399043e-01\n -3.21796209e-01 -2.34428227e-01 -4.45335433e-02 -4.89551798e-02\n  3.75476852e-02 -1.50897250e-01 -1.58686399e+00 -1.28769875e-03\n -3.02255064e-01  3.03842634e-01 -2.36323774e-02  6.33901834e-01\n -4.03875828e-01 -3.13807666e-01 -4.88876253e-01 -3.34268659e-02\n -3.26451689e-01 -1.88692242e-01  1.69514492e-01 -2.65165091e-01\n  8.63488391e-02  3.84501994e-01 -2.90359557e-01 -1.30842865e-01\n -2.11398959e-01 -7.18369782e-02 -2.39964470e-01  3.88684422e-02]",
         "17080",
         "243954236",
         "33306429"
        ],
        [
         "1",
         "678602",
         "Футболка GOLDUSTIM Футболка женская",
         "[{'attribute_name': 'Type', 'attribute_value': 'Футболка', 'attribute_isaspect': False, 'attribute_showascharacteristic': True}\n {'attribute_name': 'Brand', 'attribute_value': 'GOLDUSTIM', 'attribute_isaspect': False, 'attribute_showascharacteristic': True}\n {'attribute_name': 'Annotation', 'attribute_value': 'Представляем вашему вниманию стильную фуксия футболку женскую оверсайз от бренда GOLDUSTIM. Эта футболка идеально подходит для повседневного гардероба и легко сочетается с любыми нарядами благодаря своему универсальному цвету и современному дизайну.\\nФуксия футболка женская оверсайз создана из качественного материала, обеспечивающего комфорт на протяжении всего дня. Свободный крой позволяет свободно двигаться и чувствовать себя уверенно в любой ситуации, будь то прогулка по городу или встреча с друзьями. Оверсайз фасон подчеркивает модные тенденции и добавляет образу свежести и актуальности.\\nЭта футболка оверсайз женская является отличным выбором для создания стильных и удобных образов. Плотный фуксия цвет подчеркивает изысканность и элегантность, а также легко сочетается с другими оттенками вашего гардероба.\\nФутболка фуксия женская оверсайз доступна в широкой размерной линейке , что делает ее идеально подходящей для тех, кто ценит комфорт и стиль. Если вы ищете футболку, которая станет основой вашего гардероба и дополнит ваш повседневный стиль, эта футболка фуксия оверсайз – именно то, что вам нужно.\\nЗдесь вы найдете футболки женские оверсайз, которые сочетают в себе высокое качество пошива и современный дизайн. фуксия футболка женская оверсайз GOLDUSTIM – это выбор уверенной в себе женщины, стремящейся к максимальному комфорту и стильному внешнему виду. Не упустите возможность пополнить свой гардероб этой модной и практичной вещью.\\nПусть эта замечательная футболка фуксия женская оверсайз станет вашим любимым элементом гардероба, который подчеркнет вашу индивидуальность и актуальность образа. Заказывайте прямо сейчас и наслаждайтесь стилем и комфортом каждый день.', 'attribute_isaspect': False, 'attribute_showascharacteristic': True}\n {'attribute_name': 'AgeO', 'attribute_value': 'Взрослая', 'attribute_isaspect': False, 'attribute_showascharacteristic': False}\n {'attribute_name': 'ColorBase', 'attribute_value': 'фуксия', 'attribute_isaspect': True, 'attribute_showascharacteristic': True}\n {'attribute_name': 'ColorBase', 'attribute_value': 'ярко-розовый', 'attribute_isaspect': True, 'attribute_showascharacteristic': True}\n {'attribute_name': 'ColorBase', 'attribute_value': 'малиново-розовый', 'attribute_isaspect': True, 'attribute_showascharacteristic': True}\n {'attribute_name': 'ColorName', 'attribute_value': 'фуксия, ярко-розовый, малиново-розовый', 'attribute_isaspect': True, 'attribute_showascharacteristic': True}\n {'attribute_name': 'RussianSizeClothes', 'attribute_value': '50', 'attribute_isaspect': True, 'attribute_showascharacteristic': True}\n {'attribute_name': 'SizeManufacturer', 'attribute_value': '50', 'attribute_isaspect': True, 'attribute_showascharacteristic': True}\n {'attribute_name': 'SizeM', 'attribute_value': '44', 'attribute_isaspect': False, 'attribute_showascharacteristic': True}\n {'attribute_name': 'SexMaster', 'attribute_value': 'Женский', 'attribute_isaspect': False, 'attribute_showascharacteristic': True}\n {'attribute_name': 'HeightM', 'attribute_value': '173 см', 'attribute_isaspect': False, 'attribute_showascharacteristic': True}\n {'attribute_name': 'SizeGrid', 'attribute_value': 'Универсальная размерная сетка: Женская одежда', 'attribute_isaspect': False, 'attribute_showascharacteristic': False}\n {'attribute_name': 'Material', 'attribute_value': 'Хлопок', 'attribute_isaspect': False, 'attribute_showascharacteristic': True}\n {'attribute_name': 'Material', 'attribute_value': 'Лайкра', 'attribute_isaspect': False, 'attribute_showascharacteristic': True}\n {'attribute_name': 'Material', 'attribute_value': 'Кулирная гладь', 'attribute_isaspect': False, 'attribute_showascharacteristic': True}\n {'attribute_name': 'Composition', 'attribute_value': '95% хлопок 5% эластан', 'attribute_isaspect': False, 'attribute_showascharacteristic': True}\n {'attribute_name': 'InnerMaterial', 'attribute_value': 'Без подклада', 'attribute_isaspect': False, 'attribute_showascharacteristic': True}\n {'attribute_name': 'StyleApparel', 'attribute_value': 'Повседневный', 'attribute_isaspect': False, 'attribute_showascharacteristic': True}\n {'attribute_name': 'Season', 'attribute_value': 'На любой сезон', 'attribute_isaspect': False, 'attribute_showascharacteristic': True}\n {'attribute_name': 'clothescut', 'attribute_value': 'оверсайз', 'attribute_isaspect': False, 'attribute_showascharacteristic': True}\n {'attribute_name': 'SleeveLength', 'attribute_value': 'Короткий', 'attribute_isaspect': False, 'attribute_showascharacteristic': True}\n {'attribute_name': 'FilterSizeINT', 'attribute_value': 'L', 'attribute_isaspect': False, 'attribute_showascharacteristic': False}\n {'attribute_name': 'FilterSizeINT', 'attribute_value': 'XL', 'attribute_isaspect': False, 'attribute_showascharacteristic': False}\n {'attribute_name': 'NumItemsDcml', 'attribute_value': '1', 'attribute_isaspect': False, 'attribute_showascharacteristic': True}\n {'attribute_name': 'Name', 'attribute_value': 'фуксия футболка женская оверсайз, 50 размер, GOLDUSTIM', 'attribute_isaspect': False, 'attribute_showascharacteristic': False}\n {'attribute_name': 'TypeSport', 'attribute_value': 'Бег', 'attribute_isaspect': False, 'attribute_showascharacteristic': False}\n {'attribute_name': 'TypeSport', 'attribute_value': 'Танцы', 'attribute_isaspect': False, 'attribute_showascharacteristic': False}\n {'attribute_name': 'TypeSport', 'attribute_value': 'Фитнес', 'attribute_isaspect': False, 'attribute_showascharacteristic': False}\n {'attribute_name': 'TypeSport', 'attribute_value': 'Йога', 'attribute_isaspect': False, 'attribute_showascharacteristic': False}\n {'attribute_name': 'TypeSport', 'attribute_value': 'Велоспорт', 'attribute_isaspect': False, 'attribute_showascharacteristic': False}\n {'attribute_name': 'TypeSport', 'attribute_value': 'Туризм', 'attribute_isaspect': False, 'attribute_showascharacteristic': False}\n {'attribute_name': 'ColorBase_Forfilter', 'attribute_value': 'Розовый', 'attribute_isaspect': False, 'attribute_showascharacteristic': False}]",
         "[ 4.36009496e-01  6.33966804e-01  2.97418535e-02  9.84763205e-02\n  1.79576144e-01 -2.00236410e-01 -4.68982965e-01  1.65305808e-01\n -1.24419570e-01 -8.08204114e-02  3.01105797e-01  3.35820109e-01\n -3.22487533e-01  2.90725470e-01 -5.54666102e-01 -8.78119618e-02\n -1.28756571e+00 -1.99961707e-01  5.86894751e-01 -2.94981897e-01\n -5.08046895e-03 -3.18137050e-01 -3.61172616e-01 -8.02019238e-03\n -4.81836140e-01 -4.51353073e-01  1.91585317e-01 -6.19129986e-02\n -1.61648244e-02 -1.46528035e-02 -4.34573084e-01  9.35227871e-02\n  1.04058340e-01 -4.46716249e-01 -9.09235030e-02 -1.96821809e-01\n -2.21059814e-01  2.36002237e-01  6.93449736e-01  1.51664063e-01\n  2.12612689e-01 -9.17967483e-02  4.54198629e-01  1.25596225e-01\n -1.41228661e-01 -1.85426027e-02 -4.77896184e-01  1.50125623e-02\n  7.21872374e-02  1.54069826e-01  9.24424231e-02  3.04820240e-02\n  3.77651900e-01 -9.13621634e-02 -6.91776395e-01 -1.15015313e-01\n -4.40191388e-01  4.70416099e-01  7.33081937e-01  9.34733987e-01\n -1.11126637e+00  1.84104845e-01  3.45568150e-01  4.33598429e-01\n  6.36817515e-03 -2.45689407e-01 -1.23545170e-01 -4.55413550e-01\n -2.38787651e-01 -5.34643173e-01 -3.91393602e-01  8.20179284e-01\n -1.65814772e-01  5.33093989e-01 -9.11729932e-02 -8.65875125e-01\n  3.60924363e-01  1.26657560e-02 -3.98037583e-03 -2.05335692e-01\n  2.02094853e-01 -1.78779930e-01 -4.42704678e-01 -8.73438418e-02\n  2.57930309e-01  9.10362303e-02  1.06072485e-01  4.10156071e-01\n  7.00773716e-01  8.21038783e-02  1.32221431e-01 -1.13804787e-02\n  3.62694621e-01 -6.71320915e-01 -3.21305037e-01  1.02889955e-01\n -8.90460387e-02 -2.54573435e-01 -2.95408726e-01  9.55440998e-02\n -5.73072135e-02  3.51508319e-01  4.10670012e-01 -3.18222344e-01\n  1.55304670e-01 -1.70071974e-01  2.73462474e-01 -5.82137823e-01\n -9.36656296e-02 -1.26499489e-01 -6.44655824e-01 -3.32823008e-01\n -5.43792427e-01  2.03186005e-01  3.02100956e-01 -3.41872275e-02\n -6.83431327e-02  7.47903347e-01  2.05959991e-01 -5.37490785e-01\n  6.89615011e-01 -1.17808148e-01  5.01738131e-01 -1.87728196e-01\n  1.62451014e-01 -6.70188785e-01 -2.78217494e-02 -1.01527154e-01\n  4.81258631e-01 -2.90713131e-01  3.01773965e-01 -1.76043943e-01\n  2.36583427e-02 -5.57754710e-02 -7.59801343e-02  2.94572830e-01\n  6.55303299e-02  1.26106009e-01  2.10635796e-01  4.82953340e-02\n  5.05025625e-01  3.89194727e-01  1.96841747e-01  4.27389681e-01\n -5.68175688e-02 -7.73493946e-02  2.73881465e-01  7.13956237e-01\n  1.52963400e-01  7.61921883e-01 -3.84467870e-01  6.20237410e-01\n  3.13428879e+00 -1.86575681e-01  3.78368199e-02  1.20162398e-01\n -1.65472597e-01  9.36555415e-02 -3.95735912e-02 -1.33093074e-01\n -7.54556134e-02  5.03421485e-01 -7.13493347e-01 -3.91985029e-02\n  1.69935524e-01  1.09402627e-01 -7.03413308e-01 -6.90274000e-01\n -4.71708238e-01 -1.58927470e-01  4.21175480e-01 -4.56263542e-01\n  2.36507267e-01 -1.83876336e-01 -2.32325748e-01  9.28238183e-02\n  3.61971855e-02  4.32578117e-01  3.84073853e-02  1.48001432e-01\n  5.02896011e-01  3.41802537e-02 -5.95014572e-01  1.00042306e-01\n -2.22809762e-01  1.19965933e-01  1.55472291e+00  1.91375613e-04\n -1.20515168e-01 -1.11172743e-01 -4.64815259e-01  7.02161610e-01\n  1.30483106e-01 -7.59247839e-02 -8.20397854e-01  3.71991903e-01\n  9.62121636e-02  3.50337029e-01  5.68861961e-02  2.20957875e-01\n  1.18177700e+00 -4.16683048e-01  1.52236998e-01 -1.60197020e-02\n  2.79241383e-01  3.75388414e-02  3.28540295e-01  1.43567473e-01\n  2.00384229e-01  1.22348316e-01 -6.49932325e-02 -5.66884875e-01\n  1.15161009e-01 -1.72686577e-02  3.42347145e-01  1.88095585e-01\n  1.91360712e-04  1.84968024e-01  1.88485965e-01  1.54456645e-02\n  9.67858881e-02  7.69351125e-02  8.33937079e-02 -3.18689048e-01\n  7.49130249e-01  3.90063137e-01 -7.83563778e-02  3.73723537e-01\n  1.28277019e-01 -9.09343213e-02  1.08403099e+00  5.29264212e-02\n -3.15820038e-01 -1.30102962e-01 -3.58361065e-01 -1.62112266e-01\n -3.15754324e-01  2.43402123e-01  1.58185422e-01  9.44138914e-02\n -3.76199216e-01  9.98306870e-01  2.76671171e-01  2.69593000e-01\n -1.96571603e-01  8.18131864e-02 -2.52213359e-01 -6.45403624e-01\n  6.66964948e-01  8.76743793e-02 -1.30723453e+00 -3.62374425e-01\n  4.09853101e-01 -3.91677648e-01 -6.87813640e-01 -4.50438619e-01\n -3.01442891e-01 -6.91995323e-02 -5.23061216e-01  8.59790623e-01\n -5.06049395e-02 -6.97201490e-03  1.42632872e-02  8.91252682e-02\n  4.15083431e-02 -3.79578590e-01 -4.33883965e-01  1.77570194e-01\n -7.84907937e-01 -4.40036863e-01 -1.08658589e-01  1.90036565e-01\n  3.48953009e-01  5.24373829e-01 -1.11329958e-01 -2.06515551e-01\n  2.33279437e-01 -1.30695671e-01  5.74114501e-01 -2.53881872e-01\n  7.72343755e-01 -7.02818334e-02  4.95191067e-02  6.87326252e-01\n -2.65891016e-01 -4.17223334e-01  4.29704115e-02  3.71571243e-01\n -5.53078651e-02  7.28430152e-02 -4.01013523e-01 -3.17983508e-01\n  2.26380304e-01 -4.51304018e-01 -1.29026175e-01  9.35197771e-02\n  1.38092861e-01 -4.41387177e-01  1.80163071e-01 -2.00833499e-01\n  7.62327909e-01 -6.53260291e-01  2.66878307e-01 -7.78716505e-02\n  1.54601559e-01 -4.08087134e-01 -7.05962539e-01 -3.13578486e+00\n -9.13398638e-02 -3.40173095e-02 -4.96221662e-01 -1.31990695e+00\n  1.97552547e-01  1.21171579e-01  3.72574836e-01  4.98183966e-01\n -8.25745165e-02 -8.81635308e-01  8.43706310e-01 -3.54727834e-01\n  8.98217782e-03  1.68424129e-01 -4.75857079e-01  1.17823386e+00\n -1.36390400e+00 -1.44959792e-01 -2.61725396e-01 -1.34710714e-01\n -1.01279581e+00 -4.32535499e-01  4.67899919e-01 -4.10287827e-03\n -2.92209059e-01 -5.50090075e-02 -7.72496164e-02 -2.50425994e-01\n  3.36806357e-01 -7.02140987e-01 -1.89569026e-01 -6.20826706e-02\n  4.50279951e-01  5.72916269e-02  1.45586520e-01 -1.02545917e-01\n  4.88513708e-01 -2.03039795e-01 -1.53583199e-01  2.34992355e-01\n -2.03950334e+00 -2.91536272e-01  9.82572079e-01 -2.14113742e-01\n -6.38880581e-02 -4.04458225e-01  1.77450478e-01  1.42948627e-01\n -2.03865513e-01  1.68782175e-01 -4.03331101e-01  3.19298625e-01\n -2.09881663e-01 -2.85474300e-01  5.78186870e-01 -1.17816627e-02\n -2.95093358e-01  1.96505725e-01 -3.15909207e-01  3.84588838e-01\n -1.20544851e-01 -1.97526395e-01  1.01463087e-01 -5.13952851e-01\n  1.02212861e-01 -2.22634420e-01 -3.60162616e-01  4.80734020e-01\n  1.29282624e-02  8.21594894e-03 -3.19196165e-01 -5.59569061e-01\n  3.86043608e-01 -4.72119659e-01 -1.22469544e-01  3.91252637e-02\n -3.84027928e-01  3.38902771e-01 -6.78585172e-02  4.78714049e-01\n -1.26927495e-01  5.06646037e-01 -3.89796972e-01 -2.72002757e-01\n  2.78011829e-01  5.35784960e-01 -1.96956694e-01  5.06962776e-01\n  2.52949297e-01 -4.08072114e-01 -3.73244166e-01 -2.05795199e-01\n -1.02405548e-02  2.27905527e-01 -8.65407526e-01  1.35163283e+00\n  4.64432329e-01  1.18731253e-01  2.09067449e-01 -4.08967853e-01\n -2.30705991e-01  4.53559607e-01 -3.34697105e-02  1.87561244e-01\n -4.39852476e-03  1.69574782e-01  2.83656865e-01  6.28561378e-01\n -7.77326152e-02  3.55183542e-01 -2.72629321e-01 -2.16699809e-01\n -1.03451639e-01 -4.77938056e-01 -2.97664464e-01 -3.00922066e-01\n  1.06507695e+00  5.91126263e-01  1.32353231e-01  1.45495623e-01\n -4.35413122e-02 -2.93605626e-02 -3.35149348e-01  1.91429591e+00\n -5.22545040e-01 -2.53287315e-01 -2.68072009e-01  1.69374645e-01\n -2.35506445e-02  4.82627004e-02  8.00526142e-03 -1.02454372e-01\n  1.23698130e-01 -2.48646274e-01  6.89626038e-02  2.61726677e-01\n -2.53112048e-01 -1.68839544e-02 -5.36331654e-01  1.50888950e-01\n -2.79798776e-01 -4.10279259e-02 -1.19183198e-01  4.62912381e-01\n  4.57693413e-02 -2.36954153e-01 -3.49358141e-01 -5.38989246e-01\n -1.05263099e-01  1.38160661e-01 -6.87266827e-01  1.39030218e-01\n  2.68665671e-01 -4.16301638e-02 -8.06903124e-01 -2.87671685e-01\n  5.11642098e-02 -1.60521120e-01  4.10538524e-01  7.57239401e-01\n -2.52095491e-01 -1.58671826e-01 -4.60707724e-01 -6.88777447e-01\n  7.07507879e-03  2.63708293e-01 -2.77517617e-01  1.99168265e+00\n  1.09045851e+00 -1.03004873e-02  2.76195556e-01 -6.94680959e-02\n  2.81456053e-01  5.06644487e-01 -2.45663315e-01  5.72133362e-02\n -2.01430604e-01 -3.76647115e-01 -5.37674904e-01 -5.66607952e-01\n -3.41933608e-01 -4.77689087e-01 -1.91380668e+00  6.74298108e-02\n -3.09781134e-01  4.57572877e-01 -3.79059076e-01  5.33013046e-01\n -1.49355948e-01  1.34603888e-01  2.84521431e-02  5.87411225e-04\n  1.68498009e-01 -1.22348696e-01  6.24418929e-02 -4.15425360e-01\n  4.98607337e-01 -1.17615290e-01  1.67400494e-01  2.87946880e-01\n  6.84104562e-02  4.91512418e-01  1.43126264e-01 -1.76413402e-01]",
         "7508",
         "8039633",
         "27057398"
        ],
        [
         "8",
         "1841732",
         "Сумка женская через плечо кросс боди маленькая кожаная серая",
         "[{'attribute_name': 'Type', 'attribute_value': 'Сумка на плечо', 'attribute_isaspect': False, 'attribute_showascharacteristic': True}\n {'attribute_name': 'Brand', 'attribute_value': 'Нет бренда', 'attribute_isaspect': False, 'attribute_showascharacteristic': True}\n {'attribute_name': 'Annotation', 'attribute_value': 'Представляем вам сумки женские, идеальное решение для современных девушек, ценящих комфорт и элегантность. Эта сумка женская выполнена из качественной премиум экокожи, не уступающей по качеству сумка женская натуральная кожа,  что гарантирует долговечность и износостойкость. Сумка кросс боди женская выполнена из мягкой кожи, что делаеет ее не только практичной, но и приятной в носке.\\nСумка женская через плечо имеет следующие ключевые особенности:\\n- Удобный кросс-боди дизайн: Позволяет носить ее как сумка на плечо или через тело, освобождая руки для активной жизни. Сумочка женская имеет ремешок, который регулируется в длину.\\n- Элегантный внешний вид сумка кросс-боди: Современный стиль и лаконичные линии делают эти сумки женские распродажа универсальным аксессуаром для любого наряда — от повседневного до вечернего.\\n- Практичность: Сумка кросс боди женская имеет вместительное основное отделение с карманами для мелочей, что позволит вам удобно организовать все необходимые вещи.\\n- Разнообразие цветов: Сумка кожаная женская натуральная кожа представлена в двух оттенках: черная и серая, чтобы подчеркнуть свой индивидуальный стиль.\\n\\nЭта сумка женская маленькая станет вашим надежным спутником в любых ситуациях — будь то прогулка по городу или встреча с друзьями. Не упустите возможность добавить сумку в свою коллекцию!', 'attribute_isaspect': False, 'attribute_showascharacteristic': True}\n {'attribute_name': 'ColorBase', 'attribute_value': 'серый', 'attribute_isaspect': True, 'attribute_showascharacteristic': True}\n {'attribute_name': 'ColorName', 'attribute_value': 'серый', 'attribute_isaspect': True, 'attribute_showascharacteristic': True}\n {'attribute_name': 'AgeO', 'attribute_value': 'Взрослая', 'attribute_isaspect': False, 'attribute_showascharacteristic': True}\n {'attribute_name': 'SexMaster', 'attribute_value': 'Женский', 'attribute_isaspect': False, 'attribute_showascharacteristic': True}\n {'attribute_name': 'Material', 'attribute_value': 'Экокожа', 'attribute_isaspect': False, 'attribute_showascharacteristic': True}\n {'attribute_name': 'StyleApparel', 'attribute_value': 'Повседневный', 'attribute_isaspect': False, 'attribute_showascharacteristic': True}\n {'attribute_name': 'Name', 'attribute_value': 'Сумка женская через плечо кросс боди маленькая кожаная серая', 'attribute_isaspect': False, 'attribute_showascharacteristic': False}\n {'attribute_name': 'ColorBase_Forfilter', 'attribute_value': 'Серый', 'attribute_isaspect': False, 'attribute_showascharacteristic': False}]",
         "[ 8.45031977e-01 -1.25556183e+00 -1.57469511e-01  2.96685010e-01\n -3.77339840e-01  3.76809388e-02  2.94996291e-01 -7.61269331e-02\n  1.79166317e-01 -8.31878930e-02 -3.24052095e-01 -1.20316029e-01\n  4.23385650e-02 -5.43865561e-01 -3.81711990e-01  9.93276685e-02\n -2.30767041e-01 -1.93749636e-01  2.49915808e-01  3.73478979e-02\n -7.15158701e-01 -7.65874013e-02 -6.83461130e-02 -1.18867189e-01\n  4.67918634e-01  6.43410683e-02 -1.88957810e-01  3.20076942e-03\n -9.46316123e-02 -8.20949972e-02 -3.92333627e-01  1.85839295e-01\n  4.54277694e-01 -1.01550981e-01  4.82398979e-02  4.73740458e-01\n -4.01578844e-01  8.22395384e-01 -1.78065747e-02 -3.64495099e-01\n -4.87991273e-01  8.06181133e-02  2.34299660e-01  1.12093836e-02\n  2.27061868e-01 -1.25023589e-01  2.04634607e-01  6.81826115e-01\n  3.52641463e-01 -2.88741231e-01  5.92453599e-01  8.69508207e-01\n -4.75840807e-01 -2.65776396e-01 -4.42181289e-01 -4.62587416e-01\n -3.45736623e-01  7.65053272e-01 -2.89646924e-01 -1.27726674e-01\n  1.61730736e-01 -2.76212871e-01 -5.23075342e-01 -7.07104802e-04\n -6.08822346e-01 -3.52836132e-01  1.66613877e-01 -4.24335778e-01\n -2.15533346e-01 -2.70422757e-01 -7.20494807e-01  1.26242310e-01\n -7.74965212e-02  1.49139985e-01  4.94848818e-01 -8.44841599e-01\n -9.23896879e-02  2.34830007e-01  8.33713591e-01  3.50083411e-02\n  2.73320496e-01 -2.43218422e-01 -4.31650728e-01  4.34731543e-01\n  5.43047190e-01 -1.79325432e-01  4.49516296e-01  8.01307410e-02\n  8.02094340e-01 -6.70215368e-01 -3.99956316e-01  1.38157174e-01\n  3.51970613e-01  3.42175364e-01  2.61110425e-01  2.55267948e-01\n -2.88278580e-01  3.59290913e-02  5.19976854e-01  4.90854084e-01\n  2.92364806e-02  2.95307398e-01  2.06320316e-01  2.46356428e-01\n  4.05604005e-01  1.98872611e-02 -4.98247921e-01 -6.28048658e-01\n  1.00966200e-01 -1.69129580e-01 -1.12615061e+00 -8.11452866e-02\n  3.35882306e-01  2.05777541e-01  1.56494960e-01  2.62371033e-01\n  3.96469414e-01 -1.21715993e-01  2.03937292e-03  1.90620184e-01\n -1.00892209e-01 -3.44469845e-02  3.59044075e-01 -5.25562942e-01\n  5.08886278e-01  2.73192972e-01 -1.09730852e+00 -6.16067946e-02\n -4.65661168e-01 -2.65768409e-01 -1.58049762e-02 -2.21911624e-01\n  2.09193051e-01  3.02555144e-01 -5.71024418e-01  3.20899487e-03\n -8.47493112e-03  7.49685466e-01  3.78789425e-01 -3.11764598e-01\n  5.56228161e-01 -9.06091183e-02 -8.95994902e-02  1.92546323e-01\n -4.19891268e-01  2.50865489e-01 -4.19102073e-01 -5.74481189e-01\n -5.95758557e-02 -1.51970983e-02  7.57402033e-02  5.50024033e-01\n  2.25061178e+00 -4.34393317e-01 -3.35538566e-01  1.47551522e-01\n -2.65970945e-01 -6.61449134e-02 -1.44952223e-01 -3.70402455e-01\n -1.84138283e-01  1.30178213e-01 -1.75478458e-02 -1.70052320e-01\n  3.46709073e-01  4.85234916e-01 -1.60157382e-01 -2.46218473e-01\n -3.72961849e-01 -2.17974544e-01  5.91275573e-01 -4.13557231e-01\n  9.67696458e-02 -1.21824130e-01 -1.40373796e-01 -3.83264542e-01\n -2.68908411e-01  3.06591064e-01  1.27092004e-01  8.10956359e-02\n -2.09135845e-01  5.62392920e-02 -1.81760758e-01 -5.52073866e-02\n -1.26624614e-01  5.70511818e-02 -8.71524215e-03  1.88836262e-01\n  1.12845145e-01 -6.44420385e-02  2.75108933e-01  3.91375124e-01\n  5.25500417e-01  2.57535577e-02 -3.99880528e-01 -4.07967567e-01\n  1.11008644e-01 -2.01624036e-01 -6.04830906e-02  1.02824628e-01\n  3.06433916e-01  3.17730606e-01  6.29903615e-01  1.62069678e-01\n  3.79000902e-01  1.83624402e-02  4.36760575e-01  5.34184694e-01\n  7.00923502e-02  1.37928575e-01 -4.56519067e-01 -8.41915250e-01\n  3.68757248e-02 -2.31869489e-01 -6.48658395e-01 -4.49621677e-03\n -2.19033211e-01  1.25668824e-01  1.77049607e-01  7.31061280e-01\n  4.29539233e-02  3.11919823e-02 -1.19902611e-01 -8.03336501e-02\n -2.50491500e-03  1.03432328e-01 -2.72703581e-02  8.00905079e-02\n -7.69801736e-02 -3.69092107e-01 -5.52462637e-01 -7.75078833e-02\n  1.51877895e-01  8.17062259e-01  2.86136925e-01  1.30469948e-01\n  1.63320415e-02 -4.08007503e-01  5.89166582e-01  3.61088932e-01\n -7.51277804e-03  5.65832928e-02  1.52504995e-01 -5.05122900e-01\n -1.21088743e-01 -3.03349078e-01 -4.48272705e-01  7.07275271e-02\n  4.22654152e-01  3.95980120e-01  1.66667342e-01  6.03165627e-01\n -5.62683046e-02 -7.20588923e-01 -7.20100999e-01  8.52564871e-02\n -6.34650946e-01  3.93413901e-01 -4.82965171e-01 -7.11529106e-02\n  2.44900972e-01 -7.35139370e-01 -7.56674767e-01 -7.42436349e-02\n  8.90158117e-04 -4.57098544e-01  1.54339090e-01 -6.00948632e-02\n -1.42879516e-01 -8.52012113e-02 -2.90808201e-01  7.42251277e-01\n -5.57964027e-01  3.98651421e-01  1.72007382e-01  6.20247424e-01\n  6.14426315e-01 -2.54882812e-01  4.45067883e-04 -4.71296787e-01\n  2.99046934e-01  2.40678981e-01 -3.01435560e-01 -9.88582790e-01\n -1.52069554e-01  3.19238037e-01  9.58432317e-01 -3.99380744e-01\n -7.26717174e-01 -4.08062547e-01 -3.13164145e-01 -2.00147435e-01\n  4.64747012e-01 -4.52217042e-01 -2.49465555e-01  4.10904706e-01\n  6.65101349e-01 -9.53332186e-02 -5.88750541e-01 -3.02195787e-01\n  8.49843621e-02 -2.96219110e-01 -4.53925580e-02 -3.35140526e-02\n -9.43471551e-01  4.49295431e-01  2.76915133e-01 -2.24958682e+00\n  3.52805704e-01 -9.39607322e-02 -1.32167220e-01  5.84912181e-01\n -1.83519378e-01  8.99891183e-02  2.49167711e-01 -7.45193958e-01\n -4.48844641e-01  1.69969335e-01 -5.01749992e-01  4.15388122e-02\n -2.81415612e-01  5.71982324e-01 -4.92064834e-01  6.27104163e-01\n -7.69195616e-01 -6.01421118e-01 -6.72224641e-01 -2.94135302e-01\n -1.88047409e-01 -2.88163722e-02  5.74709401e-02  1.79173231e-01\n  5.58860302e-01  9.07835811e-02  2.68643498e-02 -4.95174944e-01\n  6.58176184e-01 -2.31884375e-01 -8.43444318e-02  3.38329792e-01\n -1.65421069e-01  2.39663124e-02  7.43971467e-01 -3.78017664e-01\n -5.95161259e-01 -9.28263664e-02 -7.84503967e-02 -4.75849211e-03\n -1.96546698e+00  2.12214321e-01  9.17893291e-01 -1.52382076e-01\n -3.57320368e-01 -1.68656856e-02 -3.48704606e-01  1.40473828e-01\n -2.86898427e-02  7.98420608e-02 -8.56659561e-02 -9.43957716e-02\n -1.62710398e-01 -4.21789229e-01 -5.60919166e-01 -8.71445537e-02\n -2.59837419e-01  2.42541298e-01 -6.47790432e-02 -2.65490383e-01\n -5.12465000e-01 -3.29374135e-01 -8.20430815e-02  6.78447127e-01\n -8.06389689e-01  1.29262432e-01  3.23637992e-01  9.24935192e-02\n -1.01758391e-02  8.03512335e-02  2.40220547e-01  4.90071625e-01\n -6.87172562e-02 -5.42542458e-01 -4.20322269e-02 -5.31513453e-01\n -3.64742815e-01  6.18046224e-01  3.11769247e-02  2.12964088e-01\n -1.38917834e-01 -6.66695058e-01  7.03790009e-01 -4.84961122e-02\n -3.01930726e-01 -3.35007250e-01 -4.94520694e-01 -2.03919888e-01\n -2.38109648e-01 -4.21807319e-02 -5.83606288e-02 -3.16099703e-01\n -5.54393172e-01  2.99691379e-01 -2.95799561e-02  1.40565440e-01\n -1.91644430e-01 -3.47228885e-01  1.92513973e-01 -2.26357192e-01\n -5.29923320e-01 -4.08301540e-02  1.92470714e-01 -6.66429922e-02\n  9.25892353e-01  8.33385348e-01 -3.49941492e-01 -2.32351452e-01\n  9.64054167e-02 -4.00213063e-01 -1.63978010e-01  6.42904162e-01\n -5.45998216e-01 -1.96618527e-01 -7.25249529e-01  4.49408799e-01\n  1.80425763e-01  5.23850143e-01 -1.44577459e-01  1.28112257e-01\n -2.78377496e-02  3.41686338e-01  6.33682489e-01  1.03173530e+00\n  3.02350521e-03 -5.51859856e-01 -7.91711509e-02  2.53355354e-01\n -7.61560351e-03  8.21292281e-01  3.20675880e-01  1.04627162e-01\n -2.95042098e-02 -2.54271090e-01 -1.24214306e-01  4.01605099e-01\n  2.10945785e-01  5.53831220e-01 -9.65115547e-01 -1.01816714e-01\n -4.53982830e-01  5.93639851e-01  3.76458943e-01 -3.15229818e-02\n  8.64292681e-03  3.11699450e-01 -9.07309055e-02 -1.23565412e+00\n -6.84711695e-01 -1.27731875e-01  7.99694240e-01 -4.58163500e-01\n  1.96481839e-01 -6.82160631e-02  2.01862320e-01 -6.51834011e-01\n  2.45159447e-01 -8.66055787e-02  7.15633810e-01 -1.31993175e-01\n  5.57699978e-01  6.08747244e-01  1.94672123e-01 -1.41368449e-01\n  7.34834969e-02  2.06755102e-01  3.24033499e-02  3.15461427e-01\n  9.31500867e-02  3.31146240e-01  1.28300041e-01  2.25036278e-01\n  1.10104787e+00  2.18319491e-01 -1.71174332e-01  5.17188191e-01\n  8.78238156e-02  5.98078728e-01 -6.62272096e-01  2.05345094e-01\n -2.53361702e-01 -1.97827816e-04 -1.91799021e+00 -6.22113347e-01\n -2.26098895e-02  6.99644208e-01  6.27278686e-02  1.17300975e+00\n  1.25641346e-01 -8.23219180e-01 -2.26361826e-01  1.94626570e-01\n -1.51322588e-01 -3.06049764e-01 -4.96368647e-01 -1.63953692e-01\n  2.07914814e-01  1.23116404e-01 -2.65963435e-01  6.20494306e-01\n  1.56621009e-01 -2.04573885e-01 -3.96601588e-01  1.49848267e-01]",
         "17002",
         "273455755",
         "12361995"
        ],
        [
         "10",
         "2095808",
         "Футболка Tom Tailor",
         "[{'attribute_name': 'Type', 'attribute_value': 'Футболка', 'attribute_isaspect': False, 'attribute_showascharacteristic': True}\n {'attribute_name': 'Brand', 'attribute_value': 'Tom Tailor', 'attribute_isaspect': False, 'attribute_showascharacteristic': True}\n {'attribute_name': 'Annotation', 'attribute_value': 'Прямая футболка с фирменной эмблемой от Tom Tailor — выбор тех, кто ценит комфорт, качество и осознанный подход к моде. Выполненная из приятного к телу трикотажа джерси на основе экологичного хлопка BCI (Better Cotton Initiative), эта модель создана в рамках устойчивого проекта BE PART, направленного на защиту окружающей среды и поддержку ответственного производства. Универсальный прямой крой, круглый вырез горловины и короткие рукава делают футболку базовой частью повседневного гардероба. Эмблема Tom Tailor в виде стильного принта на груди придаёт образу характер и подчёркивает принадлежность к бренду с европейской историей и высоким качеством. Модель легко сочетается с джинсами, брюками или шортами, оставаясь уместной как в городском ритме, так и в повседневной обстановке. Натуральный материал обеспечивает комфорт даже в жаркие дни. Tom Tailor — это мода для тех, кто живёт в ритме природы. Сделайте выбор в пользу качества, стиля и устойчивого будущего.', 'attribute_isaspect': False, 'attribute_showascharacteristic': True}\n {'attribute_name': 'ColorBase', 'attribute_value': 'красный', 'attribute_isaspect': True, 'attribute_showascharacteristic': True}\n {'attribute_name': 'RussianSizeClothes', 'attribute_value': '56', 'attribute_isaspect': True, 'attribute_showascharacteristic': True}\n {'attribute_name': 'SizeManufacturer', 'attribute_value': 'XXXL', 'attribute_isaspect': True, 'attribute_showascharacteristic': True}\n {'attribute_name': 'SizeM', 'attribute_value': 'L', 'attribute_isaspect': False, 'attribute_showascharacteristic': True}\n {'attribute_name': 'SexMaster', 'attribute_value': 'Мужской', 'attribute_isaspect': False, 'attribute_showascharacteristic': True}\n {'attribute_name': 'HeightM', 'attribute_value': '189 см', 'attribute_isaspect': False, 'attribute_showascharacteristic': True}\n {'attribute_name': 'SizeGrid', 'attribute_value': 'Бренд Tom Tailor: Мужские футболки, толстовки, джемперы', 'attribute_isaspect': False, 'attribute_showascharacteristic': False}\n {'attribute_name': 'Material', 'attribute_value': 'Хлопок', 'attribute_isaspect': False, 'attribute_showascharacteristic': True}\n {'attribute_name': 'Composition', 'attribute_value': '100 % Хлопок', 'attribute_isaspect': False, 'attribute_showascharacteristic': True}\n {'attribute_name': 'Season', 'attribute_value': 'На любой сезон', 'attribute_isaspect': False, 'attribute_showascharacteristic': True}\n {'attribute_name': 'FilterSizeINT', 'attribute_value': '3XL', 'attribute_isaspect': False, 'attribute_showascharacteristic': False}\n {'attribute_name': 'NumItemsDcml', 'attribute_value': '1', 'attribute_isaspect': False, 'attribute_showascharacteristic': True}\n {'attribute_name': 'Name', 'attribute_value': 'Футболка с принтом-эмблемой', 'attribute_isaspect': False, 'attribute_showascharacteristic': False}\n {'attribute_name': 'ColorBase_Forfilter', 'attribute_value': 'Красный', 'attribute_isaspect': False, 'attribute_showascharacteristic': False}]",
         "[ 3.27731445e-02 -7.52857745e-01 -3.08531702e-01  1.91551447e-03\n  4.49400663e-01 -2.06172615e-02 -7.06876457e-01  4.90874052e-03\n -3.20754230e-01 -3.31886590e-01  1.71658009e-01  3.47333580e-01\n -2.28217766e-02  1.89863577e-01  6.02916479e-02  4.45373058e-02\n -1.20248234e+00 -1.08590275e-01  1.48030877e-01 -2.14445457e-01\n -2.24611014e-02 -2.46122465e-01  6.00452721e-02  1.28701776e-01\n -3.37897480e-01 -2.88444757e-01  9.11660075e-01 -1.53843090e-02\n -2.19063178e-01  3.36203575e-01 -5.24911821e-01  4.24148887e-02\n  6.15361094e-01 -4.04463671e-02 -1.76407889e-01 -6.55716434e-02\n -6.52534008e-01 -1.13139220e-01  3.39277685e-01  2.26395816e-01\n  1.73436314e-01  9.59360152e-02  7.37819910e-01 -1.30000770e-01\n -1.57488674e-01 -3.31217110e-01 -8.79266739e-01  1.54747471e-01\n  1.52569413e-01 -4.05802786e-01  2.82138467e-01  2.97485143e-01\n  3.98603290e-01 -2.26185590e-01 -5.36076427e-01  9.82362702e-02\n -1.29629046e-01  2.25940585e-01  6.40929043e-01  1.74949959e-01\n -3.05513442e-01 -2.96861768e-01  3.39026362e-01  2.97260165e-01\n -3.05124372e-01  1.58987194e-01 -3.35730463e-01 -5.79219699e-01\n  1.38795733e-01 -2.86489785e-01 -3.92101884e-01  5.81096947e-01\n -1.57145411e-01 -3.03680271e-01  4.99431342e-02 -1.01812690e-01\n  4.01558429e-01  2.04903454e-01  1.34242266e-01 -2.47337669e-01\n  6.54029608e-01 -1.92450672e-01 -5.19416094e-01  8.87011141e-02\n  7.20074177e-01 -1.41589656e-01 -2.64982760e-01  5.45887411e-01\n -3.35333943e-01 -3.56678098e-01 -5.24959505e-01 -4.28193152e-01\n -6.37295723e-01 -3.18323970e-01 -3.62844765e-01  2.69156277e-01\n  3.34690779e-01 -7.70440698e-03  3.31539631e-01  1.65496796e-01\n -2.32430577e-01 -2.70012408e-01 -4.26093817e-01 -4.13563550e-02\n  4.84866738e-01  2.76960045e-01  8.40442836e-01 -8.15323889e-01\n -4.00355577e-01 -3.17339748e-02 -3.10096920e-01 -1.48562610e-01\n -7.46770024e-01 -8.49574089e-01  1.12712216e+00 -6.00379765e-01\n -1.53558165e-01  4.07226413e-01  4.82898802e-02 -9.13343608e-01\n  4.56749290e-01  2.03840211e-02  3.43497783e-01 -3.20046902e-01\n  4.56835568e-01 -4.06242013e-01 -2.00127974e-01  1.45171404e-01\n  2.15679795e-01 -4.31115091e-01  9.10935700e-02 -2.04448402e-03\n -3.28012407e-02 -1.88277259e-01 -1.06218494e-02  1.08870542e+00\n -1.55200601e-01  2.34745249e-01  1.13477856e-01  3.72884870e-01\n -7.60069713e-02  4.00151163e-01  3.10208052e-02  1.84576526e-01\n  7.78265417e-01 -3.69858205e-01  2.59729534e-01  6.23762608e-05\n  4.83079642e-01  6.10515594e-01 -2.51067489e-01 -2.99897522e-01\n  2.93857098e+00  2.33951136e-01  5.29653952e-02  1.06386423e-01\n -3.67365092e-01 -8.47470015e-02  2.68139243e-01 -1.04758358e+00\n  4.20045346e-01 -3.92217338e-02 -6.78075552e-02 -3.42718542e-01\n  6.09042525e-01 -2.64436424e-01  2.23827437e-01 -1.04170489e+00\n -5.53582609e-03 -1.68546349e-01  9.37718153e-03  1.17013961e-01\n  1.44548893e-01  2.33178020e-01 -7.91046143e-01 -7.83231616e-01\n  8.28235209e-01 -1.66297168e-01  3.77260268e-01  4.53243442e-02\n -2.33328089e-01 -5.28575897e-01  3.49402845e-01  3.39798629e-04\n  2.00020641e-01 -3.25054646e-01  1.53306603e+00 -9.29788575e-02\n -9.25718397e-02 -1.68447271e-02 -2.63552070e-01  1.90043747e-02\n -2.10399240e-01 -3.63686800e-01 -2.38400251e-01  2.36714736e-01\n -4.21126723e-01 -1.47313565e-01  3.35352600e-01 -3.18624556e-01\n  3.47570330e-01 -8.26323569e-01 -1.11170053e-01 -7.79128432e-01\n -2.45704293e-01 -1.25959426e-01 -5.20278066e-02  7.99051672e-02\n -2.02354804e-01  1.83645174e-01  5.31617552e-02  1.62782237e-01\n  8.33289772e-02  3.76689672e-01  1.86056808e-01  1.63897350e-01\n  2.41045430e-02  3.18266749e-01  2.93740511e-01  3.13421488e-02\n -2.03225315e-02 -2.34301567e-01  5.10409474e-03  5.33324718e-01\n -6.90176636e-02  1.78563356e-01 -3.07441771e-01  2.85899460e-01\n -3.39728296e-02  1.83574647e-01  3.56423616e-01 -8.19555223e-02\n  3.11069191e-01 -3.42295885e-01 -6.80191219e-01 -4.61231768e-01\n  2.72771418e-02 -2.42763758e-02 -1.02863386e-02  7.63382316e-01\n -5.25363505e-01  3.11033070e-01 -4.00037527e-01 -1.81832731e-01\n -3.27620208e-02  1.40487343e-01 -3.12984347e-01  1.97984725e-01\n -5.66122532e-02 -6.74738407e-01 -3.94589543e-01  1.01671264e-01\n  3.24174881e-01 -3.91915560e-01 -4.78084058e-01 -3.37871671e-01\n -2.56064415e-01 -3.63824427e-01  8.46020699e-01  8.34537446e-02\n -2.47684270e-01  5.48427165e-01  3.51150453e-01 -3.22703212e-01\n -4.39118505e-01 -2.81017572e-01 -1.98318630e-01  1.36975497e-02\n -6.34128153e-02  2.38862067e-01 -1.39779758e+00  3.59545708e-01\n  7.98361778e-01  3.44786942e-01  2.44440466e-01 -1.18357450e-01\n  2.77457297e-01  3.53827119e-01  3.46109360e-01  5.00324845e-01\n  4.76545751e-01  4.74929929e-01  1.13183841e-01  4.37200069e-01\n -7.58343861e-02  7.53021687e-02  6.35321379e-01  7.16718554e-01\n  1.36094585e-01 -2.51277953e-01 -6.12982869e-01  1.90012693e-01\n  3.52387816e-01 -5.58480978e-01 -3.85042369e-01  2.91904986e-01\n -8.40154067e-02 -1.49506062e-01  1.19913720e-01  1.42925814e-01\n  7.82329440e-01 -7.99745142e-01  2.15198547e-01 -1.74695194e-01\n -1.41810387e-01 -5.65233827e-01 -3.60627770e-02 -2.94138122e+00\n -9.25121456e-02  3.11622858e-01  6.71841204e-03 -7.56909370e-01\n -7.14936078e-01  5.91990352e-02  3.35919142e-01 -1.83257505e-01\n -3.16260427e-01 -5.37621260e-01  2.67573535e-01 -3.70570093e-01\n  3.84866893e-01 -3.81045550e-01 -2.47141391e-01  6.95274591e-01\n -1.07790494e+00  1.52225003e-01  4.02733803e-01 -1.80984139e-01\n -1.13390350e+00 -4.65394795e-01 -1.14560276e-02 -1.80088624e-01\n -1.37833923e-01  2.00528055e-01 -6.60561323e-02  3.37617368e-01\n  3.39850008e-01 -1.88480482e-01  3.63905430e-02 -2.56157160e-01\n  2.40977943e-01  1.43185571e-01  5.76566339e-01 -5.93960762e-01\n -8.41632038e-02 -3.82576197e-01 -1.42713189e-01  1.86915278e-01\n -1.44259024e+00 -5.24106205e-01 -1.73865408e-02  1.64095417e-01\n  1.41722381e-01 -5.96448958e-01 -3.67544919e-01  3.77902120e-01\n  1.50804535e-01 -2.27118790e-01 -2.65811414e-01  3.30560744e-01\n  2.21459970e-01 -1.17940322e-01  3.19859207e-01 -2.12266073e-01\n -4.01514053e-01 -1.52450874e-02  1.77812129e-02  1.50343984e-01\n -1.33838952e-02 -2.78518200e-02  3.84363770e-01 -2.60547698e-01\n -1.59192830e-01  3.07563096e-02 -1.30669564e-01 -6.12077951e-01\n  5.16825676e-01 -1.89752847e-01 -4.21107262e-02 -2.16617614e-01\n -3.95101100e-01  4.83699948e-01 -2.11401060e-01  5.31822294e-02\n -8.16515088e-03  1.09852910e+00 -2.63710171e-01 -2.15110391e-01\n  4.23098624e-01  7.87754655e-01 -2.36422375e-01 -2.50484645e-01\n  7.26475120e-01  3.61813635e-01 -4.30909753e-01  1.48366094e-01\n  3.80786180e-01 -1.29232287e-01  6.73417822e-02 -4.93145257e-01\n -1.29852071e-01  7.50600100e-02 -3.12356651e-01  1.31883478e+00\n  1.29247636e-01 -4.92252469e-01  4.47954267e-01 -1.91304296e-01\n -2.02665001e-01  1.99219912e-01 -3.35711837e-01  3.19795191e-01\n  1.01798046e+00 -2.11615115e-01  5.91521561e-01  2.12799624e-01\n  2.12707236e-01 -2.01874971e-03 -4.59576994e-01  1.83477312e-01\n  8.40180218e-02 -4.58073348e-01 -5.74388206e-01 -2.94665754e-01\n  4.66282427e-01  5.66694438e-01  8.06127638e-02 -4.48398054e-01\n -3.23749900e-01 -5.51198795e-02  2.15845227e-01  2.12445438e-01\n -3.28829914e-01  3.43653828e-01 -6.79402173e-01  6.29218876e-01\n  1.82924256e-01  3.43887568e-01 -2.67361104e-01 -8.14601779e-02\n  3.30142677e-01 -3.56877387e-01  3.84920806e-01 -1.96827590e-01\n -3.55668664e-01  3.73789445e-02  6.68111742e-02 -2.01082513e-01\n -4.62767899e-01 -1.74622238e-01  4.78957742e-01  8.44205976e-01\n -2.18070030e-01 -1.96408913e-01 -6.11392975e-01  2.01066881e-01\n -3.58285159e-01 -2.30829477e-01  2.73226611e-02  1.24792039e-01\n -1.23416543e-01  2.62809366e-01 -3.77152383e-01 -5.97114086e-01\n -1.85886919e-01  8.46640915e-02  5.86705625e-01  7.52253711e-01\n -2.84295559e-01  3.40833992e-01 -2.99814224e-01 -2.90084064e-01\n -1.42023861e-01 -3.45841385e-02  5.33844531e-03  7.74803996e-01\n  6.86294913e-01  4.86711264e-01 -2.43349314e-01 -2.53968030e-01\n  9.47645307e-03 -1.86143816e-03 -3.36447060e-01 -2.65510499e-01\n -2.02257946e-01 -3.34715426e-01 -5.92538476e-01 -6.23361468e-01\n -2.84155071e-01  9.30817425e-02 -2.02994585e+00  1.69390947e-01\n  6.46023452e-03  9.04616863e-02 -2.05103576e-01  1.28714871e+00\n -8.30947906e-02 -6.46737039e-01  4.93227243e-01 -2.06856340e-01\n  5.49615026e-01  4.11586225e-01  4.27937359e-02  1.28756672e-01\n  5.65441608e-01 -2.58590519e-01  6.03235185e-01  4.11124676e-01\n  2.99569130e-01 -7.09837377e-02  4.53557186e-02 -1.91979438e-01]",
         "7559",
         "289182638",
         "21889175"
        ],
        [
         "11",
         "2141800",
         "Футболка",
         "[{'attribute_name': 'Type', 'attribute_value': 'Футболка', 'attribute_isaspect': False, 'attribute_showascharacteristic': True}\n {'attribute_name': 'Brand', 'attribute_value': 'Нет бренда', 'attribute_isaspect': False, 'attribute_showascharacteristic': True}\n {'attribute_name': 'Annotation', 'attribute_value': 'Футболка унисекс (мужская и женская) белая фильмы Лицехват (Чужой, Alien, Ностальгия, 90-ые, horror, Гигер) - 38219\\n\\nФутболка - это неотъемлемая часть гардероба: универсальная, практичная, стильная, сочетается с любой вещью.<br>\\nКлассический силуэт одновременно удобен в движении, так как достаточно свободен, но в то же время нигде ничего не топорщится и футболка смотрится аккуратно.<br>\\nТрикотаж футболки изготовлен из полиэфирной пряжи по структуре и свойствам максимально похожей на хлопок, что позволяет коже дышать и делает ткань приятной к телу. При этом материал очень быстро сохнет и не мнется - что делает футболку универсальной для повседневной носки и спорта.<br>\\nПечать принта осуществляется методом сублимации (прямой перенос краски на ткань), что делает принт долговечным.<br>\\n<br>\\nУход:<br>\\nСтирать при температуре не выше 40 градусов.<br>\\nГладить при температуре не выше 110 градусов.<br>\\nНе использовать отбеливатель<br>\\n<br>\\nДетали:<br>\\nФутболка имеет круглый вырез горловины, длина до линии бедер<br>\\n<br>\\nТип нанесения:<br>\\nСублимация на ткани<br>', 'attribute_isaspect': False, 'attribute_showascharacteristic': True}\n {'attribute_name': 'ColorBase', 'attribute_value': 'белый', 'attribute_isaspect': True, 'attribute_showascharacteristic': True}\n {'attribute_name': 'ColorName', 'attribute_value': 'Футболка унисекс (мужская и женская) белая фильмы Лицехват (Чужой, Alien, Ностальгия, 90-ые, horror, Гигер) - 38219', 'attribute_isaspect': True, 'attribute_showascharacteristic': True}\n {'attribute_name': 'RussianSizeClothes', 'attribute_value': '54', 'attribute_isaspect': True, 'attribute_showascharacteristic': True}\n {'attribute_name': 'SizeManufacturer', 'attribute_value': '2XL', 'attribute_isaspect': True, 'attribute_showascharacteristic': True}\n {'attribute_name': 'SexMaster', 'attribute_value': 'Мужской', 'attribute_isaspect': False, 'attribute_showascharacteristic': True}\n {'attribute_name': 'SizeGrid', 'attribute_value': 'Универсальная размерная сетка: мужская одежда', 'attribute_isaspect': False, 'attribute_showascharacteristic': False}\n {'attribute_name': 'Material', 'attribute_value': 'Полиэстер', 'attribute_isaspect': False, 'attribute_showascharacteristic': True}\n {'attribute_name': 'Material', 'attribute_value': 'Хлопок', 'attribute_isaspect': False, 'attribute_showascharacteristic': True}\n {'attribute_name': 'Composition', 'attribute_value': '50% Хлопок;50% Полиэстер', 'attribute_isaspect': False, 'attribute_showascharacteristic': True}\n {'attribute_name': 'Season', 'attribute_value': 'На любой сезон', 'attribute_isaspect': False, 'attribute_showascharacteristic': True}\n {'attribute_name': 'FilterSizeINT', 'attribute_value': 'XXL', 'attribute_isaspect': False, 'attribute_showascharacteristic': False}\n {'attribute_name': 'Name', 'attribute_value': 'Футболка унисекс (мужская и женская) белая фильмы Лицехват (Чужой, Alien, Ностальгия, 90-ые, horror, Гигер) - 38219', 'attribute_isaspect': False, 'attribute_showascharacteristic': False}\n {'attribute_name': 'ColorBase_Forfilter', 'attribute_value': 'Белый', 'attribute_isaspect': False, 'attribute_showascharacteristic': False}]",
         "[ 2.38435730e-01 -7.73998022e-01 -1.08754253e+00 -4.10325944e-01\n  6.80678964e-01 -4.75633979e-01 -5.04419684e-01  1.07240677e-03\n  9.14221779e-02 -3.47753912e-01  8.00127536e-02  3.20240259e-01\n -2.97499686e-01  1.03009194e-02  1.46542549e-01  3.58026087e-01\n -4.52686250e-01  1.84652209e-03 -5.61906338e-01 -1.78150415e-01\n -1.10038094e-01 -4.39164042e-01  1.94280595e-01 -1.13913745e-01\n -6.14466071e-01 -6.68428957e-01  4.65430260e-01 -2.20155567e-02\n -4.53325212e-01  1.15742385e-02 -6.76710606e-01  5.32515466e-01\n  2.91194052e-01  4.11122680e-01 -1.67737186e-01  4.18778956e-02\n  6.70300722e-01  5.25297999e-01  7.95321316e-02 -1.73814580e-01\n  1.93072245e-01 -5.49399853e-01  4.62178349e-01  3.76519769e-01\n  1.20605975e-02 -1.73078030e-01 -4.66543585e-01 -8.62060711e-02\n -5.49453497e-02 -7.50521421e-02  5.00696123e-01 -1.74959809e-01\n  2.64935941e-03  2.29342982e-01 -2.59993136e-01 -3.73374522e-01\n -1.33952707e-01  3.02506745e-01  7.12055922e-01  8.20168778e-02\n -1.92938834e-01  3.15976799e-01 -5.80654740e-01 -5.45215607e-03\n  3.73031557e-01  8.45386162e-02  3.40728611e-01 -7.64456749e-01\n  2.39379987e-01 -4.37326849e-01 -5.05137324e-01 -2.95591503e-02\n -3.22010845e-01 -4.19049442e-01  1.66347861e-01  8.00481886e-02\n -3.33717585e-01  3.85490030e-01 -3.89393508e-01  2.68521011e-01\n  7.10426331e-01  2.71713793e-01 -2.54673958e-02  5.09706080e-01\n -3.54826748e-01 -3.58755529e-01 -2.13743746e-03  5.67790031e-01\n  6.02949262e-02 -6.68455809e-02  2.61475384e-01 -4.78906155e-01\n -3.79461944e-01 -3.34050804e-01 -7.81755596e-02  4.15629804e-01\n  2.56875455e-01 -4.09631252e-01  5.93416750e-01  2.61322349e-01\n  1.38949752e-02  5.33839583e-01 -5.87726459e-02  2.22242519e-01\n  5.53920865e-04 -4.01539803e-01  1.76245749e-01 -8.36392641e-01\n  2.73443222e-01 -5.81819952e-01 -7.34287262e-01  5.40927410e-01\n -7.47205853e-01  6.45648539e-02  1.10664058e+00 -6.45491004e-01\n -4.54839885e-01  2.17802137e-01 -3.73473316e-01  1.64117783e-01\n  7.54263878e-01  1.74621835e-01  6.91499710e-01  4.36094552e-02\n -2.93834865e-01  1.49232194e-01  3.17160964e-01 -2.11513966e-01\n  5.67292511e-01 -3.59888732e-01  7.80601799e-02 -2.91631669e-01\n -2.08207682e-01 -2.54707709e-02  6.18601680e-01  4.68894601e-01\n -1.64387584e-01  1.46309048e-01  1.57127380e-01 -4.58481535e-02\n  1.18360639e-01  1.92902267e-01  5.30836806e-02  8.70405138e-03\n  3.17821175e-01  1.21643841e-02 -2.56303132e-01  4.28495824e-01\n  4.21904325e-02  5.72373092e-01  1.77956462e-01 -3.95192727e-02\n  2.54114628e+00 -3.03419441e-01  2.29482979e-01 -7.44532496e-02\n -7.55253136e-01  2.89521277e-01  4.11334932e-02 -8.67574438e-02\n -1.41166523e-01  8.54730546e-01 -7.99396113e-02 -5.57199001e-01\n -1.69960856e-02  3.96033287e-01 -6.23123050e-02 -3.08687240e-01\n -3.06878686e-01 -1.14577122e-01 -5.29254153e-02  2.73835063e-01\n  4.12403524e-01  5.36869094e-02  1.54270053e-01  1.07282448e+00\n -1.47261888e-01 -3.74728143e-02  3.52284312e-03  1.02233328e-01\n -8.91853869e-02 -7.46556640e-01 -8.61633867e-02  4.07751799e-02\n  1.36570811e-01 -1.56534046e-01  4.68479574e-01  2.11769223e-01\n  6.51007891e-03 -4.57610071e-01 -1.67184889e-01 -1.33690923e-01\n  3.34604859e-01 -6.39589429e-02  3.70443761e-02 -1.68452933e-02\n  2.77728081e-01 -9.03461874e-02  2.06734538e-01  1.25406682e-01\n  5.03354192e-01 -7.59522021e-02 -9.33226824e-01  4.37171310e-02\n -3.40296328e-01  2.89980441e-01 -1.28130391e-01 -2.21207321e-01\n -4.35252935e-02 -8.47813487e-03  4.69386578e-01 -2.33962119e-01\n  3.81698847e-01  1.97156504e-01 -4.77602154e-01  4.22289342e-01\n -3.47547531e-01 -1.15329027e-02 -4.64289784e-02 -2.14441836e-01\n -2.59264469e-01 -1.22289911e-01  1.45352960e-01  6.39046073e-01\n -3.25743407e-01  2.42729485e-01 -6.10251546e-01  2.77473152e-01\n -5.28511286e-01  3.34255040e-01  3.63668621e-01  2.09156394e-01\n  2.78530240e-01  3.26140136e-01 -1.04073822e-01 -1.83164001e-01\n -2.99637556e-01  1.34779364e-01 -8.48051310e-02  4.00407940e-01\n -2.91814923e-01 -3.09201404e-02  2.39595979e-01 -6.07089758e-01\n -1.79726094e-01 -1.84984118e-01  6.98375031e-02 -4.05106097e-02\n  1.96551070e-01 -5.00069439e-01  4.88602459e-01  1.41821608e-01\n  2.37892747e-01 -5.06001472e-01 -5.76976120e-01  5.66922128e-04\n  4.74166870e-03  3.01355720e-01  1.45924699e+00  4.96044874e-01\n -8.50833952e-02 -7.16661692e-01  4.13798928e-01 -1.78461432e-01\n -2.51087934e-01 -2.25893021e-01 -6.26046181e-01  4.09822315e-02\n -3.75194013e-01  7.84448504e-01 -8.55801702e-01 -1.92708045e-01\n  9.34152231e-02 -5.14920875e-02 -3.07416797e-01  1.00440904e-01\n  2.20609680e-02 -4.22427833e-01  1.43658072e-01  5.60500503e-01\n  5.99192142e-01  1.99919939e-03 -3.04811805e-01  7.24682435e-02\n  3.69030565e-01  4.71436024e-01 -3.85771722e-01  1.38991624e-01\n -5.40255070e-01  4.04911280e-01 -3.81199181e-01  2.09036708e-01\n  2.06808135e-01 -2.51085877e-01  2.92262614e-01  8.78601223e-02\n  7.81431913e-01 -1.56029612e-01 -4.89972919e-01 -3.41283798e-01\n  3.69696021e-01 -2.35061198e-01  4.75147188e-01 -4.30004060e-01\n -1.40326071e+00  2.56219774e-01  3.01195621e-01 -2.54777527e+00\n -2.49115556e-01  1.73830926e-01 -6.57862186e-01 -5.46300471e-01\n -1.30099535e-01  5.98846912e-01  2.36859232e-01 -7.81700611e-01\n  2.98708618e-01 -3.12307179e-02  1.97449207e-01 -6.17992401e-01\n  4.66093980e-03  2.30300203e-02 -4.06367064e-01 -9.33231235e-01\n  3.84026825e-01 -4.47660863e-01 -2.39959314e-01  4.24242839e-02\n -7.09307849e-01 -5.42308748e-01  6.66959882e-01 -3.78343850e-01\n  8.85700583e-02 -4.33238149e-02 -8.56290683e-02 -1.98353767e-01\n -1.02422500e+00 -5.63060045e-01  8.10725629e-01  3.68269980e-01\n -1.24279812e-01 -2.82899320e-01  9.08095956e-01 -2.91198015e-01\n -1.51109070e-01  8.76991630e-01  2.04137623e-01  3.04216444e-01\n -1.23690152e+00 -4.33463633e-01  2.46774510e-01 -2.68867612e-02\n  1.21065348e-01 -8.76286328e-02 -1.48597491e+00  2.07672715e-02\n  3.60503197e-02 -5.05723417e-01 -4.55907106e-01  2.05896422e-02\n  4.34647352e-01  3.49518448e-01  3.08036208e-01 -3.09117585e-01\n  3.37466449e-01  2.20863968e-02 -3.82224202e-01 -8.96325335e-02\n  4.37319368e-01 -6.90490127e-01  2.10567623e-01  2.26289779e-01\n  9.43260789e-02 -3.01393062e-01 -3.87577236e-01 -5.88086963e-01\n  6.10749662e-01  3.33947957e-01 -5.48292041e-01 -1.94443092e-01\n  1.41453773e-01 -2.39965856e-01  1.44073442e-01 -9.02386159e-02\n -6.72790647e-01  8.93341780e-01  8.96812379e-02 -3.43034744e-01\n  1.61085352e-01 -1.40592828e-01  9.51843187e-02 -7.53988624e-01\n  3.28010082e-01 -1.11776471e-01  1.37312233e-01 -2.02537745e-01\n  1.76450461e-01 -1.42662525e-01 -1.67558193e-02 -4.42465991e-01\n  1.91893578e-01  1.02342568e-01 -4.56822962e-02 -3.24901938e-01\n  1.86967239e-01 -5.25838360e-02 -1.79241210e-01 -6.82048053e-02\n -7.59869814e-01 -1.16304979e-01  2.60825474e-02  5.49947023e-01\n  5.11118531e-01 -3.21805030e-02  3.62528503e-01  3.02243412e-01\n -4.16224778e-01 -4.57558930e-01  2.67596513e-01  1.39575213e-01\n -4.55360889e-01 -3.36997628e-01 -1.70880973e-01 -6.87307358e-01\n  2.65166044e-01  8.10669512e-02 -4.94434774e-01 -2.18971923e-01\n  2.31527641e-01  5.25377393e-01  5.44126406e-02  9.85983729e-01\n -2.57245362e-01  3.84841532e-01 -1.30464941e-01 -2.15178341e-01\n  1.80284232e-02  6.07366383e-01 -6.77037239e-03  6.68540597e-02\n  2.07899511e-01 -6.02385879e-01  7.88081437e-03  1.21424742e-01\n -1.74424678e-01  1.62386760e-01 -1.68968350e-01  3.29777002e-02\n  7.11913466e-01  5.06136835e-01 -2.79960126e-01  3.78042936e-01\n  1.93538681e-01 -2.05842078e-01 -1.04509020e+00 -1.66049853e-01\n -3.05737674e-01  5.06913126e-01 -2.05627859e-01 -3.61299932e-01\n  2.41732508e-01 -8.06059688e-02  1.34280801e-01 -2.82839030e-01\n -8.27971697e-02  9.62806791e-02  6.10395193e-01  7.08382130e-01\n -2.57635981e-01  4.87880886e-01 -1.25509590e-01  1.72361583e-01\n  4.47618037e-01 -1.31307214e-01  8.36575329e-02  4.08919096e-01\n  1.94837138e-01  5.47639012e-01  3.01796943e-02  2.94621617e-01\n -6.14161015e-01 -5.21283031e-01  1.72181398e-01 -3.83201540e-01\n  1.13160245e-01  4.51648176e-01 -4.05597746e-01 -4.00006652e-01\n -2.77255177e-02 -2.60986298e-01 -2.04398346e+00 -1.27269164e-01\n  1.37797296e-02  1.73773631e-01  1.31633684e-01  1.13960743e+00\n -6.30167127e-01 -3.13690126e-01 -6.40297890e-01  1.41916007e-01\n  1.75796092e-01  9.74152446e-01  6.82292134e-02  2.61365980e-01\n  4.81475592e-02  4.35171068e-01  4.55656707e-01  7.40278482e-01\n -2.67520070e-01  3.17796290e-01  3.84448409e-01 -6.26421213e-01]",
         "7559",
         "238432973",
         "15795237"
        ]
       ],
       "shape": {
        "columns": 7,
        "rows": 5
       }
      },
      "text/html": [
       "<div>\n",
       "<style scoped>\n",
       "    .dataframe tbody tr th:only-of-type {\n",
       "        vertical-align: middle;\n",
       "    }\n",
       "\n",
       "    .dataframe tbody tr th {\n",
       "        vertical-align: top;\n",
       "    }\n",
       "\n",
       "    .dataframe thead th {\n",
       "        text-align: right;\n",
       "    }\n",
       "</style>\n",
       "<table border=\"1\" class=\"dataframe\">\n",
       "  <thead>\n",
       "    <tr style=\"text-align: right;\">\n",
       "      <th></th>\n",
       "      <th>item_id</th>\n",
       "      <th>itemname</th>\n",
       "      <th>attributes</th>\n",
       "      <th>fclip_embed</th>\n",
       "      <th>catalogid</th>\n",
       "      <th>variant_id</th>\n",
       "      <th>model_id</th>\n",
       "    </tr>\n",
       "  </thead>\n",
       "  <tbody>\n",
       "    <tr>\n",
       "      <th>0</th>\n",
       "      <td>400301</td>\n",
       "      <td>Очки солнцезащитные</td>\n",
       "      <td>[{'attribute_name': 'Type', 'attribute_value':...</td>\n",
       "      <td>[0.32023853, 0.11766258, -0.784552, 0.4168199,...</td>\n",
       "      <td>17080</td>\n",
       "      <td>243954236</td>\n",
       "      <td>33306429</td>\n",
       "    </tr>\n",
       "    <tr>\n",
       "      <th>1</th>\n",
       "      <td>678602</td>\n",
       "      <td>Футболка GOLDUSTIM Футболка женская</td>\n",
       "      <td>[{'attribute_name': 'Type', 'attribute_value':...</td>\n",
       "      <td>[0.4360095, 0.6339668, 0.029741853, 0.09847632...</td>\n",
       "      <td>7508</td>\n",
       "      <td>8039633</td>\n",
       "      <td>27057398</td>\n",
       "    </tr>\n",
       "    <tr>\n",
       "      <th>8</th>\n",
       "      <td>1841732</td>\n",
       "      <td>Сумка женская через плечо кросс боди маленькая...</td>\n",
       "      <td>[{'attribute_name': 'Type', 'attribute_value':...</td>\n",
       "      <td>[0.845032, -1.2555618, -0.15746951, 0.296685, ...</td>\n",
       "      <td>17002</td>\n",
       "      <td>273455755</td>\n",
       "      <td>12361995</td>\n",
       "    </tr>\n",
       "    <tr>\n",
       "      <th>10</th>\n",
       "      <td>2095808</td>\n",
       "      <td>Футболка Tom Tailor</td>\n",
       "      <td>[{'attribute_name': 'Type', 'attribute_value':...</td>\n",
       "      <td>[0.032773145, -0.75285774, -0.3085317, 0.00191...</td>\n",
       "      <td>7559</td>\n",
       "      <td>289182638</td>\n",
       "      <td>21889175</td>\n",
       "    </tr>\n",
       "    <tr>\n",
       "      <th>11</th>\n",
       "      <td>2141800</td>\n",
       "      <td>Футболка</td>\n",
       "      <td>[{'attribute_name': 'Type', 'attribute_value':...</td>\n",
       "      <td>[0.23843573, -0.773998, -1.0875425, -0.4103259...</td>\n",
       "      <td>7559</td>\n",
       "      <td>238432973</td>\n",
       "      <td>15795237</td>\n",
       "    </tr>\n",
       "  </tbody>\n",
       "</table>\n",
       "</div>"
      ],
      "text/plain": [
       "    item_id                                           itemname  \\\n",
       "0    400301                                Очки солнцезащитные   \n",
       "1    678602                Футболка GOLDUSTIM Футболка женская   \n",
       "8   1841732  Сумка женская через плечо кросс боди маленькая...   \n",
       "10  2095808                                Футболка Tom Tailor   \n",
       "11  2141800                                           Футболка   \n",
       "\n",
       "                                           attributes  \\\n",
       "0   [{'attribute_name': 'Type', 'attribute_value':...   \n",
       "1   [{'attribute_name': 'Type', 'attribute_value':...   \n",
       "8   [{'attribute_name': 'Type', 'attribute_value':...   \n",
       "10  [{'attribute_name': 'Type', 'attribute_value':...   \n",
       "11  [{'attribute_name': 'Type', 'attribute_value':...   \n",
       "\n",
       "                                          fclip_embed  catalogid  variant_id  \\\n",
       "0   [0.32023853, 0.11766258, -0.784552, 0.4168199,...      17080   243954236   \n",
       "1   [0.4360095, 0.6339668, 0.029741853, 0.09847632...       7508     8039633   \n",
       "8   [0.845032, -1.2555618, -0.15746951, 0.296685, ...      17002   273455755   \n",
       "10  [0.032773145, -0.75285774, -0.3085317, 0.00191...       7559   289182638   \n",
       "11  [0.23843573, -0.773998, -1.0875425, -0.4103259...       7559   238432973   \n",
       "\n",
       "    model_id  \n",
       "0   33306429  \n",
       "1   27057398  \n",
       "8   12361995  \n",
       "10  21889175  \n",
       "11  15795237  "
      ]
     },
     "execution_count": 17,
     "metadata": {},
     "output_type": "execute_result"
    }
   ],
   "source": [
    "# items_df\n",
    "items_df_apparel = items_df[items_df['catalogid'].isin(category_df['catalogid'])]\n",
    "items_df_apparel.head(5)"
   ]
  },
  {
   "cell_type": "markdown",
   "id": "554a65f9",
   "metadata": {},
   "source": [
    "## 2. Exploratory Data Analysis (EDA)\n"
   ]
  },
  {
   "cell_type": "code",
   "execution_count": 9,
   "id": "96879345",
   "metadata": {},
   "outputs": [
    {
     "name": "stdout",
     "output_type": "stream",
     "text": [
      "АНАЛИЗ ЗАКАЗОВ\n",
      "==================================================\n",
      "Общее количество заказов: 1,475,216\n"
     ]
    },
    {
     "ename": "TypeError",
     "evalue": "unsupported format string passed to Scalar.__format__",
     "output_type": "error",
     "traceback": [
      "\u001b[31m---------------------------------------------------------------------------\u001b[39m",
      "\u001b[31mTypeError\u001b[39m                                 Traceback (most recent call last)",
      "\u001b[36mCell\u001b[39m\u001b[36m \u001b[39m\u001b[32mIn[9]\u001b[39m\u001b[32m, line 4\u001b[39m\n\u001b[32m      2\u001b[39m \u001b[38;5;28mprint\u001b[39m(\u001b[33m\"\u001b[39m\u001b[33m=\u001b[39m\u001b[33m\"\u001b[39m * \u001b[32m50\u001b[39m)\n\u001b[32m      3\u001b[39m \u001b[38;5;28mprint\u001b[39m(\u001b[33mf\u001b[39m\u001b[33m\"\u001b[39m\u001b[33mОбщее количество заказов: \u001b[39m\u001b[38;5;132;01m{\u001b[39;00m\u001b[38;5;28mlen\u001b[39m(orders_df)\u001b[38;5;132;01m:\u001b[39;00m\u001b[33m,\u001b[39m\u001b[38;5;132;01m}\u001b[39;00m\u001b[33m\"\u001b[39m)\n\u001b[32m----> \u001b[39m\u001b[32m4\u001b[39m \u001b[38;5;28mprint\u001b[39m(\u001b[33mf\u001b[39m\u001b[33m\"\u001b[39m\u001b[33mУникальных пользователей: \u001b[39m\u001b[38;5;132;43;01m{\u001b[39;49;00m\u001b[43morders_df\u001b[49m\u001b[43m[\u001b[49m\u001b[33;43m'\u001b[39;49m\u001b[33;43muser_id\u001b[39;49m\u001b[33;43m'\u001b[39;49m\u001b[43m]\u001b[49m\u001b[43m.\u001b[49m\u001b[43mnunique\u001b[49m\u001b[43m(\u001b[49m\u001b[43m)\u001b[49m\u001b[38;5;132;43;01m:\u001b[39;49;00m\u001b[33;43m,\u001b[39;49m\u001b[38;5;132;43;01m}\u001b[39;49;00m\u001b[33m\"\u001b[39m)\n\u001b[32m      5\u001b[39m \u001b[38;5;28mprint\u001b[39m(\u001b[33mf\u001b[39m\u001b[33m\"\u001b[39m\u001b[33mУникальных товаров: \u001b[39m\u001b[38;5;132;01m{\u001b[39;00morders_df[\u001b[33m'\u001b[39m\u001b[33mitem_id\u001b[39m\u001b[33m'\u001b[39m].nunique()\u001b[38;5;132;01m:\u001b[39;00m\u001b[33m,\u001b[39m\u001b[38;5;132;01m}\u001b[39;00m\u001b[33m\"\u001b[39m)\n\u001b[32m      7\u001b[39m \u001b[38;5;66;03m# Если есть колонка created_date\u001b[39;00m\n",
      "\u001b[31mTypeError\u001b[39m: unsupported format string passed to Scalar.__format__"
     ]
    }
   ],
   "source": [
    "print(\"АНАЛИЗ ЗАКАЗОВ\")\n",
    "print(\"=\" * 50)\n",
    "print(f\"Общее количество заказов: {len(orders_df):,}\")\n",
    "print(f\"Уникальных пользователей: {orders_df['user_id'].nunique():,}\")\n",
    "print(f\"Уникальных товаров: {orders_df['item_id'].nunique():,}\")\n",
    "\n",
    "# Если есть колонка created_date\n",
    "if 'created_date' in orders_df.columns:\n",
    "    print(f\"Период данных: {orders_df['created_date'].min()} - {orders_df['created_date'].max()}\")\n",
    "\n",
    "print(\"\\nРаспределение статусов заказов:\")\n",
    "status_counts = orders_df['last_status'].value_counts()\n",
    "\n",
    "for status, count in status_counts.items():\n",
    "    percentage = count / len(orders_df) * 100\n",
    "    print(f\"  {status}: {count:,} ({percentage:.1f}%)\")"
   ]
  },
  {
   "cell_type": "code",
   "execution_count": null,
   "id": "307bf6c0",
   "metadata": {},
   "outputs": [],
   "source": [
    "print(\"\\nАНАЛИЗ ВЗАИМОДЕЙСТВИЙ\")\n",
    "print(\"=\" * 50)\n",
    "print(f\"Общее количество взаимодействий: {len(tracker_df):,}\")\n",
    "print(f\"Уникальных пользователей: {tracker_df['user_id'].nunique():,}\")\n",
    "print(f\"Уникальных товаров: {tracker_df['item_id'].nunique():,}\")\n",
    "\n",
    "print(\"\\nРаспределение типов действий:\")\n",
    "action_counts = tracker_df['action_widget'].value_counts()\n",
    "for action, count in action_counts.items():\n",
    "    percentage = count / len(tracker_df) * 100\n",
    "    print(f\"  {action}: {count:,} ({percentage:.1f}%)\")"
   ]
  },
  {
   "cell_type": "code",
   "execution_count": null,
   "id": "a01950fe",
   "metadata": {},
   "outputs": [],
   "source": [
    "print(\"\\nАНАЛИЗ ТОВАРОВ\")\n",
    "print(\"=\" * 50)\n",
    "print(f\"Общее количество товаров: {len(items_df_apparel):,}\")\n",
    "print(f\"Товары с эмбеддингами: {items_df_apparel['fclip_embed'].notna().sum():,}\")\n",
    "\n",
    "if 'attributes' in items_df_apparel.columns:\n",
    "    print(f\"Товары с атрибутами: {items_df_apparel['attributes'].notna().sum():,}\")\n",
    "\n",
    "print(\"\\nТоп-10 категорий:\")\n",
    "top_categories = items_df_apparel['catalogid'].value_counts().head(10)\n",
    "for cat_id, count in top_categories.items():\n",
    "    print(f\"  Категория {cat_id}: {count:,}\")"
   ]
  },
  {
   "cell_type": "markdown",
   "id": "1cf4432b",
   "metadata": {},
   "source": [
    "## 3. Загрузка тестовых пользователей"
   ]
  },
  {
   "cell_type": "code",
   "execution_count": null,
   "id": "7f8ec2c1",
   "metadata": {},
   "outputs": [],
   "source": [
    "def load_test_users():\n",
    "\n",
    "    print(\"Загружаем тестовых пользователей...\")\n",
    "    \n",
    "    test_files = glob.glob('/home/root6/python/e_cup/rec_system/data/raw/ml_ozon_recsys_test_for_participants/test_for_participants/*.parquet')\n",
    "    all_users = set()\n",
    "    \n",
    "    for file_path in tqdm(test_files, desc=\"Обработка тестовых файлов\"):\n",
    "        df = pd.read_parquet(file_path)\n",
    "        all_users.update(df['user_id'].unique())\n",
    "    \n",
    "    print(f\"Найдено уникальных тестовых пользователей: {len(all_users):,}\")\n",
    "    return list(all_users)\n",
    "\n",
    "test_users = load_test_users()"
   ]
  },
  {
   "cell_type": "code",
   "execution_count": null,
   "id": "aaca875e",
   "metadata": {},
   "outputs": [],
   "source": [
    "test_users[:5]"
   ]
  },
  {
   "cell_type": "markdown",
   "id": "82f117d9",
   "metadata": {},
   "source": [
    "## 4. Построение модели"
   ]
  },
  {
   "cell_type": "markdown",
   "id": "71950373",
   "metadata": {},
   "source": []
  }
 ],
 "metadata": {
  "kernelspec": {
   "display_name": "venv",
   "language": "python",
   "name": "python3"
  },
  "language_info": {
   "codemirror_mode": {
    "name": "ipython",
    "version": 3
   },
   "file_extension": ".py",
   "mimetype": "text/x-python",
   "name": "python",
   "nbconvert_exporter": "python",
   "pygments_lexer": "ipython3",
   "version": "3.12.3"
  }
 },
 "nbformat": 4,
 "nbformat_minor": 5
}
