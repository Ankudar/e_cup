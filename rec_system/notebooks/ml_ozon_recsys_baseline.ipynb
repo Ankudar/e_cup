{
 "cells": [
  {
   "cell_type": "markdown",
   "id": "c958869b",
   "metadata": {},
   "source": [
    "\n",
    "# OZON RecSys Baseline - Рекомендательная система для категории Apparel\n",
    "Этот ноутбук содержит базовое решение для задачи предсказания следующей покупки пользователя в категории одежды, обуви и аксессуаров.\n",
    "\n",
    "## Задача\n",
    "- Предсказать топ-100 товаров для каждого пользователя из тестовой выборки\n",
    "- Метрика оценки: NDCG@100\n",
    "- Данные: ~38GB в формате parquet, 1.6B взаимодействий, 19M заказов\n"
   ]
  },
  {
   "cell_type": "code",
   "execution_count": null,
   "id": "4bfc915a",
   "metadata": {},
   "outputs": [],
   "source": [
    "import torch\n",
    "import pandas as pd\n",
    "import numpy as np\n",
    "import glob\n",
    "from pathlib import Path\n",
    "from collections import defaultdict\n",
    "import subprocess\n",
    "import json\n",
    "import matplotlib.pyplot as plt\n",
    "import seaborn as sns\n",
    "from tqdm import tqdm\n",
    "import polars as pl\n",
    "import os\n",
    "plt.style.use('seaborn-v0_8')\n",
    "sns.set_palette(\"husl\")"
   ]
  },
  {
   "cell_type": "code",
   "execution_count": null,
   "id": "79dfbdec",
   "metadata": {},
   "outputs": [],
   "source": [
    "device = torch.device(\"cuda\" if torch.cuda.is_available() else \"cpu\")\n",
    "print(device)"
   ]
  },
  {
   "cell_type": "code",
   "execution_count": null,
   "id": "07e09558",
   "metadata": {},
   "outputs": [],
   "source": [
    "BASE_DIR = os.path.dirname(os.path.dirname(os.getcwd()))\n",
    "DATA_DIR = os.path.join(BASE_DIR, \"data/raw/ml_ozon_recsys_train\")"
   ]
  },
  {
   "cell_type": "markdown",
   "id": "80f7b779",
   "metadata": {},
   "source": [
    "## 1. Загрузка и анализ данных\n"
   ]
  },
  {
   "cell_type": "code",
   "execution_count": null,
   "id": "e5ba60ca",
   "metadata": {},
   "outputs": [],
   "source": [
    "import cudf\n",
    "\n",
    "def load_train_data():\n",
    "    print(\"Загружаем тренировочные данные...\")\n",
    "\n",
    "    # чтение parquet сразу на GPU\n",
    "    orders = cudf.read_parquet(\"/home/root6/python/e-cup/rec_system/data/raw/ml_ozon_recsys_train/final_apparel_orders_data/*.parquet\")\n",
    "    tracker = cudf.read_parquet(\"/home/root6/python/e-cup/rec_system/data/raw/ml_ozon_recsys_train/final_apparel_tracker_data/*.parquet\")\n",
    "    items = cudf.read_parquet(\"/home/root6/python/e-cup/rec_system/data/raw/ml_ozon_recsys_train/final_apparel_items_data/*.parquet\")\n",
    "\n",
    "    # количество строк\n",
    "    print(f\"Заказы: ~{len(orders):,}\")\n",
    "    print(f\"Взаимодействия: ~{len(tracker):,}\")\n",
    "    print(f\"Товары: ~{len(items):,}\")\n",
    "\n",
    "    return orders, tracker, items"
   ]
  },
  {
   "cell_type": "code",
   "execution_count": null,
   "id": "489f590b",
   "metadata": {},
   "outputs": [],
   "source": [
    "orders_df, tracker_df, items_df = load_train_data()"
   ]
  },
  {
   "cell_type": "markdown",
   "id": "554a65f9",
   "metadata": {},
   "source": [
    "## 2. Exploratory Data Analysis (EDA)\n"
   ]
  },
  {
   "cell_type": "code",
   "execution_count": null,
   "id": "96879345",
   "metadata": {},
   "outputs": [],
   "source": [
    "summary = tracker_df.select([\n",
    "    pl.count().alias(\"total\"),\n",
    "    pl.col(\"user_id\").n_unique().alias(\"unique_users\"),\n",
    "    pl.col(\"item_id\").n_unique().alias(\"unique_items\"),\n",
    "])\n",
    "print(summary.collect())\n",
    "\n",
    "action_counts = tracker_df.group_by(\"action_type\").count()\n",
    "print(action_counts.collect())"
   ]
  },
  {
   "cell_type": "code",
   "execution_count": null,
   "id": "307bf6c0",
   "metadata": {},
   "outputs": [],
   "source": [
    "summary = tracker_df.select([\n",
    "    pl.count().alias(\"total\"),\n",
    "    pl.col(\"user_id\").n_unique().alias(\"unique_users\"),\n",
    "    pl.col(\"item_id\").n_unique().alias(\"unique_items\"),\n",
    "]).collect()\n",
    "print(summary)\n",
    "\n",
    "action_counts = (\n",
    "    tracker_df.group_by(\"action_type\")\n",
    "    .agg(pl.count().alias(\"count\"))\n",
    "    .with_columns(\n",
    "        (pl.col(\"count\") / pl.sum(\"count\")).alias(\"percentage\")\n",
    "    )\n",
    "    .collect()\n",
    ")\n",
    "print(action_counts)"
   ]
  },
  {
   "cell_type": "code",
   "execution_count": null,
   "id": "a01950fe",
   "metadata": {},
   "outputs": [],
   "source": [
    "print(\"\\nАНАЛИЗ ТОВАРОВ\")\n",
    "print(\"=\" * 50)\n",
    "\n",
    "items = items_df.collect()  # материализация\n",
    "\n",
    "print(f\"Общее количество товаров: {items.height:,}\")\n",
    "print(f\"Товары с названием: {items['itemname'].is_not_null().sum():,}\")\n",
    "print(f\"Товары с эмбеддингами: {items['fclip_embed'].is_not_null().sum():,}\")\n",
    "\n",
    "if \"attributes\" in items.columns:\n",
    "    print(f\"Товары с атрибутами: {items['attributes'].is_not_null().sum():,}\")\n",
    "\n",
    "print(\"\\nТоп-10 категорий:\")\n",
    "top_categories = (\n",
    "    items.group_by(\"catalogid\")\n",
    "    .agg(pl.count().alias(\"count\"))\n",
    "    .sort(\"count\", descending=True)\n",
    "    .head(10)\n",
    ")\n",
    "for cat_id, count in top_categories.iter_rows():\n",
    "    print(f\"  Категория {cat_id}: {count:,}\")\n"
   ]
  },
  {
   "cell_type": "code",
   "execution_count": null,
   "id": "5f9fb19b",
   "metadata": {},
   "outputs": [],
   "source": [
    "fig, axes = plt.subplots(2, 2, figsize=(15, 10))\n",
    "\n",
    "# --- Orders ---\n",
    "orders = orders_df.collect().to_pandas()  # в pandas для удобства\n",
    "orders['created_date'] = pd.to_datetime(orders['created_date'])\n",
    "daily_orders = orders.groupby('created_date').size()\n",
    "axes[0, 0].plot(daily_orders.index, daily_orders.values)\n",
    "axes[0, 0].set_title('Количество заказов по дням')\n",
    "axes[0, 0].tick_params(axis='x', rotation=45)\n",
    "\n",
    "# --- Status counts ---\n",
    "status_counts = orders['status'].value_counts()\n",
    "status_counts.plot(kind='bar', ax=axes[0, 1])\n",
    "axes[0, 1].set_title('Распределение статусов заказов')\n",
    "axes[0, 1].tick_params(axis='x', rotation=45)\n",
    "\n",
    "# --- Action counts ---\n",
    "tracker = tracker_df.collect().to_pandas()\n",
    "action_counts = tracker['action_type'].value_counts()\n",
    "action_counts.plot(kind='bar', ax=axes[1, 0])\n",
    "axes[1, 0].set_title('Распределение типов действий')\n",
    "axes[1, 0].tick_params(axis='x', rotation=45)\n",
    "\n",
    "# --- User activity ---\n",
    "user_activity = tracker['user_id'].value_counts()\n",
    "axes[1, 1].hist(user_activity.values, bins=50, alpha=0.7)\n",
    "axes[1, 1].set_title('Распределение активности пользователей')\n",
    "axes[1, 1].set_xlabel('Количество действий')\n",
    "axes[1, 1].set_ylabel('Количество пользователей')\n",
    "\n",
    "plt.tight_layout()\n",
    "plt.show()"
   ]
  },
  {
   "cell_type": "markdown",
   "id": "1cf4432b",
   "metadata": {},
   "source": [
    "## 3. Загрузка тестовых пользователей"
   ]
  },
  {
   "cell_type": "code",
   "execution_count": null,
   "id": "7f8ec2c1",
   "metadata": {},
   "outputs": [],
   "source": [
    "def load_test_users():\n",
    "\n",
    "    print(\"Загружаем тестовых пользователей...\")\n",
    "    \n",
    "    test_files = glob.glob('test_for_participants/*/*.parquet')\n",
    "    all_users = set()\n",
    "    \n",
    "    for file_path in tqdm(test_files, desc=\"Обработка тестовых файлов\"):\n",
    "        df = pd.read_parquet(file_path)\n",
    "        all_users.update(df['user_id'].unique())\n",
    "    \n",
    "    print(f\"Найдено уникальных тестовых пользователей: {len(all_users):,}\")\n",
    "    return list(all_users)\n",
    "\n",
    "test_users = load_test_users()"
   ]
  },
  {
   "cell_type": "markdown",
   "id": "82f117d9",
   "metadata": {},
   "source": [
    "## 4. Построение модели на основе популярности"
   ]
  },
  {
   "cell_type": "code",
   "execution_count": null,
   "id": "89816d23",
   "metadata": {},
   "outputs": [],
   "source": [
    "def build_popularity_model(orders_df, tracker_df):\n",
    "    print(\"Строим модель популярности...\")\n",
    "    \n",
    "    delivered_orders = orders_df[orders_df['last_status'] == 'delivered_orders']\n",
    "    print(f\"Доставленных заказов: {len(delivered_orders):,}\")\n",
    "    \n",
    "    item_popularity = delivered_orders['item_id'].value_counts().to_dict()\n",
    "    print(f\"Уникальных купленных товаров: {len(item_popularity):,}\")\n",
    "    \n",
    "    page_views = tracker_df[tracker_df['action_type'] == 'page_view']\n",
    "    item_views = page_views['item_id'].value_counts().to_dict()\n",
    "    print(f\"Уникальных просмотренных товаров: {len(item_views):,}\")\n",
    "    \n",
    "    combined_popularity = defaultdict(float)\n",
    "    for item_id, count in item_popularity.items():\n",
    "        combined_popularity[item_id] += count * 3.0\n",
    "    \n",
    "    for item_id, count in item_views.items():\n",
    "        combined_popularity[item_id] += count * 1.0\n",
    "    \n",
    "    popular_items = sorted(combined_popularity.items(), key=lambda x: x[1], reverse=True)\n",
    "    top_items = [item_id for item_id, score in popular_items[:200]]\n",
    "    \n",
    "    print(f\"Отобрано топ-{len(top_items)} популярных товаров\")\n",
    "    \n",
    "    top_10_items = popular_items[:10]\n",
    "    print(\"\\nТоп-10 самых популярных товаров:\")\n",
    "    for i, (item_id, score) in enumerate(top_10_items, 1):\n",
    "        print(f\"  {i}. Товар {item_id}: {score:.1f} баллов\")\n",
    "    \n",
    "    return top_items\n",
    "\n",
    "popular_items = build_popularity_model(orders_df, tracker_df)\n"
   ]
  },
  {
   "cell_type": "code",
   "execution_count": null,
   "id": "d88d8665",
   "metadata": {},
   "outputs": [],
   "source": [
    "def build_user_preferences(orders_df, tracker_df, test_users):\n",
    "\n",
    "    print(\"Строим пользовательские предпочтения...\")\n",
    "    \n",
    "    delivered_orders = orders_df[orders_df['last_status'] == 'delivered_orders']\n",
    "    user_purchased_items = delivered_orders.groupby('user_id')['item_id'].apply(list).to_dict()\n",
    "    print(f\"Пользователей с покупками: {len(user_purchased_items):,}\")\n",
    "    \n",
    "    user_viewed_items = tracker_df[tracker_df['action_type'] == 'page_view'].groupby('user_id')['item_id'].apply(list).to_dict()\n",
    "    print(f\"Пользователей с просмотрами: {len(user_viewed_items):,}\")\n",
    "    \n",
    "    user_preferences = {}\n",
    "    users_with_history = 0\n",
    "    \n",
    "    for user_id in tqdm(test_users, desc=\"Обработка предпочтений\"):\n",
    "        preferences = set()\n",
    "        \n",
    "        if user_id in user_purchased_items:\n",
    "            preferences.update(user_purchased_items[user_id])\n",
    "        \n",
    "        if user_id in user_viewed_items:\n",
    "            preferences.update(user_viewed_items[user_id][:50])\n",
    "        \n",
    "        user_preferences[user_id] = list(preferences)\n",
    "        \n",
    "        if len(preferences) > 0:\n",
    "            users_with_history += 1\n",
    "    \n",
    "    print(f\"Построены предпочтения для {len(user_preferences):,} пользователей\")\n",
    "    print(f\"Пользователей с историей: {users_with_history:,} ({users_with_history/len(test_users)*100:.1f}%)\")\n",
    "    \n",
    "    return user_preferences\n",
    "\n",
    "user_preferences = build_user_preferences(orders_df, tracker_df, test_users)\n"
   ]
  },
  {
   "cell_type": "markdown",
   "id": "9181f413",
   "metadata": {},
   "source": [
    "## 6. Генерация рекомендаций"
   ]
  },
  {
   "cell_type": "code",
   "execution_count": null,
   "id": "e3c92f0e",
   "metadata": {},
   "outputs": [],
   "source": [
    "def generate_recommendations(test_users, popular_items, user_preferences):\n",
    "\n",
    "    print(\"Генерируем рекомендации...\")\n",
    "    \n",
    "    recommendations = {}\n",
    "    \n",
    "    for user_id in tqdm(test_users, desc=\"Создание рекомендаций\"):\n",
    "        user_recs = []\n",
    "        \n",
    "        user_items = set(user_preferences.get(user_id, []))\n",
    "        \n",
    "        available_items = [item for item in popular_items if item not in user_items]\n",
    "        \n",
    "        if len(available_items) >= 100:\n",
    "            user_recs = available_items[:100]\n",
    "        else:\n",
    "            user_recs = available_items + popular_items[:100-len(available_items)]\n",
    "        \n",
    "        if len(user_recs) < 100:\n",
    "            remaining = 100 - len(user_recs)\n",
    "            random_items = np.random.choice(popular_items, remaining, replace=True)\n",
    "            user_recs.extend(random_items)\n",
    "        \n",
    "        recommendations[user_id] = user_recs[:100]\n",
    "    \n",
    "    print(f\"Сгенерированы рекомендации для {len(recommendations):,} пользователей\")\n",
    "    \n",
    "    rec_lengths = [len(recs) for recs in recommendations.values()]\n",
    "    print(f\"Средняя длина рекомендаций: {np.mean(rec_lengths):.1f}\")\n",
    "    print(f\"Все рекомендации имеют 100 товаров: {all(l == 100 for l in rec_lengths)}\")\n",
    "    \n",
    "    return recommendations\n",
    "\n",
    "recommendations = generate_recommendations(test_users, popular_items, user_preferences)\n"
   ]
  },
  {
   "cell_type": "markdown",
   "id": "c3da2fef",
   "metadata": {},
   "source": [
    "## 7. Создание файла submission"
   ]
  },
  {
   "cell_type": "code",
   "execution_count": null,
   "id": "6d4e1532",
   "metadata": {},
   "outputs": [],
   "source": [
    "def create_submission(recommendations, filename='baseline_submission.csv'):\n",
    "\n",
    "    print(f\"Создаем файл submission: {filename}\")\n",
    "    \n",
    "    submission_data = []\n",
    "    for user_id, items in tqdm(recommendations.items(), desc=\"Формирование submission\"):\n",
    "        submission_data.append({\n",
    "            'user_id': user_id,\n",
    "            'item_id_1 item_id_2 ... item_id_100': ' '.join(map(str, items))\n",
    "        })\n",
    "    \n",
    "    submission_df = pd.DataFrame(submission_data)\n",
    "    submission_df.to_csv(filename, index=False)\n",
    "    \n",
    "    print(f\"Сохранен submission с {len(submission_df):,} пользователями\")\n",
    "    print(f\"Размер файла: {Path(filename).stat().st_size / 1024 / 1024:.1f} MB\")\n",
    "    \n",
    "    return filename\n",
    "\n",
    "submission_file = create_submission(recommendations)"
   ]
  }
 ],
 "metadata": {
  "kernelspec": {
   "display_name": ".venv",
   "language": "python",
   "name": "python3"
  },
  "language_info": {
   "codemirror_mode": {
    "name": "ipython",
    "version": 3
   },
   "file_extension": ".py",
   "mimetype": "text/x-python",
   "name": "python",
   "nbconvert_exporter": "python",
   "pygments_lexer": "ipython3",
   "version": "3.12.3"
  }
 },
 "nbformat": 4,
 "nbformat_minor": 5
}
